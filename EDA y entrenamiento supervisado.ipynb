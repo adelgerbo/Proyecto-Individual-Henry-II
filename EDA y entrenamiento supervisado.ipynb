{
 "cells": [
  {
   "cell_type": "code",
   "execution_count": 224,
   "metadata": {},
   "outputs": [],
   "source": [
    "# Importamos librerias necesarias\n",
    "import pandas as pd\n",
    "import numpy as np\n",
    "import seaborn as sns\n",
    "import category_encoders as ce\n",
    "import matplotlib.pyplot as plt\n",
    "from sklearn.model_selection import train_test_split\n",
    "from sklearn.preprocessing import StandardScaler\n",
    "from sklearn.tree import DecisionTreeClassifier\n",
    "from sklearn.model_selection import cross_validate\n",
    "from IPython.display import clear_output\n",
    "from sklearn.metrics import accuracy_score\n",
    "from sklearn.metrics import roc_curve, auc"
   ]
  },
  {
   "cell_type": "code",
   "execution_count": 123,
   "metadata": {},
   "outputs": [],
   "source": [
    "# Importamos el set de testeo provisto\n",
    "inmuebles = pd.read_parquet(\"train.parquet\")\n",
    "testeo_henry = pd.read_parquet(\"test.parquet\")"
   ]
  },
  {
   "cell_type": "code",
   "execution_count": 124,
   "metadata": {},
   "outputs": [
    {
     "data": {
      "text/html": [
       "<div>\n",
       "<style scoped>\n",
       "    .dataframe tbody tr th:only-of-type {\n",
       "        vertical-align: middle;\n",
       "    }\n",
       "\n",
       "    .dataframe tbody tr th {\n",
       "        vertical-align: top;\n",
       "    }\n",
       "\n",
       "    .dataframe thead th {\n",
       "        text-align: right;\n",
       "    }\n",
       "</style>\n",
       "<table border=\"1\" class=\"dataframe\">\n",
       "  <thead>\n",
       "    <tr style=\"text-align: right;\">\n",
       "      <th></th>\n",
       "      <th>id</th>\n",
       "      <th>url</th>\n",
       "      <th>region</th>\n",
       "      <th>region_url</th>\n",
       "      <th>price</th>\n",
       "      <th>type</th>\n",
       "      <th>sqfeet</th>\n",
       "      <th>beds</th>\n",
       "      <th>baths</th>\n",
       "      <th>cats_allowed</th>\n",
       "      <th>...</th>\n",
       "      <th>wheelchair_access</th>\n",
       "      <th>electric_vehicle_charge</th>\n",
       "      <th>comes_furnished</th>\n",
       "      <th>laundry_options</th>\n",
       "      <th>parking_options</th>\n",
       "      <th>image_url</th>\n",
       "      <th>description</th>\n",
       "      <th>lat</th>\n",
       "      <th>long</th>\n",
       "      <th>state</th>\n",
       "    </tr>\n",
       "  </thead>\n",
       "  <tbody>\n",
       "    <tr>\n",
       "      <th>0</th>\n",
       "      <td>7048013474</td>\n",
       "      <td>https://boise.craigslist.org/apa/d/very-nice-b...</td>\n",
       "      <td>boise</td>\n",
       "      <td>https://boise.craigslist.org</td>\n",
       "      <td>1350</td>\n",
       "      <td>house</td>\n",
       "      <td>1200</td>\n",
       "      <td>2</td>\n",
       "      <td>2.0</td>\n",
       "      <td>1</td>\n",
       "      <td>...</td>\n",
       "      <td>0</td>\n",
       "      <td>0</td>\n",
       "      <td>0</td>\n",
       "      <td>w/d in unit</td>\n",
       "      <td>detached garage</td>\n",
       "      <td>https://images.craigslist.org/00B0B_cPiJMEheZe...</td>\n",
       "      <td>Super cute row house in the Boise bench area. ...</td>\n",
       "      <td>43.5851</td>\n",
       "      <td>-116.2250</td>\n",
       "      <td>id</td>\n",
       "    </tr>\n",
       "    <tr>\n",
       "      <th>1</th>\n",
       "      <td>7043931179</td>\n",
       "      <td>https://cosprings.craigslist.org/apa/d/colorad...</td>\n",
       "      <td>colorado springs</td>\n",
       "      <td>https://cosprings.craigslist.org</td>\n",
       "      <td>1115</td>\n",
       "      <td>apartment</td>\n",
       "      <td>694</td>\n",
       "      <td>1</td>\n",
       "      <td>1.0</td>\n",
       "      <td>1</td>\n",
       "      <td>...</td>\n",
       "      <td>0</td>\n",
       "      <td>0</td>\n",
       "      <td>0</td>\n",
       "      <td>w/d in unit</td>\n",
       "      <td>carport</td>\n",
       "      <td>https://images.craigslist.org/00R0R_5XAoSKvfrz...</td>\n",
       "      <td>Windtree Apartment Homes currently has a spaci...</td>\n",
       "      <td>38.9137</td>\n",
       "      <td>-104.7800</td>\n",
       "      <td>co</td>\n",
       "    </tr>\n",
       "    <tr>\n",
       "      <th>2</th>\n",
       "      <td>7048254516</td>\n",
       "      <td>https://norfolk.craigslist.org/apa/d/virginia-...</td>\n",
       "      <td>norfolk / hampton roads</td>\n",
       "      <td>https://norfolk.craigslist.org</td>\n",
       "      <td>1129</td>\n",
       "      <td>apartment</td>\n",
       "      <td>900</td>\n",
       "      <td>2</td>\n",
       "      <td>2.0</td>\n",
       "      <td>0</td>\n",
       "      <td>...</td>\n",
       "      <td>0</td>\n",
       "      <td>0</td>\n",
       "      <td>0</td>\n",
       "      <td>w/d hookups</td>\n",
       "      <td>off-street parking</td>\n",
       "      <td>https://images.craigslist.org/00f0f_3ZbTFrsHpZ...</td>\n",
       "      <td>Call Today!  show contact info   Indian Lakes ...</td>\n",
       "      <td>36.7922</td>\n",
       "      <td>-76.1643</td>\n",
       "      <td>va</td>\n",
       "    </tr>\n",
       "    <tr>\n",
       "      <th>3</th>\n",
       "      <td>7041032577</td>\n",
       "      <td>https://phoenix.craigslist.org/nph/apa/d/phoen...</td>\n",
       "      <td>phoenix</td>\n",
       "      <td>https://phoenix.craigslist.org</td>\n",
       "      <td>1580</td>\n",
       "      <td>house</td>\n",
       "      <td>1469</td>\n",
       "      <td>3</td>\n",
       "      <td>2.0</td>\n",
       "      <td>1</td>\n",
       "      <td>...</td>\n",
       "      <td>0</td>\n",
       "      <td>0</td>\n",
       "      <td>0</td>\n",
       "      <td>w/d in unit</td>\n",
       "      <td>None</td>\n",
       "      <td>https://images.craigslist.org/00f0f_aXV5Dkd5qk...</td>\n",
       "      <td>Cody Anderson Two Brothers Realty License #: S...</td>\n",
       "      <td>33.5623</td>\n",
       "      <td>-112.0560</td>\n",
       "      <td>az</td>\n",
       "    </tr>\n",
       "    <tr>\n",
       "      <th>4</th>\n",
       "      <td>7048588701</td>\n",
       "      <td>https://nashville.craigslist.org/apa/d/antioch...</td>\n",
       "      <td>nashville</td>\n",
       "      <td>https://nashville.craigslist.org</td>\n",
       "      <td>995</td>\n",
       "      <td>apartment</td>\n",
       "      <td>700</td>\n",
       "      <td>1</td>\n",
       "      <td>1.0</td>\n",
       "      <td>1</td>\n",
       "      <td>...</td>\n",
       "      <td>0</td>\n",
       "      <td>0</td>\n",
       "      <td>0</td>\n",
       "      <td>w/d in unit</td>\n",
       "      <td>carport</td>\n",
       "      <td>https://images.craigslist.org/00606_gYOGKClOHv...</td>\n",
       "      <td>To schedule a tour We now book our tour appoin...</td>\n",
       "      <td>36.0595</td>\n",
       "      <td>-86.6592</td>\n",
       "      <td>tn</td>\n",
       "    </tr>\n",
       "  </tbody>\n",
       "</table>\n",
       "<p>5 rows × 22 columns</p>\n",
       "</div>"
      ],
      "text/plain": [
       "           id                                                url  \\\n",
       "0  7048013474  https://boise.craigslist.org/apa/d/very-nice-b...   \n",
       "1  7043931179  https://cosprings.craigslist.org/apa/d/colorad...   \n",
       "2  7048254516  https://norfolk.craigslist.org/apa/d/virginia-...   \n",
       "3  7041032577  https://phoenix.craigslist.org/nph/apa/d/phoen...   \n",
       "4  7048588701  https://nashville.craigslist.org/apa/d/antioch...   \n",
       "\n",
       "                    region                        region_url  price  \\\n",
       "0                    boise      https://boise.craigslist.org   1350   \n",
       "1         colorado springs  https://cosprings.craigslist.org   1115   \n",
       "2  norfolk / hampton roads    https://norfolk.craigslist.org   1129   \n",
       "3                  phoenix    https://phoenix.craigslist.org   1580   \n",
       "4                nashville  https://nashville.craigslist.org    995   \n",
       "\n",
       "        type  sqfeet  beds  baths  cats_allowed  ...  wheelchair_access  \\\n",
       "0      house    1200     2    2.0             1  ...                  0   \n",
       "1  apartment     694     1    1.0             1  ...                  0   \n",
       "2  apartment     900     2    2.0             0  ...                  0   \n",
       "3      house    1469     3    2.0             1  ...                  0   \n",
       "4  apartment     700     1    1.0             1  ...                  0   \n",
       "\n",
       "   electric_vehicle_charge  comes_furnished  laundry_options  \\\n",
       "0                        0                0      w/d in unit   \n",
       "1                        0                0      w/d in unit   \n",
       "2                        0                0      w/d hookups   \n",
       "3                        0                0      w/d in unit   \n",
       "4                        0                0      w/d in unit   \n",
       "\n",
       "      parking_options                                          image_url  \\\n",
       "0     detached garage  https://images.craigslist.org/00B0B_cPiJMEheZe...   \n",
       "1             carport  https://images.craigslist.org/00R0R_5XAoSKvfrz...   \n",
       "2  off-street parking  https://images.craigslist.org/00f0f_3ZbTFrsHpZ...   \n",
       "3                None  https://images.craigslist.org/00f0f_aXV5Dkd5qk...   \n",
       "4             carport  https://images.craigslist.org/00606_gYOGKClOHv...   \n",
       "\n",
       "                                         description      lat      long  state  \n",
       "0  Super cute row house in the Boise bench area. ...  43.5851 -116.2250     id  \n",
       "1  Windtree Apartment Homes currently has a spaci...  38.9137 -104.7800     co  \n",
       "2  Call Today!  show contact info   Indian Lakes ...  36.7922  -76.1643     va  \n",
       "3  Cody Anderson Two Brothers Realty License #: S...  33.5623 -112.0560     az  \n",
       "4  To schedule a tour We now book our tour appoin...  36.0595  -86.6592     tn  \n",
       "\n",
       "[5 rows x 22 columns]"
      ]
     },
     "execution_count": 124,
     "metadata": {},
     "output_type": "execute_result"
    }
   ],
   "source": [
    "# Revisamos las primeras lineas del dataset\n",
    "inmuebles.head()\n"
   ]
  },
  {
   "cell_type": "code",
   "execution_count": 125,
   "metadata": {},
   "outputs": [
    {
     "data": {
      "text/plain": [
       "id                              0\n",
       "url                             0\n",
       "region                          0\n",
       "region_url                      0\n",
       "price                           0\n",
       "type                            0\n",
       "sqfeet                          0\n",
       "beds                            0\n",
       "baths                           0\n",
       "cats_allowed                    0\n",
       "dogs_allowed                    0\n",
       "smoking_allowed                 0\n",
       "wheelchair_access               0\n",
       "electric_vehicle_charge         0\n",
       "comes_furnished                 0\n",
       "laundry_options             71171\n",
       "parking_options            126682\n",
       "image_url                       0\n",
       "description                     2\n",
       "lat                          1722\n",
       "long                         1722\n",
       "state                           0\n",
       "dtype: int64"
      ]
     },
     "execution_count": 125,
     "metadata": {},
     "output_type": "execute_result"
    }
   ],
   "source": [
    "# Revisamos existencia de valores nulos\n",
    "inmuebles.isnull().sum()"
   ]
  },
  {
   "cell_type": "code",
   "execution_count": 126,
   "metadata": {},
   "outputs": [],
   "source": [
    "# Vamos a crear la nueva columna con las dos categorias de precios (1 = low, 0 = medium & high)\n",
    "conditions = [\n",
    "    (inmuebles['price'] >= 0) & (inmuebles['price'] <= 999),\n",
    "    (inmuebles['price'] >= 1000)]\n",
    "choices = ['1', '0']\n",
    "inmuebles['category_price'] = np.select(conditions, choices).astype(int)"
   ]
  },
  {
   "cell_type": "code",
   "execution_count": 127,
   "metadata": {},
   "outputs": [
    {
     "name": "stdout",
     "output_type": "stream",
     "text": [
      "<class 'pandas.core.frame.DataFrame'>\n",
      "RangeIndex: 346479 entries, 0 to 346478\n",
      "Data columns (total 23 columns):\n",
      " #   Column                   Non-Null Count   Dtype  \n",
      "---  ------                   --------------   -----  \n",
      " 0   id                       346479 non-null  int64  \n",
      " 1   url                      346479 non-null  object \n",
      " 2   region                   346479 non-null  object \n",
      " 3   region_url               346479 non-null  object \n",
      " 4   price                    346479 non-null  int64  \n",
      " 5   type                     346479 non-null  object \n",
      " 6   sqfeet                   346479 non-null  int64  \n",
      " 7   beds                     346479 non-null  int64  \n",
      " 8   baths                    346479 non-null  float64\n",
      " 9   cats_allowed             346479 non-null  int64  \n",
      " 10  dogs_allowed             346479 non-null  int64  \n",
      " 11  smoking_allowed          346479 non-null  int64  \n",
      " 12  wheelchair_access        346479 non-null  int64  \n",
      " 13  electric_vehicle_charge  346479 non-null  int64  \n",
      " 14  comes_furnished          346479 non-null  int64  \n",
      " 15  laundry_options          275308 non-null  object \n",
      " 16  parking_options          219797 non-null  object \n",
      " 17  image_url                346479 non-null  object \n",
      " 18  description              346477 non-null  object \n",
      " 19  lat                      344757 non-null  float64\n",
      " 20  long                     344757 non-null  float64\n",
      " 21  state                    346479 non-null  object \n",
      " 22  category_price           346479 non-null  int32  \n",
      "dtypes: float64(3), int32(1), int64(10), object(9)\n",
      "memory usage: 59.5+ MB\n"
     ]
    }
   ],
   "source": [
    "inmuebles.info()"
   ]
  },
  {
   "cell_type": "code",
   "execution_count": 128,
   "metadata": {},
   "outputs": [
    {
     "data": {
      "text/plain": [
       "array([0, 1])"
      ]
     },
     "execution_count": 128,
     "metadata": {},
     "output_type": "execute_result"
    }
   ],
   "source": [
    "# Verificamos valores de la nueva columna y existencia de nulos\n",
    "inmuebles.category_price.unique()"
   ]
  },
  {
   "cell_type": "code",
   "execution_count": 129,
   "metadata": {},
   "outputs": [
    {
     "data": {
      "text/plain": [
       "id                              0\n",
       "url                             0\n",
       "region                          0\n",
       "region_url                      0\n",
       "price                           0\n",
       "type                            0\n",
       "sqfeet                          0\n",
       "beds                            0\n",
       "baths                           0\n",
       "cats_allowed                    0\n",
       "dogs_allowed                    0\n",
       "smoking_allowed                 0\n",
       "wheelchair_access               0\n",
       "electric_vehicle_charge         0\n",
       "comes_furnished                 0\n",
       "laundry_options             71171\n",
       "parking_options            126682\n",
       "image_url                       0\n",
       "description                     2\n",
       "lat                          1722\n",
       "long                         1722\n",
       "state                           0\n",
       "category_price                  0\n",
       "dtype: int64"
      ]
     },
     "execution_count": 129,
     "metadata": {},
     "output_type": "execute_result"
    }
   ],
   "source": [
    "inmuebles.isnull().sum()"
   ]
  },
  {
   "cell_type": "code",
   "execution_count": 130,
   "metadata": {},
   "outputs": [
    {
     "data": {
      "text/plain": [
       "<AxesSubplot: xlabel='category_price', ylabel='count'>"
      ]
     },
     "execution_count": 130,
     "metadata": {},
     "output_type": "execute_result"
    },
    {
     "data": {
      "image/png": "[encoded data removed]",
      "text/plain": [
       "<Figure size 640x480 with 1 Axes>"
      ]
     },
     "metadata": {},
     "output_type": "display_data"
    }
   ],
   "source": [
    "# Graficamos la distribución de la nueva columna\n",
    "sns.countplot(x='category_price', data=inmuebles)"
   ]
  },
  {
   "attachments": {},
   "cell_type": "markdown",
   "metadata": {},
   "source": [
    "Vemos que las clases se encuentran balanceadas"
   ]
  },
  {
   "cell_type": "code",
   "execution_count": 131,
   "metadata": {},
   "outputs": [
    {
     "data": {
      "text/plain": [
       "0"
      ]
     },
     "execution_count": 131,
     "metadata": {},
     "output_type": "execute_result"
    }
   ],
   "source": [
    "# Verificamos existenvia de filas duplicadas\n",
    "len(inmuebles)-len(inmuebles.drop_duplicates())"
   ]
  },
  {
   "cell_type": "code",
   "execution_count": 132,
   "metadata": {},
   "outputs": [
    {
     "data": {
      "text/plain": [
       "(346479, 23)"
      ]
     },
     "execution_count": 132,
     "metadata": {},
     "output_type": "execute_result"
    }
   ],
   "source": [
    "inmuebles.shape"
   ]
  },
  {
   "attachments": {},
   "cell_type": "markdown",
   "metadata": {},
   "source": [
    "Explorando el dataset, encontramos Descripciones repetidas, generalmente con mismo precio de alquiler y mismo URL de la imagen de la propiedad, por lo que decidimos eliminar estos registros repetidos dejando solamente uno, utilizando para ello la columna de la URL de la imagen ya que es la que mayor confianza nos otorga en cuanto a que se trata de la misma propiedad en alquiler."
   ]
  },
  {
   "attachments": {},
   "cell_type": "markdown",
   "metadata": {},
   "source": [
    "Consideramos que el dato de cuantas veces se publicó la misma propiedad puede ser un indicativo del valor de su alquiler. Por lo tanto, vamos a incorporar una columna con la cantidad de veces que se publicó el aviso."
   ]
  },
  {
   "cell_type": "code",
   "execution_count": 133,
   "metadata": {},
   "outputs": [
    {
     "data": {
      "text/plain": [
       "178233"
      ]
     },
     "execution_count": 133,
     "metadata": {},
     "output_type": "execute_result"
    }
   ],
   "source": [
    "# Contamos la cantidad de valores repetidos en la columna \"image_url\"\n",
    "len(inmuebles['image_url'])-len(inmuebles['image_url'].drop_duplicates())"
   ]
  },
  {
   "attachments": {},
   "cell_type": "markdown",
   "metadata": {},
   "source": [
    "Vemos que un número importante, practicamente la mitad del dataset contiene republicaciones de la misma propieadad en alquiler"
   ]
  },
  {
   "cell_type": "code",
   "execution_count": 134,
   "metadata": {},
   "outputs": [
    {
     "data": {
      "text/plain": [
       "(66499, 70514, 173295, 215379, 309342, 331892)"
      ]
     },
     "execution_count": 134,
     "metadata": {},
     "output_type": "execute_result"
    }
   ],
   "source": [
    "# Buscamos algun ejemplo para visualizar\n",
    "df = inmuebles.loc[inmuebles['image_url'].duplicated(keep=False),'image_url']\n",
    "df\n",
    "df = df.groupby(df).apply(lambda x: tuple(x.index)).tolist()\n",
    "df[24]"
   ]
  },
  {
   "cell_type": "code",
   "execution_count": 135,
   "metadata": {},
   "outputs": [
    {
     "data": {
      "text/html": [
       "<div>\n",
       "<style scoped>\n",
       "    .dataframe tbody tr th:only-of-type {\n",
       "        vertical-align: middle;\n",
       "    }\n",
       "\n",
       "    .dataframe tbody tr th {\n",
       "        vertical-align: top;\n",
       "    }\n",
       "\n",
       "    .dataframe thead th {\n",
       "        text-align: right;\n",
       "    }\n",
       "</style>\n",
       "<table border=\"1\" class=\"dataframe\">\n",
       "  <thead>\n",
       "    <tr style=\"text-align: right;\">\n",
       "      <th></th>\n",
       "      <th>price</th>\n",
       "      <th>image_url</th>\n",
       "      <th>description</th>\n",
       "    </tr>\n",
       "  </thead>\n",
       "  <tbody>\n",
       "    <tr>\n",
       "      <th>66499</th>\n",
       "      <td>1164</td>\n",
       "      <td>https://images.craigslist.org/00000_204WDl9WiP...</td>\n",
       "      <td>Welcome to Riverview Apartments. Please call f...</td>\n",
       "    </tr>\n",
       "    <tr>\n",
       "      <th>70514</th>\n",
       "      <td>1284</td>\n",
       "      <td>https://images.craigslist.org/00000_204WDl9WiP...</td>\n",
       "      <td>Welcome to Riverview Apartments. Please call f...</td>\n",
       "    </tr>\n",
       "    <tr>\n",
       "      <th>173295</th>\n",
       "      <td>1284</td>\n",
       "      <td>https://images.craigslist.org/00000_204WDl9WiP...</td>\n",
       "      <td>Welcome to Riverview Apartments. Please call f...</td>\n",
       "    </tr>\n",
       "    <tr>\n",
       "      <th>215379</th>\n",
       "      <td>1284</td>\n",
       "      <td>https://images.craigslist.org/00000_204WDl9WiP...</td>\n",
       "      <td>Welcome to Riverview Apartments. Please call f...</td>\n",
       "    </tr>\n",
       "    <tr>\n",
       "      <th>309342</th>\n",
       "      <td>1284</td>\n",
       "      <td>https://images.craigslist.org/00000_204WDl9WiP...</td>\n",
       "      <td>Welcome to Riverview Apartments. Please call f...</td>\n",
       "    </tr>\n",
       "    <tr>\n",
       "      <th>331892</th>\n",
       "      <td>1284</td>\n",
       "      <td>https://images.craigslist.org/00000_204WDl9WiP...</td>\n",
       "      <td>Welcome to Riverview Apartments. Please call f...</td>\n",
       "    </tr>\n",
       "  </tbody>\n",
       "</table>\n",
       "</div>"
      ],
      "text/plain": [
       "        price                                          image_url  \\\n",
       "66499    1164  https://images.craigslist.org/00000_204WDl9WiP...   \n",
       "70514    1284  https://images.craigslist.org/00000_204WDl9WiP...   \n",
       "173295   1284  https://images.craigslist.org/00000_204WDl9WiP...   \n",
       "215379   1284  https://images.craigslist.org/00000_204WDl9WiP...   \n",
       "309342   1284  https://images.craigslist.org/00000_204WDl9WiP...   \n",
       "331892   1284  https://images.craigslist.org/00000_204WDl9WiP...   \n",
       "\n",
       "                                              description  \n",
       "66499   Welcome to Riverview Apartments. Please call f...  \n",
       "70514   Welcome to Riverview Apartments. Please call f...  \n",
       "173295  Welcome to Riverview Apartments. Please call f...  \n",
       "215379  Welcome to Riverview Apartments. Please call f...  \n",
       "309342  Welcome to Riverview Apartments. Please call f...  \n",
       "331892  Welcome to Riverview Apartments. Please call f...  "
      ]
     },
     "execution_count": 135,
     "metadata": {},
     "output_type": "execute_result"
    }
   ],
   "source": [
    "inmuebles.loc[[66499,70514, 173295,215379,309342,331892],['price','image_url','description']]"
   ]
  },
  {
   "attachments": {},
   "cell_type": "markdown",
   "metadata": {},
   "source": [
    "Conciden los datos, con una pequeña variación en el costo del alquiler que puede deberse al paso del tiempo y la inflaciòn de Estados Unidos"
   ]
  },
  {
   "cell_type": "code",
   "execution_count": 136,
   "metadata": {},
   "outputs": [
    {
     "data": {
      "text/html": [
       "<div>\n",
       "<style scoped>\n",
       "    .dataframe tbody tr th:only-of-type {\n",
       "        vertical-align: middle;\n",
       "    }\n",
       "\n",
       "    .dataframe tbody tr th {\n",
       "        vertical-align: top;\n",
       "    }\n",
       "\n",
       "    .dataframe thead th {\n",
       "        text-align: right;\n",
       "    }\n",
       "</style>\n",
       "<table border=\"1\" class=\"dataframe\">\n",
       "  <thead>\n",
       "    <tr style=\"text-align: right;\">\n",
       "      <th></th>\n",
       "      <th>id</th>\n",
       "      <th>url</th>\n",
       "      <th>region</th>\n",
       "      <th>region_url</th>\n",
       "      <th>price</th>\n",
       "      <th>type</th>\n",
       "      <th>sqfeet</th>\n",
       "      <th>beds</th>\n",
       "      <th>baths</th>\n",
       "      <th>cats_allowed</th>\n",
       "      <th>...</th>\n",
       "      <th>comes_furnished</th>\n",
       "      <th>laundry_options</th>\n",
       "      <th>parking_options</th>\n",
       "      <th>image_url</th>\n",
       "      <th>description</th>\n",
       "      <th>lat</th>\n",
       "      <th>long</th>\n",
       "      <th>state</th>\n",
       "      <th>category_price</th>\n",
       "      <th>publicaciones</th>\n",
       "    </tr>\n",
       "  </thead>\n",
       "  <tbody>\n",
       "    <tr>\n",
       "      <th>0</th>\n",
       "      <td>7048013474</td>\n",
       "      <td>https://boise.craigslist.org/apa/d/very-nice-b...</td>\n",
       "      <td>boise</td>\n",
       "      <td>https://boise.craigslist.org</td>\n",
       "      <td>1350</td>\n",
       "      <td>house</td>\n",
       "      <td>1200</td>\n",
       "      <td>2</td>\n",
       "      <td>2.0</td>\n",
       "      <td>1</td>\n",
       "      <td>...</td>\n",
       "      <td>0</td>\n",
       "      <td>w/d in unit</td>\n",
       "      <td>detached garage</td>\n",
       "      <td>https://images.craigslist.org/00B0B_cPiJMEheZe...</td>\n",
       "      <td>Super cute row house in the Boise bench area. ...</td>\n",
       "      <td>43.5851</td>\n",
       "      <td>-116.2250</td>\n",
       "      <td>id</td>\n",
       "      <td>0</td>\n",
       "      <td>1</td>\n",
       "    </tr>\n",
       "    <tr>\n",
       "      <th>1</th>\n",
       "      <td>7043931179</td>\n",
       "      <td>https://cosprings.craigslist.org/apa/d/colorad...</td>\n",
       "      <td>colorado springs</td>\n",
       "      <td>https://cosprings.craigslist.org</td>\n",
       "      <td>1115</td>\n",
       "      <td>apartment</td>\n",
       "      <td>694</td>\n",
       "      <td>1</td>\n",
       "      <td>1.0</td>\n",
       "      <td>1</td>\n",
       "      <td>...</td>\n",
       "      <td>0</td>\n",
       "      <td>w/d in unit</td>\n",
       "      <td>carport</td>\n",
       "      <td>https://images.craigslist.org/00R0R_5XAoSKvfrz...</td>\n",
       "      <td>Windtree Apartment Homes currently has a spaci...</td>\n",
       "      <td>38.9137</td>\n",
       "      <td>-104.7800</td>\n",
       "      <td>co</td>\n",
       "      <td>0</td>\n",
       "      <td>2</td>\n",
       "    </tr>\n",
       "    <tr>\n",
       "      <th>2</th>\n",
       "      <td>7048254516</td>\n",
       "      <td>https://norfolk.craigslist.org/apa/d/virginia-...</td>\n",
       "      <td>norfolk / hampton roads</td>\n",
       "      <td>https://norfolk.craigslist.org</td>\n",
       "      <td>1129</td>\n",
       "      <td>apartment</td>\n",
       "      <td>900</td>\n",
       "      <td>2</td>\n",
       "      <td>2.0</td>\n",
       "      <td>0</td>\n",
       "      <td>...</td>\n",
       "      <td>0</td>\n",
       "      <td>w/d hookups</td>\n",
       "      <td>off-street parking</td>\n",
       "      <td>https://images.craigslist.org/00f0f_3ZbTFrsHpZ...</td>\n",
       "      <td>Call Today!  show contact info   Indian Lakes ...</td>\n",
       "      <td>36.7922</td>\n",
       "      <td>-76.1643</td>\n",
       "      <td>va</td>\n",
       "      <td>0</td>\n",
       "      <td>1</td>\n",
       "    </tr>\n",
       "    <tr>\n",
       "      <th>3</th>\n",
       "      <td>7041032577</td>\n",
       "      <td>https://phoenix.craigslist.org/nph/apa/d/phoen...</td>\n",
       "      <td>phoenix</td>\n",
       "      <td>https://phoenix.craigslist.org</td>\n",
       "      <td>1580</td>\n",
       "      <td>house</td>\n",
       "      <td>1469</td>\n",
       "      <td>3</td>\n",
       "      <td>2.0</td>\n",
       "      <td>1</td>\n",
       "      <td>...</td>\n",
       "      <td>0</td>\n",
       "      <td>w/d in unit</td>\n",
       "      <td>None</td>\n",
       "      <td>https://images.craigslist.org/00f0f_aXV5Dkd5qk...</td>\n",
       "      <td>Cody Anderson Two Brothers Realty License #: S...</td>\n",
       "      <td>33.5623</td>\n",
       "      <td>-112.0560</td>\n",
       "      <td>az</td>\n",
       "      <td>0</td>\n",
       "      <td>1</td>\n",
       "    </tr>\n",
       "    <tr>\n",
       "      <th>4</th>\n",
       "      <td>7048588701</td>\n",
       "      <td>https://nashville.craigslist.org/apa/d/antioch...</td>\n",
       "      <td>nashville</td>\n",
       "      <td>https://nashville.craigslist.org</td>\n",
       "      <td>995</td>\n",
       "      <td>apartment</td>\n",
       "      <td>700</td>\n",
       "      <td>1</td>\n",
       "      <td>1.0</td>\n",
       "      <td>1</td>\n",
       "      <td>...</td>\n",
       "      <td>0</td>\n",
       "      <td>w/d in unit</td>\n",
       "      <td>carport</td>\n",
       "      <td>https://images.craigslist.org/00606_gYOGKClOHv...</td>\n",
       "      <td>To schedule a tour We now book our tour appoin...</td>\n",
       "      <td>36.0595</td>\n",
       "      <td>-86.6592</td>\n",
       "      <td>tn</td>\n",
       "      <td>1</td>\n",
       "      <td>4</td>\n",
       "    </tr>\n",
       "    <tr>\n",
       "      <th>...</th>\n",
       "      <td>...</td>\n",
       "      <td>...</td>\n",
       "      <td>...</td>\n",
       "      <td>...</td>\n",
       "      <td>...</td>\n",
       "      <td>...</td>\n",
       "      <td>...</td>\n",
       "      <td>...</td>\n",
       "      <td>...</td>\n",
       "      <td>...</td>\n",
       "      <td>...</td>\n",
       "      <td>...</td>\n",
       "      <td>...</td>\n",
       "      <td>...</td>\n",
       "      <td>...</td>\n",
       "      <td>...</td>\n",
       "      <td>...</td>\n",
       "      <td>...</td>\n",
       "      <td>...</td>\n",
       "      <td>...</td>\n",
       "      <td>...</td>\n",
       "    </tr>\n",
       "    <tr>\n",
       "      <th>346474</th>\n",
       "      <td>7050982281</td>\n",
       "      <td>https://evansville.craigslist.org/apa/d/evansv...</td>\n",
       "      <td>evansville</td>\n",
       "      <td>https://evansville.craigslist.org</td>\n",
       "      <td>672</td>\n",
       "      <td>apartment</td>\n",
       "      <td>660</td>\n",
       "      <td>1</td>\n",
       "      <td>1.0</td>\n",
       "      <td>1</td>\n",
       "      <td>...</td>\n",
       "      <td>0</td>\n",
       "      <td>laundry on site</td>\n",
       "      <td>None</td>\n",
       "      <td>https://images.craigslist.org/00x0x_9oaHKZ8Ilp...</td>\n",
       "      <td>The pool, the office, the 24-hour on-site laun...</td>\n",
       "      <td>37.9591</td>\n",
       "      <td>-87.5293</td>\n",
       "      <td>in</td>\n",
       "      <td>1</td>\n",
       "      <td>2</td>\n",
       "    </tr>\n",
       "    <tr>\n",
       "      <th>346475</th>\n",
       "      <td>7049418251</td>\n",
       "      <td>https://sandiego.craigslist.org/ssd/apa/d/chul...</td>\n",
       "      <td>san diego</td>\n",
       "      <td>https://sandiego.craigslist.org</td>\n",
       "      <td>2122</td>\n",
       "      <td>apartment</td>\n",
       "      <td>1099</td>\n",
       "      <td>2</td>\n",
       "      <td>2.0</td>\n",
       "      <td>1</td>\n",
       "      <td>...</td>\n",
       "      <td>0</td>\n",
       "      <td>w/d in unit</td>\n",
       "      <td>off-street parking</td>\n",
       "      <td>https://images.craigslist.org/00O0O_6QsU4p5WMh...</td>\n",
       "      <td>Seize your chance to live in our beautiful apa...</td>\n",
       "      <td>32.6279</td>\n",
       "      <td>-117.0370</td>\n",
       "      <td>ca</td>\n",
       "      <td>0</td>\n",
       "      <td>1</td>\n",
       "    </tr>\n",
       "    <tr>\n",
       "      <th>346476</th>\n",
       "      <td>7048268235</td>\n",
       "      <td>https://columbia.craigslist.org/apa/d/columbia...</td>\n",
       "      <td>columbia</td>\n",
       "      <td>https://columbia.craigslist.org</td>\n",
       "      <td>1014</td>\n",
       "      <td>apartment</td>\n",
       "      <td>1104</td>\n",
       "      <td>2</td>\n",
       "      <td>2.0</td>\n",
       "      <td>1</td>\n",
       "      <td>...</td>\n",
       "      <td>0</td>\n",
       "      <td>w/d hookups</td>\n",
       "      <td>off-street parking</td>\n",
       "      <td>https://images.craigslist.org/00000_dpNWqzYhGK...</td>\n",
       "      <td>Tucked into the rolling landscape of Southeast...</td>\n",
       "      <td>33.9659</td>\n",
       "      <td>-80.9355</td>\n",
       "      <td>sc</td>\n",
       "      <td>0</td>\n",
       "      <td>7</td>\n",
       "    </tr>\n",
       "    <tr>\n",
       "      <th>346477</th>\n",
       "      <td>7026721229</td>\n",
       "      <td>https://nd.craigslist.org/apa/d/minot-open-con...</td>\n",
       "      <td>north dakota</td>\n",
       "      <td>https://nd.craigslist.org</td>\n",
       "      <td>935</td>\n",
       "      <td>apartment</td>\n",
       "      <td>1050</td>\n",
       "      <td>2</td>\n",
       "      <td>2.0</td>\n",
       "      <td>0</td>\n",
       "      <td>...</td>\n",
       "      <td>0</td>\n",
       "      <td>w/d in unit</td>\n",
       "      <td>detached garage</td>\n",
       "      <td>https://images.craigslist.org/00Z0Z_65g6Cty1RX...</td>\n",
       "      <td>Enjoy living at Southwood Apartments! Located ...</td>\n",
       "      <td>48.1995</td>\n",
       "      <td>-101.2800</td>\n",
       "      <td>nd</td>\n",
       "      <td>1</td>\n",
       "      <td>21</td>\n",
       "    </tr>\n",
       "    <tr>\n",
       "      <th>346478</th>\n",
       "      <td>7049657819</td>\n",
       "      <td>https://buffalo.craigslist.org/apa/d/buffalo-a...</td>\n",
       "      <td>buffalo</td>\n",
       "      <td>https://buffalo.craigslist.org</td>\n",
       "      <td>1300</td>\n",
       "      <td>apartment</td>\n",
       "      <td>1350</td>\n",
       "      <td>2</td>\n",
       "      <td>2.0</td>\n",
       "      <td>1</td>\n",
       "      <td>...</td>\n",
       "      <td>0</td>\n",
       "      <td>w/d in unit</td>\n",
       "      <td>off-street parking</td>\n",
       "      <td>https://images.craigslist.org/00w0w_7irvBxq409...</td>\n",
       "      <td>Description   Huge spacious 2 bedroom.  Beauti...</td>\n",
       "      <td>42.8997</td>\n",
       "      <td>-78.8803</td>\n",
       "      <td>ny</td>\n",
       "      <td>0</td>\n",
       "      <td>1</td>\n",
       "    </tr>\n",
       "  </tbody>\n",
       "</table>\n",
       "<p>346479 rows × 24 columns</p>\n",
       "</div>"
      ],
      "text/plain": [
       "                id                                                url  \\\n",
       "0       7048013474  https://boise.craigslist.org/apa/d/very-nice-b...   \n",
       "1       7043931179  https://cosprings.craigslist.org/apa/d/colorad...   \n",
       "2       7048254516  https://norfolk.craigslist.org/apa/d/virginia-...   \n",
       "3       7041032577  https://phoenix.craigslist.org/nph/apa/d/phoen...   \n",
       "4       7048588701  https://nashville.craigslist.org/apa/d/antioch...   \n",
       "...            ...                                                ...   \n",
       "346474  7050982281  https://evansville.craigslist.org/apa/d/evansv...   \n",
       "346475  7049418251  https://sandiego.craigslist.org/ssd/apa/d/chul...   \n",
       "346476  7048268235  https://columbia.craigslist.org/apa/d/columbia...   \n",
       "346477  7026721229  https://nd.craigslist.org/apa/d/minot-open-con...   \n",
       "346478  7049657819  https://buffalo.craigslist.org/apa/d/buffalo-a...   \n",
       "\n",
       "                         region                         region_url  price  \\\n",
       "0                         boise       https://boise.craigslist.org   1350   \n",
       "1              colorado springs   https://cosprings.craigslist.org   1115   \n",
       "2       norfolk / hampton roads     https://norfolk.craigslist.org   1129   \n",
       "3                       phoenix     https://phoenix.craigslist.org   1580   \n",
       "4                     nashville   https://nashville.craigslist.org    995   \n",
       "...                         ...                                ...    ...   \n",
       "346474               evansville  https://evansville.craigslist.org    672   \n",
       "346475                san diego    https://sandiego.craigslist.org   2122   \n",
       "346476                 columbia    https://columbia.craigslist.org   1014   \n",
       "346477             north dakota          https://nd.craigslist.org    935   \n",
       "346478                  buffalo     https://buffalo.craigslist.org   1300   \n",
       "\n",
       "             type  sqfeet  beds  baths  cats_allowed  ...  comes_furnished  \\\n",
       "0           house    1200     2    2.0             1  ...                0   \n",
       "1       apartment     694     1    1.0             1  ...                0   \n",
       "2       apartment     900     2    2.0             0  ...                0   \n",
       "3           house    1469     3    2.0             1  ...                0   \n",
       "4       apartment     700     1    1.0             1  ...                0   \n",
       "...           ...     ...   ...    ...           ...  ...              ...   \n",
       "346474  apartment     660     1    1.0             1  ...                0   \n",
       "346475  apartment    1099     2    2.0             1  ...                0   \n",
       "346476  apartment    1104     2    2.0             1  ...                0   \n",
       "346477  apartment    1050     2    2.0             0  ...                0   \n",
       "346478  apartment    1350     2    2.0             1  ...                0   \n",
       "\n",
       "        laundry_options     parking_options  \\\n",
       "0           w/d in unit     detached garage   \n",
       "1           w/d in unit             carport   \n",
       "2           w/d hookups  off-street parking   \n",
       "3           w/d in unit                None   \n",
       "4           w/d in unit             carport   \n",
       "...                 ...                 ...   \n",
       "346474  laundry on site                None   \n",
       "346475      w/d in unit  off-street parking   \n",
       "346476      w/d hookups  off-street parking   \n",
       "346477      w/d in unit     detached garage   \n",
       "346478      w/d in unit  off-street parking   \n",
       "\n",
       "                                                image_url  \\\n",
       "0       https://images.craigslist.org/00B0B_cPiJMEheZe...   \n",
       "1       https://images.craigslist.org/00R0R_5XAoSKvfrz...   \n",
       "2       https://images.craigslist.org/00f0f_3ZbTFrsHpZ...   \n",
       "3       https://images.craigslist.org/00f0f_aXV5Dkd5qk...   \n",
       "4       https://images.craigslist.org/00606_gYOGKClOHv...   \n",
       "...                                                   ...   \n",
       "346474  https://images.craigslist.org/00x0x_9oaHKZ8Ilp...   \n",
       "346475  https://images.craigslist.org/00O0O_6QsU4p5WMh...   \n",
       "346476  https://images.craigslist.org/00000_dpNWqzYhGK...   \n",
       "346477  https://images.craigslist.org/00Z0Z_65g6Cty1RX...   \n",
       "346478  https://images.craigslist.org/00w0w_7irvBxq409...   \n",
       "\n",
       "                                              description      lat      long  \\\n",
       "0       Super cute row house in the Boise bench area. ...  43.5851 -116.2250   \n",
       "1       Windtree Apartment Homes currently has a spaci...  38.9137 -104.7800   \n",
       "2       Call Today!  show contact info   Indian Lakes ...  36.7922  -76.1643   \n",
       "3       Cody Anderson Two Brothers Realty License #: S...  33.5623 -112.0560   \n",
       "4       To schedule a tour We now book our tour appoin...  36.0595  -86.6592   \n",
       "...                                                   ...      ...       ...   \n",
       "346474  The pool, the office, the 24-hour on-site laun...  37.9591  -87.5293   \n",
       "346475  Seize your chance to live in our beautiful apa...  32.6279 -117.0370   \n",
       "346476  Tucked into the rolling landscape of Southeast...  33.9659  -80.9355   \n",
       "346477  Enjoy living at Southwood Apartments! Located ...  48.1995 -101.2800   \n",
       "346478  Description   Huge spacious 2 bedroom.  Beauti...  42.8997  -78.8803   \n",
       "\n",
       "       state category_price  publicaciones  \n",
       "0         id              0              1  \n",
       "1         co              0              2  \n",
       "2         va              0              1  \n",
       "3         az              0              1  \n",
       "4         tn              1              4  \n",
       "...      ...            ...            ...  \n",
       "346474    in              1              2  \n",
       "346475    ca              0              1  \n",
       "346476    sc              0              7  \n",
       "346477    nd              1             21  \n",
       "346478    ny              0              1  \n",
       "\n",
       "[346479 rows x 24 columns]"
      ]
     },
     "execution_count": 136,
     "metadata": {},
     "output_type": "execute_result"
    }
   ],
   "source": [
    "# Incorporamos una columna \"publicaciones\" que contiene la cantidad de veces que aparece el mismo anuncio en el dataset\n",
    "inmuebles['publicaciones'] = inmuebles.groupby(['image_url'])['image_url'].transform('count')\n",
    "testeo_henry['publicaciones'] = testeo_henry.groupby(['image_url'])['image_url'].transform('count')\n",
    "inmuebles"
   ]
  },
  {
   "cell_type": "code",
   "execution_count": 137,
   "metadata": {},
   "outputs": [],
   "source": [
    "# Ahora si eliminamos los anuncios duplicados\n",
    "inmuebles.drop_duplicates(subset='image_url', inplace=True)"
   ]
  },
  {
   "cell_type": "code",
   "execution_count": 138,
   "metadata": {},
   "outputs": [
    {
     "data": {
      "text/plain": [
       "(168246, 24)"
      ]
     },
     "execution_count": 138,
     "metadata": {},
     "output_type": "execute_result"
    }
   ],
   "source": [
    "inmuebles.shape"
   ]
  },
  {
   "attachments": {},
   "cell_type": "markdown",
   "metadata": {},
   "source": [
    "Efectivamente, hemos reducido el dataset en un 51,4% del total de registros originales"
   ]
  },
  {
   "cell_type": "code",
   "execution_count": 139,
   "metadata": {},
   "outputs": [
    {
     "data": {
      "text/html": [
       "<div>\n",
       "<style scoped>\n",
       "    .dataframe tbody tr th:only-of-type {\n",
       "        vertical-align: middle;\n",
       "    }\n",
       "\n",
       "    .dataframe tbody tr th {\n",
       "        vertical-align: top;\n",
       "    }\n",
       "\n",
       "    .dataframe thead th {\n",
       "        text-align: right;\n",
       "    }\n",
       "</style>\n",
       "<table border=\"1\" class=\"dataframe\">\n",
       "  <thead>\n",
       "    <tr style=\"text-align: right;\">\n",
       "      <th></th>\n",
       "      <th>id</th>\n",
       "      <th>url</th>\n",
       "      <th>region</th>\n",
       "      <th>region_url</th>\n",
       "      <th>price</th>\n",
       "      <th>type</th>\n",
       "      <th>sqfeet</th>\n",
       "      <th>beds</th>\n",
       "      <th>baths</th>\n",
       "      <th>cats_allowed</th>\n",
       "      <th>...</th>\n",
       "      <th>comes_furnished</th>\n",
       "      <th>laundry_options</th>\n",
       "      <th>parking_options</th>\n",
       "      <th>image_url</th>\n",
       "      <th>description</th>\n",
       "      <th>lat</th>\n",
       "      <th>long</th>\n",
       "      <th>state</th>\n",
       "      <th>category_price</th>\n",
       "      <th>publicaciones</th>\n",
       "    </tr>\n",
       "  </thead>\n",
       "  <tbody>\n",
       "    <tr>\n",
       "      <th>0</th>\n",
       "      <td>7048013474</td>\n",
       "      <td>https://boise.craigslist.org/apa/d/very-nice-b...</td>\n",
       "      <td>boise</td>\n",
       "      <td>https://boise.craigslist.org</td>\n",
       "      <td>1350</td>\n",
       "      <td>house</td>\n",
       "      <td>1200</td>\n",
       "      <td>2</td>\n",
       "      <td>2.0</td>\n",
       "      <td>1</td>\n",
       "      <td>...</td>\n",
       "      <td>0</td>\n",
       "      <td>w/d in unit</td>\n",
       "      <td>detached garage</td>\n",
       "      <td>https://images.craigslist.org/00B0B_cPiJMEheZe...</td>\n",
       "      <td>Super cute row house in the Boise bench area. ...</td>\n",
       "      <td>43.5851</td>\n",
       "      <td>-116.2250</td>\n",
       "      <td>id</td>\n",
       "      <td>0</td>\n",
       "      <td>1</td>\n",
       "    </tr>\n",
       "    <tr>\n",
       "      <th>1</th>\n",
       "      <td>7043931179</td>\n",
       "      <td>https://cosprings.craigslist.org/apa/d/colorad...</td>\n",
       "      <td>colorado springs</td>\n",
       "      <td>https://cosprings.craigslist.org</td>\n",
       "      <td>1115</td>\n",
       "      <td>apartment</td>\n",
       "      <td>694</td>\n",
       "      <td>1</td>\n",
       "      <td>1.0</td>\n",
       "      <td>1</td>\n",
       "      <td>...</td>\n",
       "      <td>0</td>\n",
       "      <td>w/d in unit</td>\n",
       "      <td>carport</td>\n",
       "      <td>https://images.craigslist.org/00R0R_5XAoSKvfrz...</td>\n",
       "      <td>Windtree Apartment Homes currently has a spaci...</td>\n",
       "      <td>38.9137</td>\n",
       "      <td>-104.7800</td>\n",
       "      <td>co</td>\n",
       "      <td>0</td>\n",
       "      <td>2</td>\n",
       "    </tr>\n",
       "    <tr>\n",
       "      <th>2</th>\n",
       "      <td>7048254516</td>\n",
       "      <td>https://norfolk.craigslist.org/apa/d/virginia-...</td>\n",
       "      <td>norfolk / hampton roads</td>\n",
       "      <td>https://norfolk.craigslist.org</td>\n",
       "      <td>1129</td>\n",
       "      <td>apartment</td>\n",
       "      <td>900</td>\n",
       "      <td>2</td>\n",
       "      <td>2.0</td>\n",
       "      <td>0</td>\n",
       "      <td>...</td>\n",
       "      <td>0</td>\n",
       "      <td>w/d hookups</td>\n",
       "      <td>off-street parking</td>\n",
       "      <td>https://images.craigslist.org/00f0f_3ZbTFrsHpZ...</td>\n",
       "      <td>Call Today!  show contact info   Indian Lakes ...</td>\n",
       "      <td>36.7922</td>\n",
       "      <td>-76.1643</td>\n",
       "      <td>va</td>\n",
       "      <td>0</td>\n",
       "      <td>1</td>\n",
       "    </tr>\n",
       "    <tr>\n",
       "      <th>3</th>\n",
       "      <td>7041032577</td>\n",
       "      <td>https://phoenix.craigslist.org/nph/apa/d/phoen...</td>\n",
       "      <td>phoenix</td>\n",
       "      <td>https://phoenix.craigslist.org</td>\n",
       "      <td>1580</td>\n",
       "      <td>house</td>\n",
       "      <td>1469</td>\n",
       "      <td>3</td>\n",
       "      <td>2.0</td>\n",
       "      <td>1</td>\n",
       "      <td>...</td>\n",
       "      <td>0</td>\n",
       "      <td>w/d in unit</td>\n",
       "      <td>None</td>\n",
       "      <td>https://images.craigslist.org/00f0f_aXV5Dkd5qk...</td>\n",
       "      <td>Cody Anderson Two Brothers Realty License #: S...</td>\n",
       "      <td>33.5623</td>\n",
       "      <td>-112.0560</td>\n",
       "      <td>az</td>\n",
       "      <td>0</td>\n",
       "      <td>1</td>\n",
       "    </tr>\n",
       "    <tr>\n",
       "      <th>4</th>\n",
       "      <td>7048588701</td>\n",
       "      <td>https://nashville.craigslist.org/apa/d/antioch...</td>\n",
       "      <td>nashville</td>\n",
       "      <td>https://nashville.craigslist.org</td>\n",
       "      <td>995</td>\n",
       "      <td>apartment</td>\n",
       "      <td>700</td>\n",
       "      <td>1</td>\n",
       "      <td>1.0</td>\n",
       "      <td>1</td>\n",
       "      <td>...</td>\n",
       "      <td>0</td>\n",
       "      <td>w/d in unit</td>\n",
       "      <td>carport</td>\n",
       "      <td>https://images.craigslist.org/00606_gYOGKClOHv...</td>\n",
       "      <td>To schedule a tour We now book our tour appoin...</td>\n",
       "      <td>36.0595</td>\n",
       "      <td>-86.6592</td>\n",
       "      <td>tn</td>\n",
       "      <td>1</td>\n",
       "      <td>4</td>\n",
       "    </tr>\n",
       "    <tr>\n",
       "      <th>...</th>\n",
       "      <td>...</td>\n",
       "      <td>...</td>\n",
       "      <td>...</td>\n",
       "      <td>...</td>\n",
       "      <td>...</td>\n",
       "      <td>...</td>\n",
       "      <td>...</td>\n",
       "      <td>...</td>\n",
       "      <td>...</td>\n",
       "      <td>...</td>\n",
       "      <td>...</td>\n",
       "      <td>...</td>\n",
       "      <td>...</td>\n",
       "      <td>...</td>\n",
       "      <td>...</td>\n",
       "      <td>...</td>\n",
       "      <td>...</td>\n",
       "      <td>...</td>\n",
       "      <td>...</td>\n",
       "      <td>...</td>\n",
       "      <td>...</td>\n",
       "    </tr>\n",
       "    <tr>\n",
       "      <th>346460</th>\n",
       "      <td>7046734925</td>\n",
       "      <td>https://miami.craigslist.org/brw/apa/d/fort-la...</td>\n",
       "      <td>south florida</td>\n",
       "      <td>https://miami.craigslist.org</td>\n",
       "      <td>1565</td>\n",
       "      <td>apartment</td>\n",
       "      <td>720</td>\n",
       "      <td>1</td>\n",
       "      <td>1.0</td>\n",
       "      <td>0</td>\n",
       "      <td>...</td>\n",
       "      <td>0</td>\n",
       "      <td>None</td>\n",
       "      <td>None</td>\n",
       "      <td>https://images.craigslist.org/00q0q_eqjRAloITz...</td>\n",
       "      <td>Come Home to Bell at Plantation Apartments in ...</td>\n",
       "      <td>26.1467</td>\n",
       "      <td>-80.2433</td>\n",
       "      <td>fl</td>\n",
       "      <td>0</td>\n",
       "      <td>1</td>\n",
       "    </tr>\n",
       "    <tr>\n",
       "      <th>346462</th>\n",
       "      <td>7031598723</td>\n",
       "      <td>https://dayton.craigslist.org/apa/d/dayton-dec...</td>\n",
       "      <td>dayton / springfield</td>\n",
       "      <td>https://dayton.craigslist.org</td>\n",
       "      <td>479</td>\n",
       "      <td>apartment</td>\n",
       "      <td>562</td>\n",
       "      <td>1</td>\n",
       "      <td>1.0</td>\n",
       "      <td>1</td>\n",
       "      <td>...</td>\n",
       "      <td>0</td>\n",
       "      <td>laundry on site</td>\n",
       "      <td>off-street parking</td>\n",
       "      <td>https://images.craigslist.org/00s0s_8MWbqu0lvf...</td>\n",
       "      <td>Avalon Place Apartments &amp; Townhomes 2196 Rockd...</td>\n",
       "      <td>39.7824</td>\n",
       "      <td>-84.0271</td>\n",
       "      <td>oh</td>\n",
       "      <td>1</td>\n",
       "      <td>1</td>\n",
       "    </tr>\n",
       "    <tr>\n",
       "      <th>346466</th>\n",
       "      <td>7045689575</td>\n",
       "      <td>https://boston.craigslist.org/gbs/apa/d/brookl...</td>\n",
       "      <td>boston</td>\n",
       "      <td>https://boston.craigslist.org</td>\n",
       "      <td>3155</td>\n",
       "      <td>apartment</td>\n",
       "      <td>896</td>\n",
       "      <td>1</td>\n",
       "      <td>1.0</td>\n",
       "      <td>0</td>\n",
       "      <td>...</td>\n",
       "      <td>0</td>\n",
       "      <td>w/d in unit</td>\n",
       "      <td>None</td>\n",
       "      <td>https://images.craigslist.org/00P0P_egXeeJ2jUR...</td>\n",
       "      <td>PROPERTY INFO ID: 184600979Rent: 3155 / MonthB...</td>\n",
       "      <td>42.3431</td>\n",
       "      <td>-71.1230</td>\n",
       "      <td>ma</td>\n",
       "      <td>0</td>\n",
       "      <td>1</td>\n",
       "    </tr>\n",
       "    <tr>\n",
       "      <th>346475</th>\n",
       "      <td>7049418251</td>\n",
       "      <td>https://sandiego.craigslist.org/ssd/apa/d/chul...</td>\n",
       "      <td>san diego</td>\n",
       "      <td>https://sandiego.craigslist.org</td>\n",
       "      <td>2122</td>\n",
       "      <td>apartment</td>\n",
       "      <td>1099</td>\n",
       "      <td>2</td>\n",
       "      <td>2.0</td>\n",
       "      <td>1</td>\n",
       "      <td>...</td>\n",
       "      <td>0</td>\n",
       "      <td>w/d in unit</td>\n",
       "      <td>off-street parking</td>\n",
       "      <td>https://images.craigslist.org/00O0O_6QsU4p5WMh...</td>\n",
       "      <td>Seize your chance to live in our beautiful apa...</td>\n",
       "      <td>32.6279</td>\n",
       "      <td>-117.0370</td>\n",
       "      <td>ca</td>\n",
       "      <td>0</td>\n",
       "      <td>1</td>\n",
       "    </tr>\n",
       "    <tr>\n",
       "      <th>346478</th>\n",
       "      <td>7049657819</td>\n",
       "      <td>https://buffalo.craigslist.org/apa/d/buffalo-a...</td>\n",
       "      <td>buffalo</td>\n",
       "      <td>https://buffalo.craigslist.org</td>\n",
       "      <td>1300</td>\n",
       "      <td>apartment</td>\n",
       "      <td>1350</td>\n",
       "      <td>2</td>\n",
       "      <td>2.0</td>\n",
       "      <td>1</td>\n",
       "      <td>...</td>\n",
       "      <td>0</td>\n",
       "      <td>w/d in unit</td>\n",
       "      <td>off-street parking</td>\n",
       "      <td>https://images.craigslist.org/00w0w_7irvBxq409...</td>\n",
       "      <td>Description   Huge spacious 2 bedroom.  Beauti...</td>\n",
       "      <td>42.8997</td>\n",
       "      <td>-78.8803</td>\n",
       "      <td>ny</td>\n",
       "      <td>0</td>\n",
       "      <td>1</td>\n",
       "    </tr>\n",
       "  </tbody>\n",
       "</table>\n",
       "<p>168246 rows × 24 columns</p>\n",
       "</div>"
      ],
      "text/plain": [
       "                id                                                url  \\\n",
       "0       7048013474  https://boise.craigslist.org/apa/d/very-nice-b...   \n",
       "1       7043931179  https://cosprings.craigslist.org/apa/d/colorad...   \n",
       "2       7048254516  https://norfolk.craigslist.org/apa/d/virginia-...   \n",
       "3       7041032577  https://phoenix.craigslist.org/nph/apa/d/phoen...   \n",
       "4       7048588701  https://nashville.craigslist.org/apa/d/antioch...   \n",
       "...            ...                                                ...   \n",
       "346460  7046734925  https://miami.craigslist.org/brw/apa/d/fort-la...   \n",
       "346462  7031598723  https://dayton.craigslist.org/apa/d/dayton-dec...   \n",
       "346466  7045689575  https://boston.craigslist.org/gbs/apa/d/brookl...   \n",
       "346475  7049418251  https://sandiego.craigslist.org/ssd/apa/d/chul...   \n",
       "346478  7049657819  https://buffalo.craigslist.org/apa/d/buffalo-a...   \n",
       "\n",
       "                         region                        region_url  price  \\\n",
       "0                         boise      https://boise.craigslist.org   1350   \n",
       "1              colorado springs  https://cosprings.craigslist.org   1115   \n",
       "2       norfolk / hampton roads    https://norfolk.craigslist.org   1129   \n",
       "3                       phoenix    https://phoenix.craigslist.org   1580   \n",
       "4                     nashville  https://nashville.craigslist.org    995   \n",
       "...                         ...                               ...    ...   \n",
       "346460            south florida      https://miami.craigslist.org   1565   \n",
       "346462     dayton / springfield     https://dayton.craigslist.org    479   \n",
       "346466                   boston     https://boston.craigslist.org   3155   \n",
       "346475                san diego   https://sandiego.craigslist.org   2122   \n",
       "346478                  buffalo    https://buffalo.craigslist.org   1300   \n",
       "\n",
       "             type  sqfeet  beds  baths  cats_allowed  ...  comes_furnished  \\\n",
       "0           house    1200     2    2.0             1  ...                0   \n",
       "1       apartment     694     1    1.0             1  ...                0   \n",
       "2       apartment     900     2    2.0             0  ...                0   \n",
       "3           house    1469     3    2.0             1  ...                0   \n",
       "4       apartment     700     1    1.0             1  ...                0   \n",
       "...           ...     ...   ...    ...           ...  ...              ...   \n",
       "346460  apartment     720     1    1.0             0  ...                0   \n",
       "346462  apartment     562     1    1.0             1  ...                0   \n",
       "346466  apartment     896     1    1.0             0  ...                0   \n",
       "346475  apartment    1099     2    2.0             1  ...                0   \n",
       "346478  apartment    1350     2    2.0             1  ...                0   \n",
       "\n",
       "        laundry_options     parking_options  \\\n",
       "0           w/d in unit     detached garage   \n",
       "1           w/d in unit             carport   \n",
       "2           w/d hookups  off-street parking   \n",
       "3           w/d in unit                None   \n",
       "4           w/d in unit             carport   \n",
       "...                 ...                 ...   \n",
       "346460             None                None   \n",
       "346462  laundry on site  off-street parking   \n",
       "346466      w/d in unit                None   \n",
       "346475      w/d in unit  off-street parking   \n",
       "346478      w/d in unit  off-street parking   \n",
       "\n",
       "                                                image_url  \\\n",
       "0       https://images.craigslist.org/00B0B_cPiJMEheZe...   \n",
       "1       https://images.craigslist.org/00R0R_5XAoSKvfrz...   \n",
       "2       https://images.craigslist.org/00f0f_3ZbTFrsHpZ...   \n",
       "3       https://images.craigslist.org/00f0f_aXV5Dkd5qk...   \n",
       "4       https://images.craigslist.org/00606_gYOGKClOHv...   \n",
       "...                                                   ...   \n",
       "346460  https://images.craigslist.org/00q0q_eqjRAloITz...   \n",
       "346462  https://images.craigslist.org/00s0s_8MWbqu0lvf...   \n",
       "346466  https://images.craigslist.org/00P0P_egXeeJ2jUR...   \n",
       "346475  https://images.craigslist.org/00O0O_6QsU4p5WMh...   \n",
       "346478  https://images.craigslist.org/00w0w_7irvBxq409...   \n",
       "\n",
       "                                              description      lat      long  \\\n",
       "0       Super cute row house in the Boise bench area. ...  43.5851 -116.2250   \n",
       "1       Windtree Apartment Homes currently has a spaci...  38.9137 -104.7800   \n",
       "2       Call Today!  show contact info   Indian Lakes ...  36.7922  -76.1643   \n",
       "3       Cody Anderson Two Brothers Realty License #: S...  33.5623 -112.0560   \n",
       "4       To schedule a tour We now book our tour appoin...  36.0595  -86.6592   \n",
       "...                                                   ...      ...       ...   \n",
       "346460  Come Home to Bell at Plantation Apartments in ...  26.1467  -80.2433   \n",
       "346462  Avalon Place Apartments & Townhomes 2196 Rockd...  39.7824  -84.0271   \n",
       "346466  PROPERTY INFO ID: 184600979Rent: 3155 / MonthB...  42.3431  -71.1230   \n",
       "346475  Seize your chance to live in our beautiful apa...  32.6279 -117.0370   \n",
       "346478  Description   Huge spacious 2 bedroom.  Beauti...  42.8997  -78.8803   \n",
       "\n",
       "       state category_price  publicaciones  \n",
       "0         id              0              1  \n",
       "1         co              0              2  \n",
       "2         va              0              1  \n",
       "3         az              0              1  \n",
       "4         tn              1              4  \n",
       "...      ...            ...            ...  \n",
       "346460    fl              0              1  \n",
       "346462    oh              1              1  \n",
       "346466    ma              0              1  \n",
       "346475    ca              0              1  \n",
       "346478    ny              0              1  \n",
       "\n",
       "[168246 rows x 24 columns]"
      ]
     },
     "execution_count": 139,
     "metadata": {},
     "output_type": "execute_result"
    }
   ],
   "source": [
    "inmuebles"
   ]
  },
  {
   "cell_type": "code",
   "execution_count": 140,
   "metadata": {},
   "outputs": [
    {
     "data": {
      "text/plain": [
       "<AxesSubplot: xlabel='category_price', ylabel='count'>"
      ]
     },
     "execution_count": 140,
     "metadata": {},
     "output_type": "execute_result"
    },
    {
     "data": {
      "image/png": "[encoded data removed]",
      "text/plain": [
       "<Figure size 640x480 with 1 Axes>"
      ]
     },
     "metadata": {},
     "output_type": "display_data"
    }
   ],
   "source": [
    "# Volvemos a revisar la distribución del target\n",
    "sns.countplot(x='category_price', data=inmuebles)"
   ]
  },
  {
   "attachments": {},
   "cell_type": "markdown",
   "metadata": {},
   "source": [
    "Vamos a analizar ahora cada columna en particular"
   ]
  },
  {
   "cell_type": "code",
   "execution_count": 141,
   "metadata": {},
   "outputs": [
    {
     "data": {
      "text/html": [
       "<div>\n",
       "<style scoped>\n",
       "    .dataframe tbody tr th:only-of-type {\n",
       "        vertical-align: middle;\n",
       "    }\n",
       "\n",
       "    .dataframe tbody tr th {\n",
       "        vertical-align: top;\n",
       "    }\n",
       "\n",
       "    .dataframe thead th {\n",
       "        text-align: right;\n",
       "    }\n",
       "</style>\n",
       "<table border=\"1\" class=\"dataframe\">\n",
       "  <thead>\n",
       "    <tr style=\"text-align: right;\">\n",
       "      <th></th>\n",
       "      <th>id</th>\n",
       "      <th>price</th>\n",
       "      <th>sqfeet</th>\n",
       "      <th>beds</th>\n",
       "      <th>baths</th>\n",
       "      <th>cats_allowed</th>\n",
       "      <th>dogs_allowed</th>\n",
       "      <th>smoking_allowed</th>\n",
       "      <th>wheelchair_access</th>\n",
       "      <th>electric_vehicle_charge</th>\n",
       "      <th>comes_furnished</th>\n",
       "      <th>lat</th>\n",
       "      <th>long</th>\n",
       "      <th>category_price</th>\n",
       "      <th>publicaciones</th>\n",
       "    </tr>\n",
       "  </thead>\n",
       "  <tbody>\n",
       "    <tr>\n",
       "      <th>count</th>\n",
       "      <td>1.682460e+05</td>\n",
       "      <td>1.682460e+05</td>\n",
       "      <td>1.682460e+05</td>\n",
       "      <td>168246.000000</td>\n",
       "      <td>168246.000000</td>\n",
       "      <td>168246.000000</td>\n",
       "      <td>168246.000000</td>\n",
       "      <td>168246.000000</td>\n",
       "      <td>168246.000000</td>\n",
       "      <td>168246.000000</td>\n",
       "      <td>168246.000000</td>\n",
       "      <td>167328.000000</td>\n",
       "      <td>167328.000000</td>\n",
       "      <td>168246.000000</td>\n",
       "      <td>168246.000000</td>\n",
       "    </tr>\n",
       "    <tr>\n",
       "      <th>mean</th>\n",
       "      <td>7.041582e+09</td>\n",
       "      <td>1.823485e+04</td>\n",
       "      <td>1.130897e+03</td>\n",
       "      <td>1.984344</td>\n",
       "      <td>1.493438</td>\n",
       "      <td>0.677591</td>\n",
       "      <td>0.656836</td>\n",
       "      <td>0.679374</td>\n",
       "      <td>0.080786</td>\n",
       "      <td>0.016630</td>\n",
       "      <td>0.056958</td>\n",
       "      <td>37.686822</td>\n",
       "      <td>-94.297691</td>\n",
       "      <td>0.414209</td>\n",
       "      <td>2.059360</td>\n",
       "    </tr>\n",
       "    <tr>\n",
       "      <th>std</th>\n",
       "      <td>9.130467e+06</td>\n",
       "      <td>6.749396e+06</td>\n",
       "      <td>2.141155e+04</td>\n",
       "      <td>4.460110</td>\n",
       "      <td>0.647693</td>\n",
       "      <td>0.467400</td>\n",
       "      <td>0.474767</td>\n",
       "      <td>0.466719</td>\n",
       "      <td>0.272508</td>\n",
       "      <td>0.127883</td>\n",
       "      <td>0.231764</td>\n",
       "      <td>5.831513</td>\n",
       "      <td>17.412971</td>\n",
       "      <td>0.492586</td>\n",
       "      <td>4.010354</td>\n",
       "    </tr>\n",
       "    <tr>\n",
       "      <th>min</th>\n",
       "      <td>7.004042e+09</td>\n",
       "      <td>0.000000e+00</td>\n",
       "      <td>0.000000e+00</td>\n",
       "      <td>0.000000</td>\n",
       "      <td>0.000000</td>\n",
       "      <td>0.000000</td>\n",
       "      <td>0.000000</td>\n",
       "      <td>0.000000</td>\n",
       "      <td>0.000000</td>\n",
       "      <td>0.000000</td>\n",
       "      <td>0.000000</td>\n",
       "      <td>-43.533300</td>\n",
       "      <td>-163.894000</td>\n",
       "      <td>0.000000</td>\n",
       "      <td>1.000000</td>\n",
       "    </tr>\n",
       "    <tr>\n",
       "      <th>25%</th>\n",
       "      <td>7.036552e+09</td>\n",
       "      <td>8.450000e+02</td>\n",
       "      <td>7.500000e+02</td>\n",
       "      <td>1.000000</td>\n",
       "      <td>1.000000</td>\n",
       "      <td>0.000000</td>\n",
       "      <td>0.000000</td>\n",
       "      <td>0.000000</td>\n",
       "      <td>0.000000</td>\n",
       "      <td>0.000000</td>\n",
       "      <td>0.000000</td>\n",
       "      <td>33.736800</td>\n",
       "      <td>-105.125000</td>\n",
       "      <td>0.000000</td>\n",
       "      <td>1.000000</td>\n",
       "    </tr>\n",
       "    <tr>\n",
       "      <th>50%</th>\n",
       "      <td>7.044526e+09</td>\n",
       "      <td>1.100000e+03</td>\n",
       "      <td>9.600000e+02</td>\n",
       "      <td>2.000000</td>\n",
       "      <td>1.000000</td>\n",
       "      <td>1.000000</td>\n",
       "      <td>1.000000</td>\n",
       "      <td>1.000000</td>\n",
       "      <td>0.000000</td>\n",
       "      <td>0.000000</td>\n",
       "      <td>0.000000</td>\n",
       "      <td>38.250300</td>\n",
       "      <td>-89.275650</td>\n",
       "      <td>0.000000</td>\n",
       "      <td>1.000000</td>\n",
       "    </tr>\n",
       "    <tr>\n",
       "      <th>75%</th>\n",
       "      <td>7.049008e+09</td>\n",
       "      <td>1.500000e+03</td>\n",
       "      <td>1.200000e+03</td>\n",
       "      <td>2.000000</td>\n",
       "      <td>2.000000</td>\n",
       "      <td>1.000000</td>\n",
       "      <td>1.000000</td>\n",
       "      <td>1.000000</td>\n",
       "      <td>0.000000</td>\n",
       "      <td>0.000000</td>\n",
       "      <td>0.000000</td>\n",
       "      <td>41.683200</td>\n",
       "      <td>-81.264900</td>\n",
       "      <td>1.000000</td>\n",
       "      <td>2.000000</td>\n",
       "    </tr>\n",
       "    <tr>\n",
       "      <th>max</th>\n",
       "      <td>7.051292e+09</td>\n",
       "      <td>2.768307e+09</td>\n",
       "      <td>8.388607e+06</td>\n",
       "      <td>1100.000000</td>\n",
       "      <td>75.000000</td>\n",
       "      <td>1.000000</td>\n",
       "      <td>1.000000</td>\n",
       "      <td>1.000000</td>\n",
       "      <td>1.000000</td>\n",
       "      <td>1.000000</td>\n",
       "      <td>1.000000</td>\n",
       "      <td>102.036000</td>\n",
       "      <td>172.633000</td>\n",
       "      <td>1.000000</td>\n",
       "      <td>363.000000</td>\n",
       "    </tr>\n",
       "  </tbody>\n",
       "</table>\n",
       "</div>"
      ],
      "text/plain": [
       "                 id         price        sqfeet           beds          baths  \\\n",
       "count  1.682460e+05  1.682460e+05  1.682460e+05  168246.000000  168246.000000   \n",
       "mean   7.041582e+09  1.823485e+04  1.130897e+03       1.984344       1.493438   \n",
       "std    9.130467e+06  6.749396e+06  2.141155e+04       4.460110       0.647693   \n",
       "min    7.004042e+09  0.000000e+00  0.000000e+00       0.000000       0.000000   \n",
       "25%    7.036552e+09  8.450000e+02  7.500000e+02       1.000000       1.000000   \n",
       "50%    7.044526e+09  1.100000e+03  9.600000e+02       2.000000       1.000000   \n",
       "75%    7.049008e+09  1.500000e+03  1.200000e+03       2.000000       2.000000   \n",
       "max    7.051292e+09  2.768307e+09  8.388607e+06    1100.000000      75.000000   \n",
       "\n",
       "        cats_allowed   dogs_allowed  smoking_allowed  wheelchair_access  \\\n",
       "count  168246.000000  168246.000000    168246.000000      168246.000000   \n",
       "mean        0.677591       0.656836         0.679374           0.080786   \n",
       "std         0.467400       0.474767         0.466719           0.272508   \n",
       "min         0.000000       0.000000         0.000000           0.000000   \n",
       "25%         0.000000       0.000000         0.000000           0.000000   \n",
       "50%         1.000000       1.000000         1.000000           0.000000   \n",
       "75%         1.000000       1.000000         1.000000           0.000000   \n",
       "max         1.000000       1.000000         1.000000           1.000000   \n",
       "\n",
       "       electric_vehicle_charge  comes_furnished            lat           long  \\\n",
       "count            168246.000000    168246.000000  167328.000000  167328.000000   \n",
       "mean                  0.016630         0.056958      37.686822     -94.297691   \n",
       "std                   0.127883         0.231764       5.831513      17.412971   \n",
       "min                   0.000000         0.000000     -43.533300    -163.894000   \n",
       "25%                   0.000000         0.000000      33.736800    -105.125000   \n",
       "50%                   0.000000         0.000000      38.250300     -89.275650   \n",
       "75%                   0.000000         0.000000      41.683200     -81.264900   \n",
       "max                   1.000000         1.000000     102.036000     172.633000   \n",
       "\n",
       "       category_price  publicaciones  \n",
       "count   168246.000000  168246.000000  \n",
       "mean         0.414209       2.059360  \n",
       "std          0.492586       4.010354  \n",
       "min          0.000000       1.000000  \n",
       "25%          0.000000       1.000000  \n",
       "50%          0.000000       1.000000  \n",
       "75%          1.000000       2.000000  \n",
       "max          1.000000     363.000000  "
      ]
     },
     "execution_count": 141,
     "metadata": {},
     "output_type": "execute_result"
    }
   ],
   "source": [
    "inmuebles.describe()"
   ]
  },
  {
   "attachments": {},
   "cell_type": "markdown",
   "metadata": {},
   "source": [
    "Notamos la existencia de outliers en varias columnas, por ejemplo, un valor máximo de 1.100 camas o 75 baños. Analizaremos a continuación cada una de las columnas"
   ]
  },
  {
   "attachments": {},
   "cell_type": "markdown",
   "metadata": {},
   "source": [
    "Analizemos \"sqfeet\" en busqueda de outliers"
   ]
  },
  {
   "cell_type": "code",
   "execution_count": 142,
   "metadata": {},
   "outputs": [
    {
     "data": {
      "text/html": [
       "<div>\n",
       "<style scoped>\n",
       "    .dataframe tbody tr th:only-of-type {\n",
       "        vertical-align: middle;\n",
       "    }\n",
       "\n",
       "    .dataframe tbody tr th {\n",
       "        vertical-align: top;\n",
       "    }\n",
       "\n",
       "    .dataframe thead th {\n",
       "        text-align: right;\n",
       "    }\n",
       "</style>\n",
       "<table border=\"1\" class=\"dataframe\">\n",
       "  <thead>\n",
       "    <tr style=\"text-align: right;\">\n",
       "      <th></th>\n",
       "      <th>id</th>\n",
       "      <th>url</th>\n",
       "      <th>region</th>\n",
       "      <th>region_url</th>\n",
       "      <th>price</th>\n",
       "      <th>type</th>\n",
       "      <th>sqfeet</th>\n",
       "      <th>beds</th>\n",
       "      <th>baths</th>\n",
       "      <th>cats_allowed</th>\n",
       "      <th>...</th>\n",
       "      <th>comes_furnished</th>\n",
       "      <th>laundry_options</th>\n",
       "      <th>parking_options</th>\n",
       "      <th>image_url</th>\n",
       "      <th>description</th>\n",
       "      <th>lat</th>\n",
       "      <th>long</th>\n",
       "      <th>state</th>\n",
       "      <th>category_price</th>\n",
       "      <th>publicaciones</th>\n",
       "    </tr>\n",
       "  </thead>\n",
       "  <tbody>\n",
       "    <tr>\n",
       "      <th>249237</th>\n",
       "      <td>7017516227</td>\n",
       "      <td>https://mankato.craigslist.org/apa/d/new-ulm-2...</td>\n",
       "      <td>mankato</td>\n",
       "      <td>https://mankato.craigslist.org</td>\n",
       "      <td>750</td>\n",
       "      <td>apartment</td>\n",
       "      <td>8388607</td>\n",
       "      <td>2</td>\n",
       "      <td>1.0</td>\n",
       "      <td>0</td>\n",
       "      <td>...</td>\n",
       "      <td>0</td>\n",
       "      <td>laundry in bldg</td>\n",
       "      <td>detached garage</td>\n",
       "      <td>https://images.craigslist.org/00w0w_nq1l2oBn6W...</td>\n",
       "      <td>Description   2-bedroom, 1-bath unit with smal...</td>\n",
       "      <td>44.3262</td>\n",
       "      <td>-94.4804</td>\n",
       "      <td>mn</td>\n",
       "      <td>1</td>\n",
       "      <td>1</td>\n",
       "    </tr>\n",
       "    <tr>\n",
       "      <th>141803</th>\n",
       "      <td>7046432288</td>\n",
       "      <td>https://santabarbara.craigslist.org/apa/d/sant...</td>\n",
       "      <td>santa barbara</td>\n",
       "      <td>https://santabarbara.craigslist.org</td>\n",
       "      <td>11350</td>\n",
       "      <td>house</td>\n",
       "      <td>1019856</td>\n",
       "      <td>5</td>\n",
       "      <td>4.0</td>\n",
       "      <td>1</td>\n",
       "      <td>...</td>\n",
       "      <td>1</td>\n",
       "      <td>laundry in bldg</td>\n",
       "      <td>attached garage</td>\n",
       "      <td>https://images.craigslist.org/00m0m_a6iuP3382d...</td>\n",
       "      <td>Stunning Ocean View and Gated Luxury Home with...</td>\n",
       "      <td>34.4478</td>\n",
       "      <td>-119.7030</td>\n",
       "      <td>ca</td>\n",
       "      <td>0</td>\n",
       "      <td>1</td>\n",
       "    </tr>\n",
       "    <tr>\n",
       "      <th>47651</th>\n",
       "      <td>7046395842</td>\n",
       "      <td>https://santabarbara.craigslist.org/apa/d/sant...</td>\n",
       "      <td>santa barbara</td>\n",
       "      <td>https://santabarbara.craigslist.org</td>\n",
       "      <td>7250</td>\n",
       "      <td>house</td>\n",
       "      <td>1019856</td>\n",
       "      <td>4</td>\n",
       "      <td>2.0</td>\n",
       "      <td>1</td>\n",
       "      <td>...</td>\n",
       "      <td>1</td>\n",
       "      <td>laundry in bldg</td>\n",
       "      <td>attached garage</td>\n",
       "      <td>https://images.craigslist.org/00k0k_lqGX8GjJBg...</td>\n",
       "      <td>WALK EVERYWHERE IN SANTA BARBARA! Wonderfully ...</td>\n",
       "      <td>34.4308</td>\n",
       "      <td>-119.7020</td>\n",
       "      <td>ca</td>\n",
       "      <td>0</td>\n",
       "      <td>1</td>\n",
       "    </tr>\n",
       "    <tr>\n",
       "      <th>241443</th>\n",
       "      <td>7046343123</td>\n",
       "      <td>https://syracuse.craigslist.org/apa/d/syracuse...</td>\n",
       "      <td>syracuse</td>\n",
       "      <td>https://syracuse.craigslist.org</td>\n",
       "      <td>625</td>\n",
       "      <td>duplex</td>\n",
       "      <td>999999</td>\n",
       "      <td>1</td>\n",
       "      <td>1.0</td>\n",
       "      <td>0</td>\n",
       "      <td>...</td>\n",
       "      <td>0</td>\n",
       "      <td>None</td>\n",
       "      <td>off-street parking</td>\n",
       "      <td>https://images.craigslist.org/00F0F_bmaTZRhAVn...</td>\n",
       "      <td>Rowland St Street | Apt 2 | Syracuse, NY 13204...</td>\n",
       "      <td>43.0444</td>\n",
       "      <td>-76.1758</td>\n",
       "      <td>ny</td>\n",
       "      <td>1</td>\n",
       "      <td>1</td>\n",
       "    </tr>\n",
       "    <tr>\n",
       "      <th>41478</th>\n",
       "      <td>7048286226</td>\n",
       "      <td>https://newlondon.craigslist.org/apa/d/new-lon...</td>\n",
       "      <td>eastern CT</td>\n",
       "      <td>https://newlondon.craigslist.org</td>\n",
       "      <td>750</td>\n",
       "      <td>apartment</td>\n",
       "      <td>999999</td>\n",
       "      <td>1</td>\n",
       "      <td>1.0</td>\n",
       "      <td>0</td>\n",
       "      <td>...</td>\n",
       "      <td>0</td>\n",
       "      <td>laundry in bldg</td>\n",
       "      <td>off-street parking</td>\n",
       "      <td>https://images.craigslist.org/00H0H_3MbpR6z8x0...</td>\n",
       "      <td>Various one bedroom apartments All remodeled, ...</td>\n",
       "      <td>41.3507</td>\n",
       "      <td>-72.1062</td>\n",
       "      <td>ct</td>\n",
       "      <td>1</td>\n",
       "      <td>1</td>\n",
       "    </tr>\n",
       "    <tr>\n",
       "      <th>...</th>\n",
       "      <td>...</td>\n",
       "      <td>...</td>\n",
       "      <td>...</td>\n",
       "      <td>...</td>\n",
       "      <td>...</td>\n",
       "      <td>...</td>\n",
       "      <td>...</td>\n",
       "      <td>...</td>\n",
       "      <td>...</td>\n",
       "      <td>...</td>\n",
       "      <td>...</td>\n",
       "      <td>...</td>\n",
       "      <td>...</td>\n",
       "      <td>...</td>\n",
       "      <td>...</td>\n",
       "      <td>...</td>\n",
       "      <td>...</td>\n",
       "      <td>...</td>\n",
       "      <td>...</td>\n",
       "      <td>...</td>\n",
       "      <td>...</td>\n",
       "    </tr>\n",
       "    <tr>\n",
       "      <th>49827</th>\n",
       "      <td>7039384344</td>\n",
       "      <td>https://lakeland.craigslist.org/apa/d/winter-h...</td>\n",
       "      <td>lakeland</td>\n",
       "      <td>https://lakeland.craigslist.org</td>\n",
       "      <td>900</td>\n",
       "      <td>duplex</td>\n",
       "      <td>0</td>\n",
       "      <td>2</td>\n",
       "      <td>1.0</td>\n",
       "      <td>1</td>\n",
       "      <td>...</td>\n",
       "      <td>0</td>\n",
       "      <td>w/d hookups</td>\n",
       "      <td>off-street parking</td>\n",
       "      <td>https://images.craigslist.org/00E0E_dFwnk6x3cI...</td>\n",
       "      <td>Come Home to \"The Palms on Avenue J\" 2BR/1BA D...</td>\n",
       "      <td>28.0452</td>\n",
       "      <td>-81.7325</td>\n",
       "      <td>fl</td>\n",
       "      <td>1</td>\n",
       "      <td>7</td>\n",
       "    </tr>\n",
       "    <tr>\n",
       "      <th>124652</th>\n",
       "      <td>7039526517</td>\n",
       "      <td>https://boston.craigslist.org/gbs/apa/d/watert...</td>\n",
       "      <td>boston</td>\n",
       "      <td>https://boston.craigslist.org</td>\n",
       "      <td>2500</td>\n",
       "      <td>apartment</td>\n",
       "      <td>0</td>\n",
       "      <td>2</td>\n",
       "      <td>2.5</td>\n",
       "      <td>0</td>\n",
       "      <td>...</td>\n",
       "      <td>0</td>\n",
       "      <td>w/d in unit</td>\n",
       "      <td>street parking</td>\n",
       "      <td>https://images.craigslist.org/00l0l_jUWnSxUubm...</td>\n",
       "      <td>NO BROKER FEE!  1. *Available- January 1st, 20...</td>\n",
       "      <td>42.3677</td>\n",
       "      <td>-71.1879</td>\n",
       "      <td>ma</td>\n",
       "      <td>0</td>\n",
       "      <td>1</td>\n",
       "    </tr>\n",
       "    <tr>\n",
       "      <th>17054</th>\n",
       "      <td>7044628513</td>\n",
       "      <td>https://annarbor.craigslist.org/apa/d/ann-arbo...</td>\n",
       "      <td>ann arbor</td>\n",
       "      <td>https://annarbor.craigslist.org</td>\n",
       "      <td>1200</td>\n",
       "      <td>house</td>\n",
       "      <td>0</td>\n",
       "      <td>1</td>\n",
       "      <td>1.5</td>\n",
       "      <td>1</td>\n",
       "      <td>...</td>\n",
       "      <td>1</td>\n",
       "      <td>w/d in unit</td>\n",
       "      <td>off-street parking</td>\n",
       "      <td>https://images.craigslist.org/00D0D_aqN2oAouB8...</td>\n",
       "      <td>One bedroom house with beautiful two room fini...</td>\n",
       "      <td>42.2403</td>\n",
       "      <td>-83.7035</td>\n",
       "      <td>mi</td>\n",
       "      <td>0</td>\n",
       "      <td>1</td>\n",
       "    </tr>\n",
       "    <tr>\n",
       "      <th>218523</th>\n",
       "      <td>7005593835</td>\n",
       "      <td>https://jxn.craigslist.org/apa/d/jackson-batab...</td>\n",
       "      <td>jackson</td>\n",
       "      <td>https://jxn.craigslist.org</td>\n",
       "      <td>625</td>\n",
       "      <td>apartment</td>\n",
       "      <td>0</td>\n",
       "      <td>1</td>\n",
       "      <td>1.0</td>\n",
       "      <td>1</td>\n",
       "      <td>...</td>\n",
       "      <td>0</td>\n",
       "      <td>laundry in bldg</td>\n",
       "      <td>off-street parking</td>\n",
       "      <td>https://images.craigslist.org/00S0S_lk93dLD8UQ...</td>\n",
       "      <td>We have 1 Bedrooms and 2 Bedrooms. 1st floor, ...</td>\n",
       "      <td>42.2765</td>\n",
       "      <td>-84.4442</td>\n",
       "      <td>mi</td>\n",
       "      <td>1</td>\n",
       "      <td>1</td>\n",
       "    </tr>\n",
       "    <tr>\n",
       "      <th>296637</th>\n",
       "      <td>7045525746</td>\n",
       "      <td>https://boston.craigslist.org/gbs/apa/d/cambri...</td>\n",
       "      <td>boston</td>\n",
       "      <td>https://boston.craigslist.org</td>\n",
       "      <td>3400</td>\n",
       "      <td>apartment</td>\n",
       "      <td>0</td>\n",
       "      <td>3</td>\n",
       "      <td>1.0</td>\n",
       "      <td>0</td>\n",
       "      <td>...</td>\n",
       "      <td>0</td>\n",
       "      <td>w/d in unit</td>\n",
       "      <td>street parking</td>\n",
       "      <td>https://images.craigslist.org/00p0p_gygYYpOcsu...</td>\n",
       "      <td>Beautifully renovated, top floor 3 BR/1 BA Apt...</td>\n",
       "      <td>42.3853</td>\n",
       "      <td>-71.1176</td>\n",
       "      <td>ma</td>\n",
       "      <td>0</td>\n",
       "      <td>1</td>\n",
       "    </tr>\n",
       "  </tbody>\n",
       "</table>\n",
       "<p>168246 rows × 24 columns</p>\n",
       "</div>"
      ],
      "text/plain": [
       "                id                                                url  \\\n",
       "249237  7017516227  https://mankato.craigslist.org/apa/d/new-ulm-2...   \n",
       "141803  7046432288  https://santabarbara.craigslist.org/apa/d/sant...   \n",
       "47651   7046395842  https://santabarbara.craigslist.org/apa/d/sant...   \n",
       "241443  7046343123  https://syracuse.craigslist.org/apa/d/syracuse...   \n",
       "41478   7048286226  https://newlondon.craigslist.org/apa/d/new-lon...   \n",
       "...            ...                                                ...   \n",
       "49827   7039384344  https://lakeland.craigslist.org/apa/d/winter-h...   \n",
       "124652  7039526517  https://boston.craigslist.org/gbs/apa/d/watert...   \n",
       "17054   7044628513  https://annarbor.craigslist.org/apa/d/ann-arbo...   \n",
       "218523  7005593835  https://jxn.craigslist.org/apa/d/jackson-batab...   \n",
       "296637  7045525746  https://boston.craigslist.org/gbs/apa/d/cambri...   \n",
       "\n",
       "               region                           region_url  price       type  \\\n",
       "249237        mankato       https://mankato.craigslist.org    750  apartment   \n",
       "141803  santa barbara  https://santabarbara.craigslist.org  11350      house   \n",
       "47651   santa barbara  https://santabarbara.craigslist.org   7250      house   \n",
       "241443       syracuse      https://syracuse.craigslist.org    625     duplex   \n",
       "41478      eastern CT     https://newlondon.craigslist.org    750  apartment   \n",
       "...               ...                                  ...    ...        ...   \n",
       "49827        lakeland      https://lakeland.craigslist.org    900     duplex   \n",
       "124652         boston        https://boston.craigslist.org   2500  apartment   \n",
       "17054       ann arbor      https://annarbor.craigslist.org   1200      house   \n",
       "218523        jackson           https://jxn.craigslist.org    625  apartment   \n",
       "296637         boston        https://boston.craigslist.org   3400  apartment   \n",
       "\n",
       "         sqfeet  beds  baths  cats_allowed  ...  comes_furnished  \\\n",
       "249237  8388607     2    1.0             0  ...                0   \n",
       "141803  1019856     5    4.0             1  ...                1   \n",
       "47651   1019856     4    2.0             1  ...                1   \n",
       "241443   999999     1    1.0             0  ...                0   \n",
       "41478    999999     1    1.0             0  ...                0   \n",
       "...         ...   ...    ...           ...  ...              ...   \n",
       "49827         0     2    1.0             1  ...                0   \n",
       "124652        0     2    2.5             0  ...                0   \n",
       "17054         0     1    1.5             1  ...                1   \n",
       "218523        0     1    1.0             1  ...                0   \n",
       "296637        0     3    1.0             0  ...                0   \n",
       "\n",
       "        laundry_options     parking_options  \\\n",
       "249237  laundry in bldg     detached garage   \n",
       "141803  laundry in bldg     attached garage   \n",
       "47651   laundry in bldg     attached garage   \n",
       "241443             None  off-street parking   \n",
       "41478   laundry in bldg  off-street parking   \n",
       "...                 ...                 ...   \n",
       "49827       w/d hookups  off-street parking   \n",
       "124652      w/d in unit      street parking   \n",
       "17054       w/d in unit  off-street parking   \n",
       "218523  laundry in bldg  off-street parking   \n",
       "296637      w/d in unit      street parking   \n",
       "\n",
       "                                                image_url  \\\n",
       "249237  https://images.craigslist.org/00w0w_nq1l2oBn6W...   \n",
       "141803  https://images.craigslist.org/00m0m_a6iuP3382d...   \n",
       "47651   https://images.craigslist.org/00k0k_lqGX8GjJBg...   \n",
       "241443  https://images.craigslist.org/00F0F_bmaTZRhAVn...   \n",
       "41478   https://images.craigslist.org/00H0H_3MbpR6z8x0...   \n",
       "...                                                   ...   \n",
       "49827   https://images.craigslist.org/00E0E_dFwnk6x3cI...   \n",
       "124652  https://images.craigslist.org/00l0l_jUWnSxUubm...   \n",
       "17054   https://images.craigslist.org/00D0D_aqN2oAouB8...   \n",
       "218523  https://images.craigslist.org/00S0S_lk93dLD8UQ...   \n",
       "296637  https://images.craigslist.org/00p0p_gygYYpOcsu...   \n",
       "\n",
       "                                              description      lat      long  \\\n",
       "249237  Description   2-bedroom, 1-bath unit with smal...  44.3262  -94.4804   \n",
       "141803  Stunning Ocean View and Gated Luxury Home with...  34.4478 -119.7030   \n",
       "47651   WALK EVERYWHERE IN SANTA BARBARA! Wonderfully ...  34.4308 -119.7020   \n",
       "241443  Rowland St Street | Apt 2 | Syracuse, NY 13204...  43.0444  -76.1758   \n",
       "41478   Various one bedroom apartments All remodeled, ...  41.3507  -72.1062   \n",
       "...                                                   ...      ...       ...   \n",
       "49827   Come Home to \"The Palms on Avenue J\" 2BR/1BA D...  28.0452  -81.7325   \n",
       "124652  NO BROKER FEE!  1. *Available- January 1st, 20...  42.3677  -71.1879   \n",
       "17054   One bedroom house with beautiful two room fini...  42.2403  -83.7035   \n",
       "218523  We have 1 Bedrooms and 2 Bedrooms. 1st floor, ...  42.2765  -84.4442   \n",
       "296637  Beautifully renovated, top floor 3 BR/1 BA Apt...  42.3853  -71.1176   \n",
       "\n",
       "       state category_price  publicaciones  \n",
       "249237    mn              1              1  \n",
       "141803    ca              0              1  \n",
       "47651     ca              0              1  \n",
       "241443    ny              1              1  \n",
       "41478     ct              1              1  \n",
       "...      ...            ...            ...  \n",
       "49827     fl              1              7  \n",
       "124652    ma              0              1  \n",
       "17054     mi              0              1  \n",
       "218523    mi              1              1  \n",
       "296637    ma              0              1  \n",
       "\n",
       "[168246 rows x 24 columns]"
      ]
     },
     "execution_count": 142,
     "metadata": {},
     "output_type": "execute_result"
    }
   ],
   "source": [
    "inmuebles.sort_values(\"sqfeet\",ascending=False)"
   ]
  },
  {
   "attachments": {},
   "cell_type": "markdown",
   "metadata": {},
   "source": [
    "Vemos que hay valores muy altos y valores en cero. De acuerdo a este artículo (https://www.ahs.com/home-matters/real-estate/the-2022-american-home-size-index/) el promedio de square feet de las viviendas en Estados Unidos se acerca de 2.000.\n",
    "Por lo tanto, podemos considerar los valores superiores a 50.000 como errores (especialmente tratandose de alquileres).\n",
    "Tambien consideraremos errores los valores de cero y muy bajos, ya que de acuerdo a este otro artículo (https://www.nyrentownsell.com/blog/square-footage-guide-to-living-real-life-home-example/) , 200 square feets es el mínimo para que la vivienda sea habitable\n",
    "Calcularemos los outliers a continuacion utilizando el método del Rango Intercuartílico"
   ]
  },
  {
   "cell_type": "code",
   "execution_count": 143,
   "metadata": {},
   "outputs": [],
   "source": [
    "def outlier_treatment(datacolumn):\n",
    "    \"\"\"\n",
    "    Definimos una función para detectar outliers\n",
    "    \"\"\"\n",
    "    sorted(datacolumn)\n",
    "    Q1,Q3 = np.percentile(datacolumn , [25,75])\n",
    "    IQR = Q3 - Q1\n",
    "    lower_range = Q1 - (1.5 * IQR)\n",
    "    upper_range = Q3 + (1.5 * IQR)\n",
    "    return lower_range,upper_range"
   ]
  },
  {
   "cell_type": "code",
   "execution_count": 144,
   "metadata": {},
   "outputs": [
    {
     "name": "stdout",
     "output_type": "stream",
     "text": [
      "Lower: 75.0   Upper 1875.0\n"
     ]
    }
   ],
   "source": [
    "# Obtenemos los valores límites inferior y superior\n",
    "lowerbound,upperbound = outlier_treatment(inmuebles.sqfeet)\n",
    "print (\"Lower:\",lowerbound,\" \",\"Upper\",upperbound)\n"
   ]
  },
  {
   "cell_type": "code",
   "execution_count": 145,
   "metadata": {},
   "outputs": [
    {
     "data": {
      "text/html": [
       "<div>\n",
       "<style scoped>\n",
       "    .dataframe tbody tr th:only-of-type {\n",
       "        vertical-align: middle;\n",
       "    }\n",
       "\n",
       "    .dataframe tbody tr th {\n",
       "        vertical-align: top;\n",
       "    }\n",
       "\n",
       "    .dataframe thead th {\n",
       "        text-align: right;\n",
       "    }\n",
       "</style>\n",
       "<table border=\"1\" class=\"dataframe\">\n",
       "  <thead>\n",
       "    <tr style=\"text-align: right;\">\n",
       "      <th></th>\n",
       "      <th>id</th>\n",
       "      <th>url</th>\n",
       "      <th>region</th>\n",
       "      <th>region_url</th>\n",
       "      <th>price</th>\n",
       "      <th>type</th>\n",
       "      <th>sqfeet</th>\n",
       "      <th>beds</th>\n",
       "      <th>baths</th>\n",
       "      <th>cats_allowed</th>\n",
       "      <th>...</th>\n",
       "      <th>comes_furnished</th>\n",
       "      <th>laundry_options</th>\n",
       "      <th>parking_options</th>\n",
       "      <th>image_url</th>\n",
       "      <th>description</th>\n",
       "      <th>lat</th>\n",
       "      <th>long</th>\n",
       "      <th>state</th>\n",
       "      <th>category_price</th>\n",
       "      <th>publicaciones</th>\n",
       "    </tr>\n",
       "  </thead>\n",
       "  <tbody>\n",
       "    <tr>\n",
       "      <th>33</th>\n",
       "      <td>7032658920</td>\n",
       "      <td>https://prescott.craigslist.org/apa/d/prescott...</td>\n",
       "      <td>prescott</td>\n",
       "      <td>https://prescott.craigslist.org</td>\n",
       "      <td>2500</td>\n",
       "      <td>house</td>\n",
       "      <td>3622</td>\n",
       "      <td>3</td>\n",
       "      <td>2.0</td>\n",
       "      <td>1</td>\n",
       "      <td>...</td>\n",
       "      <td>0</td>\n",
       "      <td>w/d in unit</td>\n",
       "      <td>attached garage</td>\n",
       "      <td>https://images.craigslist.org/00D0D_6FAXLgugIp...</td>\n",
       "      <td>Ranch at Prescott home backs to the Prescott N...</td>\n",
       "      <td>34.4958</td>\n",
       "      <td>-112.3780</td>\n",
       "      <td>az</td>\n",
       "      <td>0</td>\n",
       "      <td>1</td>\n",
       "    </tr>\n",
       "    <tr>\n",
       "      <th>42</th>\n",
       "      <td>7043485903</td>\n",
       "      <td>https://albany.craigslist.org/apa/d/albany-roo...</td>\n",
       "      <td>albany</td>\n",
       "      <td>https://albany.craigslist.org</td>\n",
       "      <td>2975</td>\n",
       "      <td>apartment</td>\n",
       "      <td>1946</td>\n",
       "      <td>2</td>\n",
       "      <td>2.0</td>\n",
       "      <td>1</td>\n",
       "      <td>...</td>\n",
       "      <td>0</td>\n",
       "      <td>w/d in unit</td>\n",
       "      <td>detached garage</td>\n",
       "      <td>https://images.craigslist.org/00a0a_5p2eIdMlBN...</td>\n",
       "      <td>***If you are inquiring by email, please inclu...</td>\n",
       "      <td>42.6362</td>\n",
       "      <td>-73.7545</td>\n",
       "      <td>ny</td>\n",
       "      <td>0</td>\n",
       "      <td>2</td>\n",
       "    </tr>\n",
       "    <tr>\n",
       "      <th>48</th>\n",
       "      <td>7024919810</td>\n",
       "      <td>https://treasure.craigslist.org/apa/d/port-sai...</td>\n",
       "      <td>treasure coast</td>\n",
       "      <td>https://treasure.craigslist.org</td>\n",
       "      <td>1750</td>\n",
       "      <td>house</td>\n",
       "      <td>2424</td>\n",
       "      <td>3</td>\n",
       "      <td>2.0</td>\n",
       "      <td>0</td>\n",
       "      <td>...</td>\n",
       "      <td>0</td>\n",
       "      <td>None</td>\n",
       "      <td>None</td>\n",
       "      <td>https://images.craigslist.org/00w0w_43uLLx92Pb...</td>\n",
       "      <td>Beautiful PSL Home. Back patio will be refurbi...</td>\n",
       "      <td>27.2889</td>\n",
       "      <td>-80.2980</td>\n",
       "      <td>fl</td>\n",
       "      <td>0</td>\n",
       "      <td>1</td>\n",
       "    </tr>\n",
       "    <tr>\n",
       "      <th>74</th>\n",
       "      <td>7044025591</td>\n",
       "      <td>https://sandiego.craigslist.org/csd/apa/d/san-...</td>\n",
       "      <td>san diego</td>\n",
       "      <td>https://sandiego.craigslist.org</td>\n",
       "      <td>4500</td>\n",
       "      <td>apartment</td>\n",
       "      <td>2000</td>\n",
       "      <td>3</td>\n",
       "      <td>2.5</td>\n",
       "      <td>0</td>\n",
       "      <td>...</td>\n",
       "      <td>1</td>\n",
       "      <td>w/d in unit</td>\n",
       "      <td>attached garage</td>\n",
       "      <td>https://images.craigslist.org/00P0P_aUxDoj4L4M...</td>\n",
       "      <td>Newer Condo (build in 2008) with Ocean Views. ...</td>\n",
       "      <td>32.7927</td>\n",
       "      <td>-117.2540</td>\n",
       "      <td>ca</td>\n",
       "      <td>0</td>\n",
       "      <td>3</td>\n",
       "    </tr>\n",
       "    <tr>\n",
       "      <th>144</th>\n",
       "      <td>7048383653</td>\n",
       "      <td>https://reno.craigslist.org/apa/d/sparks-6578-...</td>\n",
       "      <td>reno / tahoe</td>\n",
       "      <td>https://reno.craigslist.org</td>\n",
       "      <td>1995</td>\n",
       "      <td>house</td>\n",
       "      <td>2172</td>\n",
       "      <td>3</td>\n",
       "      <td>3.5</td>\n",
       "      <td>0</td>\n",
       "      <td>...</td>\n",
       "      <td>0</td>\n",
       "      <td>w/d hookups</td>\n",
       "      <td>attached garage</td>\n",
       "      <td>https://images.craigslist.org/00U0U_c6Td50scIz...</td>\n",
       "      <td>6578 Aston Circle Sparks NV 89436             ...</td>\n",
       "      <td>39.6132</td>\n",
       "      <td>-119.6910</td>\n",
       "      <td>ca</td>\n",
       "      <td>0</td>\n",
       "      <td>9</td>\n",
       "    </tr>\n",
       "    <tr>\n",
       "      <th>...</th>\n",
       "      <td>...</td>\n",
       "      <td>...</td>\n",
       "      <td>...</td>\n",
       "      <td>...</td>\n",
       "      <td>...</td>\n",
       "      <td>...</td>\n",
       "      <td>...</td>\n",
       "      <td>...</td>\n",
       "      <td>...</td>\n",
       "      <td>...</td>\n",
       "      <td>...</td>\n",
       "      <td>...</td>\n",
       "      <td>...</td>\n",
       "      <td>...</td>\n",
       "      <td>...</td>\n",
       "      <td>...</td>\n",
       "      <td>...</td>\n",
       "      <td>...</td>\n",
       "      <td>...</td>\n",
       "      <td>...</td>\n",
       "      <td>...</td>\n",
       "    </tr>\n",
       "    <tr>\n",
       "      <th>346026</th>\n",
       "      <td>7046428127</td>\n",
       "      <td>https://honolulu.craigslist.org/oah/apa/d/hono...</td>\n",
       "      <td>hawaii</td>\n",
       "      <td>https://honolulu.craigslist.org</td>\n",
       "      <td>4500</td>\n",
       "      <td>house</td>\n",
       "      <td>1950</td>\n",
       "      <td>3</td>\n",
       "      <td>2.0</td>\n",
       "      <td>1</td>\n",
       "      <td>...</td>\n",
       "      <td>0</td>\n",
       "      <td>w/d in unit</td>\n",
       "      <td>carport</td>\n",
       "      <td>https://images.craigslist.org/00m0m_cF4sBpSiEe...</td>\n",
       "      <td>This gorgeous three-bedroom two bath single fa...</td>\n",
       "      <td>21.3117</td>\n",
       "      <td>-157.8300</td>\n",
       "      <td>hi</td>\n",
       "      <td>0</td>\n",
       "      <td>1</td>\n",
       "    </tr>\n",
       "    <tr>\n",
       "      <th>346192</th>\n",
       "      <td>7015150936</td>\n",
       "      <td>https://charlottesville.craigslist.org/apa/d/c...</td>\n",
       "      <td>charlottesville</td>\n",
       "      <td>https://charlottesville.craigslist.org</td>\n",
       "      <td>2275</td>\n",
       "      <td>house</td>\n",
       "      <td>3536</td>\n",
       "      <td>4</td>\n",
       "      <td>3.0</td>\n",
       "      <td>0</td>\n",
       "      <td>...</td>\n",
       "      <td>0</td>\n",
       "      <td>w/d in unit</td>\n",
       "      <td>off-street parking</td>\n",
       "      <td>https://images.craigslist.org/00i0i_3ckkrYFzQ4...</td>\n",
       "      <td>Short or Long term considered ( min 4 months w...</td>\n",
       "      <td>38.0580</td>\n",
       "      <td>-78.4411</td>\n",
       "      <td>va</td>\n",
       "      <td>0</td>\n",
       "      <td>1</td>\n",
       "    </tr>\n",
       "    <tr>\n",
       "      <th>346216</th>\n",
       "      <td>7035130210</td>\n",
       "      <td>https://sarasota.craigslist.org/apa/d/venice-2...</td>\n",
       "      <td>sarasota-bradenton</td>\n",
       "      <td>https://sarasota.craigslist.org</td>\n",
       "      <td>1650</td>\n",
       "      <td>house</td>\n",
       "      <td>2043</td>\n",
       "      <td>2</td>\n",
       "      <td>2.0</td>\n",
       "      <td>0</td>\n",
       "      <td>...</td>\n",
       "      <td>0</td>\n",
       "      <td>w/d in unit</td>\n",
       "      <td>attached garage</td>\n",
       "      <td>https://images.craigslist.org/00C0C_5fp3PRC8Yk...</td>\n",
       "      <td>Annual Rental 2BR/2BA/2CG single family home i...</td>\n",
       "      <td>27.0791</td>\n",
       "      <td>-82.3889</td>\n",
       "      <td>fl</td>\n",
       "      <td>0</td>\n",
       "      <td>1</td>\n",
       "    </tr>\n",
       "    <tr>\n",
       "      <th>346338</th>\n",
       "      <td>7050590699</td>\n",
       "      <td>https://harrisburg.craigslist.org/apa/d/carlis...</td>\n",
       "      <td>harrisburg</td>\n",
       "      <td>https://harrisburg.craigslist.org</td>\n",
       "      <td>1025</td>\n",
       "      <td>condo</td>\n",
       "      <td>1883</td>\n",
       "      <td>4</td>\n",
       "      <td>2.0</td>\n",
       "      <td>0</td>\n",
       "      <td>...</td>\n",
       "      <td>0</td>\n",
       "      <td>None</td>\n",
       "      <td>None</td>\n",
       "      <td>https://images.craigslist.org/00v0v_bpPVCDZJhL...</td>\n",
       "      <td>A park-like setting surrounds this updated cha...</td>\n",
       "      <td>40.2526</td>\n",
       "      <td>-77.2002</td>\n",
       "      <td>pa</td>\n",
       "      <td>0</td>\n",
       "      <td>1</td>\n",
       "    </tr>\n",
       "    <tr>\n",
       "      <th>346447</th>\n",
       "      <td>7023150486</td>\n",
       "      <td>https://chattanooga.craigslist.org/apa/d/signa...</td>\n",
       "      <td>chattanooga</td>\n",
       "      <td>https://chattanooga.craigslist.org</td>\n",
       "      <td>2250</td>\n",
       "      <td>house</td>\n",
       "      <td>2268</td>\n",
       "      <td>3</td>\n",
       "      <td>2.0</td>\n",
       "      <td>1</td>\n",
       "      <td>...</td>\n",
       "      <td>0</td>\n",
       "      <td>w/d in unit</td>\n",
       "      <td>attached garage</td>\n",
       "      <td>https://images.craigslist.org/00W0W_3YuqZlbfFl...</td>\n",
       "      <td>Beautiful, spacious, 3 bdrm, 2 bath home. Big ...</td>\n",
       "      <td>35.1732</td>\n",
       "      <td>-85.3338</td>\n",
       "      <td>tn</td>\n",
       "      <td>0</td>\n",
       "      <td>1</td>\n",
       "    </tr>\n",
       "  </tbody>\n",
       "</table>\n",
       "<p>8487 rows × 24 columns</p>\n",
       "</div>"
      ],
      "text/plain": [
       "                id                                                url  \\\n",
       "33      7032658920  https://prescott.craigslist.org/apa/d/prescott...   \n",
       "42      7043485903  https://albany.craigslist.org/apa/d/albany-roo...   \n",
       "48      7024919810  https://treasure.craigslist.org/apa/d/port-sai...   \n",
       "74      7044025591  https://sandiego.craigslist.org/csd/apa/d/san-...   \n",
       "144     7048383653  https://reno.craigslist.org/apa/d/sparks-6578-...   \n",
       "...            ...                                                ...   \n",
       "346026  7046428127  https://honolulu.craigslist.org/oah/apa/d/hono...   \n",
       "346192  7015150936  https://charlottesville.craigslist.org/apa/d/c...   \n",
       "346216  7035130210  https://sarasota.craigslist.org/apa/d/venice-2...   \n",
       "346338  7050590699  https://harrisburg.craigslist.org/apa/d/carlis...   \n",
       "346447  7023150486  https://chattanooga.craigslist.org/apa/d/signa...   \n",
       "\n",
       "                    region                              region_url  price  \\\n",
       "33                prescott         https://prescott.craigslist.org   2500   \n",
       "42                  albany           https://albany.craigslist.org   2975   \n",
       "48          treasure coast         https://treasure.craigslist.org   1750   \n",
       "74               san diego         https://sandiego.craigslist.org   4500   \n",
       "144           reno / tahoe             https://reno.craigslist.org   1995   \n",
       "...                    ...                                     ...    ...   \n",
       "346026              hawaii         https://honolulu.craigslist.org   4500   \n",
       "346192     charlottesville  https://charlottesville.craigslist.org   2275   \n",
       "346216  sarasota-bradenton         https://sarasota.craigslist.org   1650   \n",
       "346338          harrisburg       https://harrisburg.craigslist.org   1025   \n",
       "346447         chattanooga      https://chattanooga.craigslist.org   2250   \n",
       "\n",
       "             type  sqfeet  beds  baths  cats_allowed  ...  comes_furnished  \\\n",
       "33          house    3622     3    2.0             1  ...                0   \n",
       "42      apartment    1946     2    2.0             1  ...                0   \n",
       "48          house    2424     3    2.0             0  ...                0   \n",
       "74      apartment    2000     3    2.5             0  ...                1   \n",
       "144         house    2172     3    3.5             0  ...                0   \n",
       "...           ...     ...   ...    ...           ...  ...              ...   \n",
       "346026      house    1950     3    2.0             1  ...                0   \n",
       "346192      house    3536     4    3.0             0  ...                0   \n",
       "346216      house    2043     2    2.0             0  ...                0   \n",
       "346338      condo    1883     4    2.0             0  ...                0   \n",
       "346447      house    2268     3    2.0             1  ...                0   \n",
       "\n",
       "        laundry_options     parking_options  \\\n",
       "33          w/d in unit     attached garage   \n",
       "42          w/d in unit     detached garage   \n",
       "48                 None                None   \n",
       "74          w/d in unit     attached garage   \n",
       "144         w/d hookups     attached garage   \n",
       "...                 ...                 ...   \n",
       "346026      w/d in unit             carport   \n",
       "346192      w/d in unit  off-street parking   \n",
       "346216      w/d in unit     attached garage   \n",
       "346338             None                None   \n",
       "346447      w/d in unit     attached garage   \n",
       "\n",
       "                                                image_url  \\\n",
       "33      https://images.craigslist.org/00D0D_6FAXLgugIp...   \n",
       "42      https://images.craigslist.org/00a0a_5p2eIdMlBN...   \n",
       "48      https://images.craigslist.org/00w0w_43uLLx92Pb...   \n",
       "74      https://images.craigslist.org/00P0P_aUxDoj4L4M...   \n",
       "144     https://images.craigslist.org/00U0U_c6Td50scIz...   \n",
       "...                                                   ...   \n",
       "346026  https://images.craigslist.org/00m0m_cF4sBpSiEe...   \n",
       "346192  https://images.craigslist.org/00i0i_3ckkrYFzQ4...   \n",
       "346216  https://images.craigslist.org/00C0C_5fp3PRC8Yk...   \n",
       "346338  https://images.craigslist.org/00v0v_bpPVCDZJhL...   \n",
       "346447  https://images.craigslist.org/00W0W_3YuqZlbfFl...   \n",
       "\n",
       "                                              description      lat      long  \\\n",
       "33      Ranch at Prescott home backs to the Prescott N...  34.4958 -112.3780   \n",
       "42      ***If you are inquiring by email, please inclu...  42.6362  -73.7545   \n",
       "48      Beautiful PSL Home. Back patio will be refurbi...  27.2889  -80.2980   \n",
       "74      Newer Condo (build in 2008) with Ocean Views. ...  32.7927 -117.2540   \n",
       "144     6578 Aston Circle Sparks NV 89436             ...  39.6132 -119.6910   \n",
       "...                                                   ...      ...       ...   \n",
       "346026  This gorgeous three-bedroom two bath single fa...  21.3117 -157.8300   \n",
       "346192  Short or Long term considered ( min 4 months w...  38.0580  -78.4411   \n",
       "346216  Annual Rental 2BR/2BA/2CG single family home i...  27.0791  -82.3889   \n",
       "346338  A park-like setting surrounds this updated cha...  40.2526  -77.2002   \n",
       "346447  Beautiful, spacious, 3 bdrm, 2 bath home. Big ...  35.1732  -85.3338   \n",
       "\n",
       "       state category_price  publicaciones  \n",
       "33        az              0              1  \n",
       "42        ny              0              2  \n",
       "48        fl              0              1  \n",
       "74        ca              0              3  \n",
       "144       ca              0              9  \n",
       "...      ...            ...            ...  \n",
       "346026    hi              0              1  \n",
       "346192    va              0              1  \n",
       "346216    fl              0              1  \n",
       "346338    pa              0              1  \n",
       "346447    tn              0              1  \n",
       "\n",
       "[8487 rows x 24 columns]"
      ]
     },
     "execution_count": 145,
     "metadata": {},
     "output_type": "execute_result"
    }
   ],
   "source": [
    "#Obtenemos algunos ejemplos de outliers\n",
    "inmuebles[(inmuebles.sqfeet < lowerbound) | (inmuebles.sqfeet > upperbound)]"
   ]
  },
  {
   "cell_type": "code",
   "execution_count": 146,
   "metadata": {},
   "outputs": [
    {
     "data": {
      "text/plain": [
       "<AxesSubplot: xlabel='sqfeet'>"
      ]
     },
     "execution_count": 146,
     "metadata": {},
     "output_type": "execute_result"
    },
    {
     "data": {
      "image/png": "[encoded data removed]",
      "text/plain": [
       "<Figure size 640x480 with 1 Axes>"
      ]
     },
     "metadata": {},
     "output_type": "display_data"
    }
   ],
   "source": [
    "# Graficamos\n",
    "sns.boxplot(x=\"sqfeet\", data=inmuebles)"
   ]
  },
  {
   "cell_type": "code",
   "execution_count": 147,
   "metadata": {},
   "outputs": [
    {
     "data": {
      "text/plain": [
       "<AxesSubplot: xlabel='sqfeet'>"
      ]
     },
     "execution_count": 147,
     "metadata": {},
     "output_type": "execute_result"
    },
    {
     "data": {
      "image/png": "[encoded data removed]",
      "text/plain": [
       "<Figure size 640x480 with 1 Axes>"
      ]
     },
     "metadata": {},
     "output_type": "display_data"
    }
   ],
   "source": [
    "# Graficamos sin outliers\n",
    "sns.boxplot(x = 'sqfeet', data = inmuebles, showfliers = False)"
   ]
  },
  {
   "attachments": {},
   "cell_type": "markdown",
   "metadata": {},
   "source": [
    "Como vemos en las gráficas, la cantidad de valores errones es importante. Por un lado, el valor mínimo de 75 squarefeet es muy bajo en relacion a los 200 squarefeet mencionados, con muchos casos dentro del primer cuartil con esos valores, y por otro lado, el valor mínimo de 1.875 es inferior al promedio del tamaño de viviendas en Estados Unidos.\n",
    "Tomaremos entonces como valor mínimo válido 200 squarefeet y como valor máximo, 10.000 squarefeet, reemplazando los valores que exceden los límites, por dichos límites."
   ]
  },
  {
   "cell_type": "code",
   "execution_count": 148,
   "metadata": {},
   "outputs": [],
   "source": [
    "inmuebles['sqfeet'].mask(inmuebles['sqfeet'] < 200, 200, inplace=True)\n",
    "testeo_henry['sqfeet'].mask(testeo_henry['sqfeet'] < 200, 200, inplace=True)"
   ]
  },
  {
   "cell_type": "code",
   "execution_count": 149,
   "metadata": {},
   "outputs": [],
   "source": [
    "inmuebles['sqfeet'].mask(inmuebles['sqfeet'] > 10000, 10000, inplace=True)\n",
    "testeo_henry['sqfeet'].mask(testeo_henry['sqfeet'] > 10000, 10000, inplace=True)"
   ]
  },
  {
   "cell_type": "code",
   "execution_count": 150,
   "metadata": {},
   "outputs": [
    {
     "data": {
      "text/plain": [
       "<AxesSubplot: xlabel='sqfeet'>"
      ]
     },
     "execution_count": 150,
     "metadata": {},
     "output_type": "execute_result"
    },
    {
     "data": {
      "image/png": "[encoded data removed]",
      "text/plain": [
       "<Figure size 640x480 with 1 Axes>"
      ]
     },
     "metadata": {},
     "output_type": "display_data"
    }
   ],
   "source": [
    "# Volvemos a graficar\n",
    "sns.boxplot(x=\"sqfeet\", data=inmuebles)"
   ]
  },
  {
   "attachments": {},
   "cell_type": "markdown",
   "metadata": {},
   "source": [
    "Si bien a simple vista la gráfica indicaria la presencia abundante de outliers aún, consideramos que se relaciona satisfactoriamente a los datos recolectados. Una gran cantidad de propiedades en alquiler por debajo del tamaño promedio de las mismas en Estados Unidos, y una menor cantidad de propiedades de tamaños muy superiores a la media."
   ]
  },
  {
   "attachments": {},
   "cell_type": "markdown",
   "metadata": {},
   "source": [
    "La columna \"publicaciones\" tiene valores (si bien reales), muy superiores a la media. Tomaremos como máximo 30 publicaciones. Ademas consideramos que el set de testeo, al contar con menos casos, no tendrá tantas repeticiones"
   ]
  },
  {
   "cell_type": "code",
   "execution_count": 151,
   "metadata": {},
   "outputs": [],
   "source": [
    "inmuebles['publicaciones'].mask(inmuebles['publicaciones'] > 30, 30, inplace=True)\n",
    "testeo_henry['publicaciones'].mask(testeo_henry['publicaciones'] > 30, 30, inplace=True)"
   ]
  },
  {
   "cell_type": "code",
   "execution_count": 152,
   "metadata": {},
   "outputs": [
    {
     "data": {
      "image/png": "[encoded data removed]",
      "text/plain": [
       "<Figure size 640x480 with 1 Axes>"
      ]
     },
     "metadata": {},
     "output_type": "display_data"
    }
   ],
   "source": [
    "# Graficamos\n",
    "sns.boxplot( y=inmuebles[\"publicaciones\"] )\n",
    "plt.ylim(1, 30)\n",
    "plt.show()"
   ]
  },
  {
   "attachments": {},
   "cell_type": "markdown",
   "metadata": {},
   "source": [
    "Veamos ahora las columnas de camas y baños, que parecen tener outliers"
   ]
  },
  {
   "cell_type": "code",
   "execution_count": 153,
   "metadata": {},
   "outputs": [
    {
     "data": {
      "text/plain": [
       "<AxesSubplot: xlabel='beds'>"
      ]
     },
     "execution_count": 153,
     "metadata": {},
     "output_type": "execute_result"
    },
    {
     "data": {
      "image/png": "[encoded data removed]",
      "text/plain": [
       "<Figure size 640x480 with 1 Axes>"
      ]
     },
     "metadata": {},
     "output_type": "display_data"
    }
   ],
   "source": [
    "# Graficamos camas\n",
    "sns.boxplot(x=\"beds\", data=inmuebles)"
   ]
  },
  {
   "cell_type": "code",
   "execution_count": 154,
   "metadata": {},
   "outputs": [
    {
     "data": {
      "text/plain": [
       "<AxesSubplot: xlabel='beds'>"
      ]
     },
     "execution_count": 154,
     "metadata": {},
     "output_type": "execute_result"
    },
    {
     "data": {
      "image/png": "[encoded data removed]",
      "text/plain": [
       "<Figure size 640x480 with 1 Axes>"
      ]
     },
     "metadata": {},
     "output_type": "display_data"
    }
   ],
   "source": [
    "# Ahora sin outliers\n",
    "sns.boxplot(x = 'beds', data = inmuebles, showfliers = False)"
   ]
  },
  {
   "attachments": {},
   "cell_type": "markdown",
   "metadata": {},
   "source": [
    "Reemplazaremos los valores en 0 por 1 y los valores mayores a 8 por 8."
   ]
  },
  {
   "cell_type": "code",
   "execution_count": 155,
   "metadata": {},
   "outputs": [
    {
     "data": {
      "text/plain": [
       "<AxesSubplot: xlabel='beds'>"
      ]
     },
     "execution_count": 155,
     "metadata": {},
     "output_type": "execute_result"
    },
    {
     "data": {
      "image/png": "[encoded data removed]",
      "text/plain": [
       "<Figure size 640x480 with 1 Axes>"
      ]
     },
     "metadata": {},
     "output_type": "display_data"
    }
   ],
   "source": [
    "inmuebles['beds'].mask(inmuebles['beds'] == 0, 1, inplace=True)\n",
    "inmuebles['beds'].mask(inmuebles['beds'] > 8, 8, inplace=True)\n",
    "testeo_henry['beds'].mask(testeo_henry['beds'] == 0, 1, inplace=True)\n",
    "testeo_henry['beds'].mask(testeo_henry['beds'] > 8, 8, inplace=True)\n",
    "sns.boxplot(x=\"beds\", data=inmuebles)"
   ]
  },
  {
   "cell_type": "code",
   "execution_count": 156,
   "metadata": {},
   "outputs": [
    {
     "data": {
      "text/plain": [
       "<AxesSubplot: xlabel='baths'>"
      ]
     },
     "execution_count": 156,
     "metadata": {},
     "output_type": "execute_result"
    },
    {
     "data": {
      "image/png": "[encoded data removed]",
      "text/plain": [
       "<Figure size 640x480 with 1 Axes>"
      ]
     },
     "metadata": {},
     "output_type": "display_data"
    }
   ],
   "source": [
    "# Graficamos baños\n",
    "sns.boxplot(x=\"baths\", data=inmuebles)"
   ]
  },
  {
   "attachments": {},
   "cell_type": "markdown",
   "metadata": {},
   "source": [
    "Reemplazaremos los valores en 0 por 1 y los valores mayores a 8 por 8."
   ]
  },
  {
   "cell_type": "code",
   "execution_count": 157,
   "metadata": {},
   "outputs": [
    {
     "data": {
      "text/plain": [
       "<AxesSubplot: xlabel='baths'>"
      ]
     },
     "execution_count": 157,
     "metadata": {},
     "output_type": "execute_result"
    },
    {
     "data": {
      "image/png": "[encoded data removed]",
      "text/plain": [
       "<Figure size 640x480 with 1 Axes>"
      ]
     },
     "metadata": {},
     "output_type": "display_data"
    }
   ],
   "source": [
    "inmuebles['baths'].mask(inmuebles['baths'] == 0, 1, inplace=True)\n",
    "inmuebles['baths'].mask(inmuebles['baths'] > 8, 8, inplace=True)\n",
    "testeo_henry['baths'].mask(testeo_henry['baths'] == 0, 1, inplace=True)\n",
    "testeo_henry['baths'].mask(testeo_henry['baths'] > 8, 8, inplace=True)\n",
    "sns.boxplot(x=\"baths\", data=inmuebles)"
   ]
  },
  {
   "attachments": {},
   "cell_type": "markdown",
   "metadata": {},
   "source": [
    "Revisamos ahora la columna de Longitud. Vemos que hay valores en positivo que son erroneos, muchos casos son de Arkansas y vemos que si lo pasamos a negativo, coinciden con la ubicacion de ese Estado. Les cambiamos entonces el signo a los positivos y pasamos a -67.482 los valores mayores"
   ]
  },
  {
   "cell_type": "code",
   "execution_count": 158,
   "metadata": {},
   "outputs": [],
   "source": [
    "inmuebles[\"long\"] = inmuebles[\"long\"].abs()*(-1)\n",
    "testeo_henry[\"long\"] = testeo_henry[\"long\"].abs()*(-1)"
   ]
  },
  {
   "cell_type": "code",
   "execution_count": 159,
   "metadata": {},
   "outputs": [],
   "source": [
    "inmuebles['long'].mask(inmuebles['long'] > (-67.482), (-67.482), inplace=True)\n",
    "testeo_henry['long'].mask(testeo_henry['long'] > (-67.482), (-67.482), inplace=True)"
   ]
  },
  {
   "cell_type": "code",
   "execution_count": 160,
   "metadata": {},
   "outputs": [
    {
     "data": {
      "text/plain": [
       "918"
      ]
     },
     "execution_count": 160,
     "metadata": {},
     "output_type": "execute_result"
    }
   ],
   "source": [
    "# Revisamos existencia de valores nulos\n",
    "inmuebles[\"long\"].isnull().sum()"
   ]
  },
  {
   "cell_type": "code",
   "execution_count": 161,
   "metadata": {},
   "outputs": [],
   "source": [
    "# Reemplazamos nulos por el promedio\n",
    "inmuebles['long'].fillna(int(inmuebles['long'].mean()), inplace=True)\n",
    "testeo_henry['long'].fillna(int(testeo_henry['long'].mean()), inplace=True)"
   ]
  },
  {
   "attachments": {},
   "cell_type": "markdown",
   "metadata": {},
   "source": [
    "Revisamos la columna de Servicio de Lavanderia. Vemos las opciones que contiene."
   ]
  },
  {
   "cell_type": "code",
   "execution_count": 162,
   "metadata": {},
   "outputs": [
    {
     "data": {
      "text/plain": [
       "array(['w/d in unit', 'w/d hookups', 'laundry on site', None,\n",
       "       'laundry in bldg', 'no laundry on site'], dtype=object)"
      ]
     },
     "execution_count": 162,
     "metadata": {},
     "output_type": "execute_result"
    }
   ],
   "source": [
    "inmuebles[\"laundry_options\"].unique()"
   ]
  },
  {
   "cell_type": "code",
   "execution_count": 163,
   "metadata": {},
   "outputs": [
    {
     "data": {
      "text/plain": [
       "33294"
      ]
     },
     "execution_count": 163,
     "metadata": {},
     "output_type": "execute_result"
    }
   ],
   "source": [
    "inmuebles.laundry_options.isnull().sum()"
   ]
  },
  {
   "attachments": {},
   "cell_type": "markdown",
   "metadata": {},
   "source": [
    "Vemos que la cantidad de valores nulos es importante. Asumiremos que corresponden a que el inmueble no tiene el servicio"
   ]
  },
  {
   "cell_type": "code",
   "execution_count": 164,
   "metadata": {},
   "outputs": [
    {
     "data": {
      "text/plain": [
       "0"
      ]
     },
     "execution_count": 164,
     "metadata": {},
     "output_type": "execute_result"
    }
   ],
   "source": [
    "inmuebles[\"laundry_options\"].fillna(\"no laundry on site\", inplace = True)\n",
    "testeo_henry[\"laundry_options\"].fillna(\"no laundry on site\", inplace = True)\n",
    "inmuebles.laundry_options.isnull().sum()"
   ]
  },
  {
   "attachments": {},
   "cell_type": "markdown",
   "metadata": {},
   "source": [
    "Convertimos la variable categorica en numérica. Lo hacemos de manera manual para ordenar los valores de acuerdo a la existencia o no del servicio"
   ]
  },
  {
   "cell_type": "code",
   "execution_count": 165,
   "metadata": {},
   "outputs": [],
   "source": [
    "numeric_var = {'laundry_options': {'no laundry on site':0, 'w/d hookups':1, 'laundry on site':2, 'laundry in bldg':3, \"w/d in unit\":4}}\n",
    "inmuebles = inmuebles.replace(numeric_var)\n",
    "testeo_henry = testeo_henry.replace(numeric_var)"
   ]
  },
  {
   "attachments": {},
   "cell_type": "markdown",
   "metadata": {},
   "source": [
    "Revisamos la columna de Estacionamiento. Vemos las opciones que contiene."
   ]
  },
  {
   "cell_type": "code",
   "execution_count": 166,
   "metadata": {},
   "outputs": [
    {
     "data": {
      "text/plain": [
       "array(['detached garage', 'carport', 'off-street parking', None,\n",
       "       'attached garage', 'street parking', 'no parking', 'valet parking'],\n",
       "      dtype=object)"
      ]
     },
     "execution_count": 166,
     "metadata": {},
     "output_type": "execute_result"
    }
   ],
   "source": [
    "inmuebles[\"parking_options\"].unique()"
   ]
  },
  {
   "cell_type": "code",
   "execution_count": 167,
   "metadata": {},
   "outputs": [
    {
     "data": {
      "text/plain": [
       "55694"
      ]
     },
     "execution_count": 167,
     "metadata": {},
     "output_type": "execute_result"
    }
   ],
   "source": [
    "inmuebles.parking_options.isnull().sum()"
   ]
  },
  {
   "attachments": {},
   "cell_type": "markdown",
   "metadata": {},
   "source": [
    "Nuevamente, no podremos eliminar los nulos, y asumimos que corresponde a propiedad sin estacionamiento.\n",
    "Reemplazamos los nulos y luego convertigos a valores numéricos, agrupando algunas categorias similares"
   ]
  },
  {
   "cell_type": "code",
   "execution_count": 168,
   "metadata": {},
   "outputs": [
    {
     "data": {
      "text/plain": [
       "0"
      ]
     },
     "execution_count": 168,
     "metadata": {},
     "output_type": "execute_result"
    }
   ],
   "source": [
    "inmuebles[\"parking_options\"].fillna(\"no parking\", inplace = True)\n",
    "testeo_henry[\"parking_options\"].fillna(\"no parking\", inplace = True)\n",
    "inmuebles.parking_options.isnull().sum()"
   ]
  },
  {
   "cell_type": "code",
   "execution_count": 169,
   "metadata": {},
   "outputs": [],
   "source": [
    "numeric_var = {'parking_options': {'no parking':0, 'street parking':0, 'off-street parking':1, 'carport':2, \"detached garage\":2, \"attached garage\":3, \"valet parking\":4}}\n",
    "inmuebles = inmuebles.replace(numeric_var)\n",
    "testeo_henry = testeo_henry.replace(numeric_var)"
   ]
  },
  {
   "attachments": {},
   "cell_type": "markdown",
   "metadata": {},
   "source": [
    "Revisaremos ahora la correlación de longitud y latitud con el valor del alquiler para evaluar si eliminamos alguna de ellas o ambas"
   ]
  },
  {
   "cell_type": "code",
   "execution_count": 170,
   "metadata": {},
   "outputs": [
    {
     "data": {
      "text/html": [
       "<div>\n",
       "<style scoped>\n",
       "    .dataframe tbody tr th:only-of-type {\n",
       "        vertical-align: middle;\n",
       "    }\n",
       "\n",
       "    .dataframe tbody tr th {\n",
       "        vertical-align: top;\n",
       "    }\n",
       "\n",
       "    .dataframe thead th {\n",
       "        text-align: right;\n",
       "    }\n",
       "</style>\n",
       "<table border=\"1\" class=\"dataframe\">\n",
       "  <thead>\n",
       "    <tr style=\"text-align: right;\">\n",
       "      <th></th>\n",
       "      <th>lat</th>\n",
       "      <th>long</th>\n",
       "      <th>category_price</th>\n",
       "    </tr>\n",
       "  </thead>\n",
       "  <tbody>\n",
       "    <tr>\n",
       "      <th>lat</th>\n",
       "      <td>1.000000</td>\n",
       "      <td>-0.107618</td>\n",
       "      <td>-0.020959</td>\n",
       "    </tr>\n",
       "    <tr>\n",
       "      <th>long</th>\n",
       "      <td>-0.107618</td>\n",
       "      <td>1.000000</td>\n",
       "      <td>0.169795</td>\n",
       "    </tr>\n",
       "    <tr>\n",
       "      <th>category_price</th>\n",
       "      <td>-0.020959</td>\n",
       "      <td>0.169795</td>\n",
       "      <td>1.000000</td>\n",
       "    </tr>\n",
       "  </tbody>\n",
       "</table>\n",
       "</div>"
      ],
      "text/plain": [
       "                     lat      long  category_price\n",
       "lat             1.000000 -0.107618       -0.020959\n",
       "long           -0.107618  1.000000        0.169795\n",
       "category_price -0.020959  0.169795        1.000000"
      ]
     },
     "execution_count": 170,
     "metadata": {},
     "output_type": "execute_result"
    }
   ],
   "source": [
    "correlaciones = inmuebles[[\"lat\",\"long\",\"category_price\"]].copy()\n",
    "correlaciones.corr()"
   ]
  },
  {
   "attachments": {},
   "cell_type": "markdown",
   "metadata": {},
   "source": [
    "Vemos que la longitud amerita participar del modelo debido a su correlación con el precio. Entendemos que obedece a que indica cercania con el mar (en EEUU la mayor parte de su población busca vivir cerca de las costas Este y Oeste).\n",
    "Eliminaremos latitud, ademas de \"price\" que es un dato que no estará presente en el set de testeo de Henry, y las que creemos que no aportan valor o representan una gran dificultad para incorporar al modelo como \"id\", \"url\", \"region\", \"region_url\", \"image_url\" y \"description\""
   ]
  },
  {
   "cell_type": "code",
   "execution_count": 171,
   "metadata": {},
   "outputs": [],
   "source": [
    "inmuebles.drop([\"id\",\"lat\",\"url\", \"region\", \"region_url\", \"image_url\",\"description\",\"price\"],axis = 1, inplace = True)\n",
    "testeo_henry.drop([\"id\",\"lat\",\"url\", \"region\", \"region_url\", \"image_url\",\"description\"],axis = 1, inplace = True)"
   ]
  },
  {
   "attachments": {},
   "cell_type": "markdown",
   "metadata": {},
   "source": [
    "Revisemos las correlaciones del estado actual del dataframe para eliminar algunas columnas adicionales que en principio no serían de utilidad"
   ]
  },
  {
   "cell_type": "code",
   "execution_count": 172,
   "metadata": {},
   "outputs": [
    {
     "name": "stderr",
     "output_type": "stream",
     "text": [
      "C:\\Users\\rcent\\AppData\\Local\\Temp\\ipykernel_10544\\323934792.py:3: FutureWarning: The default value of numeric_only in DataFrame.corr is deprecated. In a future version, it will default to False. Select only valid columns or specify the value of numeric_only to silence this warning.\n",
      "  heatmap = sns.heatmap(inmuebles.corr(method='spearman')[['category_price']].sort_values(by='category_price', ascending=False), vmin=-1, vmax=1, annot=True, cmap='BrBG')\n"
     ]
    },
    {
     "data": {
      "image/png": "[encoded data removed]",
      "text/plain": [
       "<Figure size 600x1000 with 2 Axes>"
      ]
     },
     "metadata": {},
     "output_type": "display_data"
    }
   ],
   "source": [
    "# Graficamos)\n",
    "plt.figure(figsize=(6, 10))\n",
    "heatmap = sns.heatmap(inmuebles.corr(method='spearman')[['category_price']].sort_values(by='category_price', ascending=False), vmin=-1, vmax=1, annot=True, cmap='BrBG')\n",
    "heatmap.set_title('Features Correlating with Category_Price', fontdict={'fontsize':18}, pad=16);\n"
   ]
  },
  {
   "attachments": {},
   "cell_type": "markdown",
   "metadata": {},
   "source": [
    "De acuerdo al gráfico, en un primer modelo usaremos beds, baths, parking options, laundry options, sqfeet, publicaciones, long y si se permite fumar"
   ]
  },
  {
   "cell_type": "code",
   "execution_count": 173,
   "metadata": {},
   "outputs": [
    {
     "data": {
      "text/plain": [
       "<AxesSubplot: xlabel='count', ylabel='type'>"
      ]
     },
     "execution_count": 173,
     "metadata": {},
     "output_type": "execute_result"
    },
    {
     "data": {
      "image/png": "[encoded data removed]",
      "text/plain": [
       "<Figure size 640x480 with 1 Axes>"
      ]
     },
     "metadata": {},
     "output_type": "display_data"
    }
   ],
   "source": [
    "# Vemos la distribución de la columna \"type\"\n",
    "sns.countplot(y='type', data=inmuebles)"
   ]
  },
  {
   "cell_type": "code",
   "execution_count": 174,
   "metadata": {},
   "outputs": [
    {
     "data": {
      "text/plain": [
       "<AxesSubplot: xlabel='type'>"
      ]
     },
     "execution_count": 174,
     "metadata": {},
     "output_type": "execute_result"
    },
    {
     "data": {
      "image/png": "[encoded data removed]",
      "text/plain": [
       "<Figure size 640x480 with 1 Axes>"
      ]
     },
     "metadata": {},
     "output_type": "display_data"
    }
   ],
   "source": [
    "# Veamos la relación entre el precio del alquiler y el tipo de vivienda\n",
    "agr = inmuebles.groupby(['type', 'category_price']).size().reset_index().pivot(columns='category_price', index='type', values=0)\n",
    "agr.plot(kind='bar', stacked=True)"
   ]
  },
  {
   "attachments": {},
   "cell_type": "markdown",
   "metadata": {},
   "source": [
    "Notamos que en las casas, condominios y townhouses la proporcion de alquileres mayores a $999 es mayor, por lo que en principio dejariamos esta columna. Transformamos a valores numéricos."
   ]
  },
  {
   "cell_type": "code",
   "execution_count": 175,
   "metadata": {},
   "outputs": [],
   "source": [
    "numeric_var = {'type': {'land':0, 'in-law':0, 'assisted living':1, 'manufactured':1, \"apartment\":2, \"flat\":3, \"townhouse\":3, \"loft\":4 ,\"duplex\":4, \"house\":3, \"cottage/cabin\":4, \"condo\":5}}\n",
    "inmuebles = inmuebles.replace(numeric_var)\n",
    "testeo_henry = testeo_henry.replace(numeric_var)"
   ]
  },
  {
   "cell_type": "code",
   "execution_count": 176,
   "metadata": {},
   "outputs": [
    {
     "data": {
      "text/plain": [
       "<AxesSubplot: xlabel='count', ylabel='type'>"
      ]
     },
     "execution_count": 176,
     "metadata": {},
     "output_type": "execute_result"
    },
    {
     "data": {
      "image/png": "[encoded data removed]",
      "text/plain": [
       "<Figure size 640x480 with 1 Axes>"
      ]
     },
     "metadata": {},
     "output_type": "display_data"
    }
   ],
   "source": [
    "# Graficamos las nuevas categorias\n",
    "sns.countplot(y='type', data=inmuebles)"
   ]
  },
  {
   "cell_type": "code",
   "execution_count": 177,
   "metadata": {},
   "outputs": [
    {
     "data": {
      "text/plain": [
       "<AxesSubplot: xlabel='type'>"
      ]
     },
     "execution_count": 177,
     "metadata": {},
     "output_type": "execute_result"
    },
    {
     "data": {
      "image/png": "[encoded data removed]",
      "text/plain": [
       "<Figure size 640x480 with 1 Axes>"
      ]
     },
     "metadata": {},
     "output_type": "display_data"
    }
   ],
   "source": [
    "agr = inmuebles.groupby(['type', 'category_price']).size().reset_index().pivot(columns='category_price', index='type', values=0)\n",
    "agr.plot(kind='bar', stacked=True)"
   ]
  },
  {
   "attachments": {},
   "cell_type": "markdown",
   "metadata": {},
   "source": [
    "Como vemos en este artículo online (https://www.fool.com/the-ascent/research/average-house-price-state/#:~:text=The%20median%20home%20price%20in,in%20the%20U.S.%20at%20%24354%2C649.), el Estado en el cual se ubican las propiedades tiene gran influencia sobre el precio promedio de las mismas.\n",
    "Por lo tanto, vamos a utilizar la columna \"state\", pero necesitamos transformarla en valores numéricos.\n",
    "Haremos esto mediante el método de Binary Encoding, ya que el One-Hot Encoding nos crearía demasiadas nuevas columnas"
   ]
  },
  {
   "cell_type": "code",
   "execution_count": 178,
   "metadata": {},
   "outputs": [
    {
     "data": {
      "text/html": [
       "<div>\n",
       "<style scoped>\n",
       "    .dataframe tbody tr th:only-of-type {\n",
       "        vertical-align: middle;\n",
       "    }\n",
       "\n",
       "    .dataframe tbody tr th {\n",
       "        vertical-align: top;\n",
       "    }\n",
       "\n",
       "    .dataframe thead th {\n",
       "        text-align: right;\n",
       "    }\n",
       "</style>\n",
       "<table border=\"1\" class=\"dataframe\">\n",
       "  <thead>\n",
       "    <tr style=\"text-align: right;\">\n",
       "      <th></th>\n",
       "      <th>type</th>\n",
       "      <th>sqfeet</th>\n",
       "      <th>beds</th>\n",
       "      <th>baths</th>\n",
       "      <th>cats_allowed</th>\n",
       "      <th>dogs_allowed</th>\n",
       "      <th>smoking_allowed</th>\n",
       "      <th>wheelchair_access</th>\n",
       "      <th>electric_vehicle_charge</th>\n",
       "      <th>comes_furnished</th>\n",
       "      <th>...</th>\n",
       "      <th>parking_options</th>\n",
       "      <th>long</th>\n",
       "      <th>state_0</th>\n",
       "      <th>state_1</th>\n",
       "      <th>state_2</th>\n",
       "      <th>state_3</th>\n",
       "      <th>state_4</th>\n",
       "      <th>state_5</th>\n",
       "      <th>category_price</th>\n",
       "      <th>publicaciones</th>\n",
       "    </tr>\n",
       "  </thead>\n",
       "  <tbody>\n",
       "    <tr>\n",
       "      <th>0</th>\n",
       "      <td>3</td>\n",
       "      <td>1200</td>\n",
       "      <td>2</td>\n",
       "      <td>2.0</td>\n",
       "      <td>1</td>\n",
       "      <td>1</td>\n",
       "      <td>1</td>\n",
       "      <td>0</td>\n",
       "      <td>0</td>\n",
       "      <td>0</td>\n",
       "      <td>...</td>\n",
       "      <td>2</td>\n",
       "      <td>-116.2250</td>\n",
       "      <td>0</td>\n",
       "      <td>0</td>\n",
       "      <td>0</td>\n",
       "      <td>0</td>\n",
       "      <td>0</td>\n",
       "      <td>1</td>\n",
       "      <td>0</td>\n",
       "      <td>1</td>\n",
       "    </tr>\n",
       "    <tr>\n",
       "      <th>1</th>\n",
       "      <td>2</td>\n",
       "      <td>694</td>\n",
       "      <td>1</td>\n",
       "      <td>1.0</td>\n",
       "      <td>1</td>\n",
       "      <td>1</td>\n",
       "      <td>1</td>\n",
       "      <td>0</td>\n",
       "      <td>0</td>\n",
       "      <td>0</td>\n",
       "      <td>...</td>\n",
       "      <td>2</td>\n",
       "      <td>-104.7800</td>\n",
       "      <td>0</td>\n",
       "      <td>0</td>\n",
       "      <td>0</td>\n",
       "      <td>0</td>\n",
       "      <td>1</td>\n",
       "      <td>0</td>\n",
       "      <td>0</td>\n",
       "      <td>2</td>\n",
       "    </tr>\n",
       "    <tr>\n",
       "      <th>2</th>\n",
       "      <td>2</td>\n",
       "      <td>900</td>\n",
       "      <td>2</td>\n",
       "      <td>2.0</td>\n",
       "      <td>0</td>\n",
       "      <td>0</td>\n",
       "      <td>1</td>\n",
       "      <td>0</td>\n",
       "      <td>0</td>\n",
       "      <td>0</td>\n",
       "      <td>...</td>\n",
       "      <td>1</td>\n",
       "      <td>-76.1643</td>\n",
       "      <td>0</td>\n",
       "      <td>0</td>\n",
       "      <td>0</td>\n",
       "      <td>0</td>\n",
       "      <td>1</td>\n",
       "      <td>1</td>\n",
       "      <td>0</td>\n",
       "      <td>1</td>\n",
       "    </tr>\n",
       "    <tr>\n",
       "      <th>3</th>\n",
       "      <td>3</td>\n",
       "      <td>1469</td>\n",
       "      <td>3</td>\n",
       "      <td>2.0</td>\n",
       "      <td>1</td>\n",
       "      <td>1</td>\n",
       "      <td>1</td>\n",
       "      <td>0</td>\n",
       "      <td>0</td>\n",
       "      <td>0</td>\n",
       "      <td>...</td>\n",
       "      <td>0</td>\n",
       "      <td>-112.0560</td>\n",
       "      <td>0</td>\n",
       "      <td>0</td>\n",
       "      <td>0</td>\n",
       "      <td>1</td>\n",
       "      <td>0</td>\n",
       "      <td>0</td>\n",
       "      <td>0</td>\n",
       "      <td>1</td>\n",
       "    </tr>\n",
       "    <tr>\n",
       "      <th>4</th>\n",
       "      <td>2</td>\n",
       "      <td>700</td>\n",
       "      <td>1</td>\n",
       "      <td>1.0</td>\n",
       "      <td>1</td>\n",
       "      <td>1</td>\n",
       "      <td>1</td>\n",
       "      <td>0</td>\n",
       "      <td>0</td>\n",
       "      <td>0</td>\n",
       "      <td>...</td>\n",
       "      <td>2</td>\n",
       "      <td>-86.6592</td>\n",
       "      <td>0</td>\n",
       "      <td>0</td>\n",
       "      <td>0</td>\n",
       "      <td>1</td>\n",
       "      <td>0</td>\n",
       "      <td>1</td>\n",
       "      <td>1</td>\n",
       "      <td>4</td>\n",
       "    </tr>\n",
       "  </tbody>\n",
       "</table>\n",
       "<p>5 rows × 21 columns</p>\n",
       "</div>"
      ],
      "text/plain": [
       "   type  sqfeet  beds  baths  cats_allowed  dogs_allowed  smoking_allowed  \\\n",
       "0     3    1200     2    2.0             1             1                1   \n",
       "1     2     694     1    1.0             1             1                1   \n",
       "2     2     900     2    2.0             0             0                1   \n",
       "3     3    1469     3    2.0             1             1                1   \n",
       "4     2     700     1    1.0             1             1                1   \n",
       "\n",
       "   wheelchair_access  electric_vehicle_charge  comes_furnished  ...  \\\n",
       "0                  0                        0                0  ...   \n",
       "1                  0                        0                0  ...   \n",
       "2                  0                        0                0  ...   \n",
       "3                  0                        0                0  ...   \n",
       "4                  0                        0                0  ...   \n",
       "\n",
       "   parking_options      long  state_0  state_1  state_2  state_3  state_4  \\\n",
       "0                2 -116.2250        0        0        0        0        0   \n",
       "1                2 -104.7800        0        0        0        0        1   \n",
       "2                1  -76.1643        0        0        0        0        1   \n",
       "3                0 -112.0560        0        0        0        1        0   \n",
       "4                2  -86.6592        0        0        0        1        0   \n",
       "\n",
       "   state_5  category_price  publicaciones  \n",
       "0        1               0              1  \n",
       "1        0               0              2  \n",
       "2        1               0              1  \n",
       "3        0               0              1  \n",
       "4        1               1              4  \n",
       "\n",
       "[5 rows x 21 columns]"
      ]
     },
     "execution_count": 178,
     "metadata": {},
     "output_type": "execute_result"
    }
   ],
   "source": [
    "inmuebles_ce = inmuebles.copy()\n",
    "testeo_henry_ce = testeo_henry.copy()\n",
    "\n",
    "encoder = ce.BinaryEncoder(cols=['state'])\n",
    "inmuebles_binary = encoder.fit_transform(inmuebles_ce)\n",
    "testeo_henry_binary = encoder.fit_transform(testeo_henry_ce)\n",
    "\n",
    "inmuebles_binary.head()"
   ]
  },
  {
   "cell_type": "code",
   "execution_count": 179,
   "metadata": {},
   "outputs": [
    {
     "data": {
      "text/html": [
       "<div>\n",
       "<style scoped>\n",
       "    .dataframe tbody tr th:only-of-type {\n",
       "        vertical-align: middle;\n",
       "    }\n",
       "\n",
       "    .dataframe tbody tr th {\n",
       "        vertical-align: top;\n",
       "    }\n",
       "\n",
       "    .dataframe thead th {\n",
       "        text-align: right;\n",
       "    }\n",
       "</style>\n",
       "<table border=\"1\" class=\"dataframe\">\n",
       "  <thead>\n",
       "    <tr style=\"text-align: right;\">\n",
       "      <th></th>\n",
       "      <th>type</th>\n",
       "      <th>sqfeet</th>\n",
       "      <th>beds</th>\n",
       "      <th>baths</th>\n",
       "      <th>cats_allowed</th>\n",
       "      <th>dogs_allowed</th>\n",
       "      <th>smoking_allowed</th>\n",
       "      <th>wheelchair_access</th>\n",
       "      <th>electric_vehicle_charge</th>\n",
       "      <th>comes_furnished</th>\n",
       "      <th>laundry_options</th>\n",
       "      <th>parking_options</th>\n",
       "      <th>long</th>\n",
       "      <th>state_0</th>\n",
       "      <th>state_1</th>\n",
       "      <th>state_2</th>\n",
       "      <th>state_3</th>\n",
       "      <th>state_4</th>\n",
       "      <th>state_5</th>\n",
       "      <th>publicaciones</th>\n",
       "    </tr>\n",
       "  </thead>\n",
       "  <tbody>\n",
       "    <tr>\n",
       "      <th>0</th>\n",
       "      <td>1</td>\n",
       "      <td>1344</td>\n",
       "      <td>3</td>\n",
       "      <td>2.0</td>\n",
       "      <td>0</td>\n",
       "      <td>0</td>\n",
       "      <td>1</td>\n",
       "      <td>0</td>\n",
       "      <td>0</td>\n",
       "      <td>0</td>\n",
       "      <td>4</td>\n",
       "      <td>1</td>\n",
       "      <td>-83.5763</td>\n",
       "      <td>0</td>\n",
       "      <td>0</td>\n",
       "      <td>0</td>\n",
       "      <td>0</td>\n",
       "      <td>0</td>\n",
       "      <td>1</td>\n",
       "      <td>3</td>\n",
       "    </tr>\n",
       "    <tr>\n",
       "      <th>1</th>\n",
       "      <td>2</td>\n",
       "      <td>1050</td>\n",
       "      <td>2</td>\n",
       "      <td>1.0</td>\n",
       "      <td>0</td>\n",
       "      <td>0</td>\n",
       "      <td>1</td>\n",
       "      <td>0</td>\n",
       "      <td>0</td>\n",
       "      <td>0</td>\n",
       "      <td>1</td>\n",
       "      <td>1</td>\n",
       "      <td>-72.5538</td>\n",
       "      <td>0</td>\n",
       "      <td>0</td>\n",
       "      <td>0</td>\n",
       "      <td>0</td>\n",
       "      <td>1</td>\n",
       "      <td>0</td>\n",
       "      <td>1</td>\n",
       "    </tr>\n",
       "    <tr>\n",
       "      <th>2</th>\n",
       "      <td>2</td>\n",
       "      <td>1150</td>\n",
       "      <td>2</td>\n",
       "      <td>2.0</td>\n",
       "      <td>1</td>\n",
       "      <td>1</td>\n",
       "      <td>1</td>\n",
       "      <td>1</td>\n",
       "      <td>0</td>\n",
       "      <td>0</td>\n",
       "      <td>4</td>\n",
       "      <td>2</td>\n",
       "      <td>-83.7712</td>\n",
       "      <td>0</td>\n",
       "      <td>0</td>\n",
       "      <td>0</td>\n",
       "      <td>0</td>\n",
       "      <td>0</td>\n",
       "      <td>1</td>\n",
       "      <td>2</td>\n",
       "    </tr>\n",
       "    <tr>\n",
       "      <th>3</th>\n",
       "      <td>2</td>\n",
       "      <td>1280</td>\n",
       "      <td>2</td>\n",
       "      <td>2.5</td>\n",
       "      <td>1</td>\n",
       "      <td>1</td>\n",
       "      <td>0</td>\n",
       "      <td>0</td>\n",
       "      <td>0</td>\n",
       "      <td>0</td>\n",
       "      <td>4</td>\n",
       "      <td>3</td>\n",
       "      <td>-105.0350</td>\n",
       "      <td>0</td>\n",
       "      <td>0</td>\n",
       "      <td>0</td>\n",
       "      <td>0</td>\n",
       "      <td>1</td>\n",
       "      <td>1</td>\n",
       "      <td>1</td>\n",
       "    </tr>\n",
       "    <tr>\n",
       "      <th>4</th>\n",
       "      <td>2</td>\n",
       "      <td>783</td>\n",
       "      <td>2</td>\n",
       "      <td>1.0</td>\n",
       "      <td>1</td>\n",
       "      <td>1</td>\n",
       "      <td>1</td>\n",
       "      <td>0</td>\n",
       "      <td>0</td>\n",
       "      <td>0</td>\n",
       "      <td>2</td>\n",
       "      <td>0</td>\n",
       "      <td>-78.5611</td>\n",
       "      <td>0</td>\n",
       "      <td>0</td>\n",
       "      <td>0</td>\n",
       "      <td>1</td>\n",
       "      <td>0</td>\n",
       "      <td>0</td>\n",
       "      <td>2</td>\n",
       "    </tr>\n",
       "  </tbody>\n",
       "</table>\n",
       "</div>"
      ],
      "text/plain": [
       "   type  sqfeet  beds  baths  cats_allowed  dogs_allowed  smoking_allowed  \\\n",
       "0     1    1344     3    2.0             0             0                1   \n",
       "1     2    1050     2    1.0             0             0                1   \n",
       "2     2    1150     2    2.0             1             1                1   \n",
       "3     2    1280     2    2.5             1             1                0   \n",
       "4     2     783     2    1.0             1             1                1   \n",
       "\n",
       "   wheelchair_access  electric_vehicle_charge  comes_furnished  \\\n",
       "0                  0                        0                0   \n",
       "1                  0                        0                0   \n",
       "2                  1                        0                0   \n",
       "3                  0                        0                0   \n",
       "4                  0                        0                0   \n",
       "\n",
       "   laundry_options  parking_options      long  state_0  state_1  state_2  \\\n",
       "0                4                1  -83.5763        0        0        0   \n",
       "1                1                1  -72.5538        0        0        0   \n",
       "2                4                2  -83.7712        0        0        0   \n",
       "3                4                3 -105.0350        0        0        0   \n",
       "4                2                0  -78.5611        0        0        0   \n",
       "\n",
       "   state_3  state_4  state_5  publicaciones  \n",
       "0        0        0        1              3  \n",
       "1        0        1        0              1  \n",
       "2        0        0        1              2  \n",
       "3        0        1        1              1  \n",
       "4        1        0        0              2  "
      ]
     },
     "execution_count": 179,
     "metadata": {},
     "output_type": "execute_result"
    }
   ],
   "source": [
    "testeo_henry_binary.head()"
   ]
  },
  {
   "cell_type": "code",
   "execution_count": 180,
   "metadata": {},
   "outputs": [],
   "source": [
    "# Generamos un dataframe para hacer las primeras pruebas\n",
    "inmuebles_v1 = inmuebles_binary\n",
    "testeo_henry_v1 = testeo_henry_binary"
   ]
  },
  {
   "cell_type": "code",
   "execution_count": 181,
   "metadata": {},
   "outputs": [],
   "source": [
    "X = inmuebles_v1.drop([\"cats_allowed\",\"dogs_allowed\",\"wheelchair_access\", \"electric_vehicle_charge\", \"comes_furnished\", \"category_price\"],axis = 1)"
   ]
  },
  {
   "cell_type": "code",
   "execution_count": 182,
   "metadata": {},
   "outputs": [],
   "source": [
    "y = inmuebles_v1[\"category_price\"]"
   ]
  },
  {
   "attachments": {},
   "cell_type": "markdown",
   "metadata": {},
   "source": [
    "Comenzaremos testeando un modelo de árbol de decisión"
   ]
  },
  {
   "cell_type": "code",
   "execution_count": 183,
   "metadata": {},
   "outputs": [
    {
     "name": "stdout",
     "output_type": "stream",
     "text": [
      "Completado: 100.0%\n"
     ]
    }
   ],
   "source": [
    "tree_train_scores_mean = []\n",
    "tree_train_scores_std = []\n",
    "tree_test_scores_mean = []\n",
    "tree_test_scores_std = []\n",
    "\n",
    "profundidades = np.arange(1,50,1)\n",
    "i = 0\n",
    "i_max = len(profundidades)\n",
    "for profundidad in profundidades:\n",
    "    i = i + 1\n",
    "    clf = DecisionTreeClassifier(max_depth=profundidad)\n",
    "    tree_scores = cross_validate(clf, X, y, cv=5, return_train_score=True, n_jobs = -1)\n",
    "    \n",
    "    tree_train_scores_mean.append(tree_scores['train_score'].mean())\n",
    "    tree_train_scores_std.append(tree_scores['train_score'].std())\n",
    "    \n",
    "    tree_test_scores_mean.append(tree_scores['test_score'].mean())\n",
    "    tree_test_scores_std.append(tree_scores['test_score'].std())\n",
    "    \n",
    "    clear_output(wait=True)\n",
    "    print('Completado: ' + str(round(i / i_max * 100, 2)) + '%')\n",
    "\n",
    "tree_train_scores_mean = np.array(tree_train_scores_mean)\n",
    "tree_train_scores_std = np.array(tree_train_scores_std)\n",
    "tree_test_scores_mean = np.array(tree_test_scores_mean)\n",
    "tree_test_scores_std = np.array(tree_test_scores_std)"
   ]
  },
  {
   "cell_type": "code",
   "execution_count": 184,
   "metadata": {},
   "outputs": [
    {
     "data": {
      "image/png": "[encoded data removed]",
      "text/plain": [
       "<Figure size 640x480 with 1 Axes>"
      ]
     },
     "metadata": {},
     "output_type": "display_data"
    }
   ],
   "source": [
    "plt.fill_between(profundidades, tree_train_scores_mean - tree_train_scores_std,\n",
    "                 tree_train_scores_mean + tree_train_scores_std, alpha=0.1,\n",
    "                 color=\"r\")\n",
    "plt.fill_between(profundidades, tree_test_scores_mean - tree_test_scores_std,\n",
    "                 tree_test_scores_mean + tree_test_scores_std, alpha=0.1, color=\"g\")\n",
    "\n",
    "plt.plot(profundidades, tree_train_scores_mean, 'o-', color=\"r\",\n",
    "         label=\"Training score\")\n",
    "plt.plot(profundidades, tree_test_scores_mean, 'o-', color=\"g\",\n",
    "         label=\"Test score\")\n",
    "\n",
    "plt.legend()\n",
    "plt.ylabel('Accuracy')\n",
    "plt.xlabel('Profundidad Arbol de Decision')\n",
    "plt.show()"
   ]
  },
  {
   "attachments": {},
   "cell_type": "markdown",
   "metadata": {},
   "source": [
    "De acuerdo a la gráfica de las sucesivas pruebas, tomaremos como 27 la profundidad ideal del Árbol"
   ]
  },
  {
   "cell_type": "code",
   "execution_count": 185,
   "metadata": {},
   "outputs": [],
   "source": [
    "# Iniciamos un modelo con profundidad 27\n",
    "clf = DecisionTreeClassifier(max_depth = 27, random_state = 42) "
   ]
  },
  {
   "cell_type": "code",
   "execution_count": 186,
   "metadata": {},
   "outputs": [],
   "source": [
    "# Separamos el set de entrenamiento de Henry en dos partes para entrenar\n",
    "# y testear\n",
    "X_train, X_test, y_train, y_test = train_test_split(\n",
    "    X, y, test_size=0.2,\n",
    "    random_state=42, stratify=inmuebles_v1['category_price'])"
   ]
  },
  {
   "cell_type": "code",
   "execution_count": 187,
   "metadata": {},
   "outputs": [
    {
     "data": {
      "text/html": [
       "<style>#sk-container-id-4 {color: black;background-color: white;}#sk-container-id-4 pre{padding: 0;}#sk-container-id-4 div.sk-toggleable {background-color: white;}#sk-container-id-4 label.sk-toggleable__label {cursor: pointer;display: block;width: 100%;margin-bottom: 0;padding: 0.3em;box-sizing: border-box;text-align: center;}#sk-container-id-4 label.sk-toggleable__label-arrow:before {content: \"▸\";float: left;margin-right: 0.25em;color: #696969;}#sk-container-id-4 label.sk-toggleable__label-arrow:hover:before {color: black;}#sk-container-id-4 div.sk-estimator:hover label.sk-toggleable__label-arrow:before {color: black;}#sk-container-id-4 div.sk-toggleable__content {max-height: 0;max-width: 0;overflow: hidden;text-align: left;background-color: #f0f8ff;}#sk-container-id-4 div.sk-toggleable__content pre {margin: 0.2em;color: black;border-radius: 0.25em;background-color: #f0f8ff;}#sk-container-id-4 input.sk-toggleable__control:checked~div.sk-toggleable__content {max-height: 200px;max-width: 100%;overflow: auto;}#sk-container-id-4 input.sk-toggleable__control:checked~label.sk-toggleable__label-arrow:before {content: \"▾\";}#sk-container-id-4 div.sk-estimator input.sk-toggleable__control:checked~label.sk-toggleable__label {background-color: #d4ebff;}#sk-container-id-4 div.sk-label input.sk-toggleable__control:checked~label.sk-toggleable__label {background-color: #d4ebff;}#sk-container-id-4 input.sk-hidden--visually {border: 0;clip: rect(1px 1px 1px 1px);clip: rect(1px, 1px, 1px, 1px);height: 1px;margin: -1px;overflow: hidden;padding: 0;position: absolute;width: 1px;}#sk-container-id-4 div.sk-estimator {font-family: monospace;background-color: #f0f8ff;border: 1px dotted black;border-radius: 0.25em;box-sizing: border-box;margin-bottom: 0.5em;}#sk-container-id-4 div.sk-estimator:hover {background-color: #d4ebff;}#sk-container-id-4 div.sk-parallel-item::after {content: \"\";width: 100%;border-bottom: 1px solid gray;flex-grow: 1;}#sk-container-id-4 div.sk-label:hover label.sk-toggleable__label {background-color: #d4ebff;}#sk-container-id-4 div.sk-serial::before {content: \"\";position: absolute;border-left: 1px solid gray;box-sizing: border-box;top: 0;bottom: 0;left: 50%;z-index: 0;}#sk-container-id-4 div.sk-serial {display: flex;flex-direction: column;align-items: center;background-color: white;padding-right: 0.2em;padding-left: 0.2em;position: relative;}#sk-container-id-4 div.sk-item {position: relative;z-index: 1;}#sk-container-id-4 div.sk-parallel {display: flex;align-items: stretch;justify-content: center;background-color: white;position: relative;}#sk-container-id-4 div.sk-item::before, #sk-container-id-4 div.sk-parallel-item::before {content: \"\";position: absolute;border-left: 1px solid gray;box-sizing: border-box;top: 0;bottom: 0;left: 50%;z-index: -1;}#sk-container-id-4 div.sk-parallel-item {display: flex;flex-direction: column;z-index: 1;position: relative;background-color: white;}#sk-container-id-4 div.sk-parallel-item:first-child::after {align-self: flex-end;width: 50%;}#sk-container-id-4 div.sk-parallel-item:last-child::after {align-self: flex-start;width: 50%;}#sk-container-id-4 div.sk-parallel-item:only-child::after {width: 0;}#sk-container-id-4 div.sk-dashed-wrapped {border: 1px dashed gray;margin: 0 0.4em 0.5em 0.4em;box-sizing: border-box;padding-bottom: 0.4em;background-color: white;}#sk-container-id-4 div.sk-label label {font-family: monospace;font-weight: bold;display: inline-block;line-height: 1.2em;}#sk-container-id-4 div.sk-label-container {text-align: center;}#sk-container-id-4 div.sk-container {/* jupyter's `normalize.less` sets `[hidden] { display: none; }` but bootstrap.min.css set `[hidden] { display: none !important; }` so we also need the `!important` here to be able to override the default hidden behavior on the sphinx rendered scikit-learn.org. See: https://github.com/scikit-learn/scikit-learn/issues/21755 */display: inline-block !important;position: relative;}#sk-container-id-4 div.sk-text-repr-fallback {display: none;}</style><div id=\"sk-container-id-4\" class=\"sk-top-container\"><div class=\"sk-text-repr-fallback\"><pre>DecisionTreeClassifier(max_depth=27, random_state=42)</pre><b>In a Jupyter environment, please rerun this cell to show the HTML representation or trust the notebook. <br />On GitHub, the HTML representation is unable to render, please try loading this page with nbviewer.org.</b></div><div class=\"sk-container\" hidden><div class=\"sk-item\"><div class=\"sk-estimator sk-toggleable\"><input class=\"sk-toggleable__control sk-hidden--visually\" id=\"sk-estimator-id-4\" type=\"checkbox\" checked><label for=\"sk-estimator-id-4\" class=\"sk-toggleable__label sk-toggleable__label-arrow\">DecisionTreeClassifier</label><div class=\"sk-toggleable__content\"><pre>DecisionTreeClassifier(max_depth=27, random_state=42)</pre></div></div></div></div></div>"
      ],
      "text/plain": [
       "DecisionTreeClassifier(max_depth=27, random_state=42)"
      ]
     },
     "execution_count": 187,
     "metadata": {},
     "output_type": "execute_result"
    }
   ],
   "source": [
    "# Entrenamoe el modelo\n",
    "clf.fit(X_train, y_train)"
   ]
  },
  {
   "cell_type": "code",
   "execution_count": 188,
   "metadata": {},
   "outputs": [
    {
     "name": "stdout",
     "output_type": "stream",
     "text": [
      "Precisión en el set de entrenamiento:  0.99\n",
      "Precisión en el set de testeo:  0.87\n"
     ]
    }
   ],
   "source": [
    "# Verificamos la precisión del modelo\n",
    "print('Precisión en el set de entrenamiento: {0: .2f}'.format(clf.score(X_train, y_train)))\n",
    "print('Precisión en el set de testeo: {0: .2f}'.format(clf.score(X_test, y_test)))"
   ]
  },
  {
   "cell_type": "code",
   "execution_count": 189,
   "metadata": {},
   "outputs": [],
   "source": [
    "# Realizamos las predicciones\n",
    "X_test = testeo_henry_v1.drop([\"cats_allowed\",\"dogs_allowed\",\"wheelchair_access\", \"electric_vehicle_charge\", \"comes_furnished\"],axis = 1)\n",
    "y_pred = clf.predict(X_test)"
   ]
  },
  {
   "cell_type": "code",
   "execution_count": 190,
   "metadata": {},
   "outputs": [
    {
     "data": {
      "text/plain": [
       "array([0, 0, 0, ..., 1, 0, 1])"
      ]
     },
     "execution_count": 190,
     "metadata": {},
     "output_type": "execute_result"
    }
   ],
   "source": [
    "y_pred"
   ]
  },
  {
   "cell_type": "code",
   "execution_count": 191,
   "metadata": {},
   "outputs": [],
   "source": [
    "# Generamos el archivo con las predicciones para enviar a Henry\n",
    "pd.DataFrame(y_pred).to_csv('adelgerbo.csv', index=False, header = False)"
   ]
  },
  {
   "attachments": {},
   "cell_type": "markdown",
   "metadata": {},
   "source": [
    "# Entrega 1 --- .72 de accuracy y .68 de recall"
   ]
  },
  {
   "attachments": {},
   "cell_type": "markdown",
   "metadata": {},
   "source": [
    "Vamos a probar bajando a 12 la profundidad del Árbol"
   ]
  },
  {
   "cell_type": "code",
   "execution_count": 192,
   "metadata": {},
   "outputs": [],
   "source": [
    "clf = DecisionTreeClassifier(max_depth = 12, random_state = 42) "
   ]
  },
  {
   "cell_type": "code",
   "execution_count": 193,
   "metadata": {},
   "outputs": [],
   "source": [
    "X_train, X_test, y_train, y_test = train_test_split(\n",
    "    X, y, test_size=0.2,\n",
    "    random_state=42, stratify=inmuebles_v1['category_price'])"
   ]
  },
  {
   "cell_type": "code",
   "execution_count": 194,
   "metadata": {},
   "outputs": [
    {
     "data": {
      "text/html": [
       "<style>#sk-container-id-5 {color: black;background-color: white;}#sk-container-id-5 pre{padding: 0;}#sk-container-id-5 div.sk-toggleable {background-color: white;}#sk-container-id-5 label.sk-toggleable__label {cursor: pointer;display: block;width: 100%;margin-bottom: 0;padding: 0.3em;box-sizing: border-box;text-align: center;}#sk-container-id-5 label.sk-toggleable__label-arrow:before {content: \"▸\";float: left;margin-right: 0.25em;color: #696969;}#sk-container-id-5 label.sk-toggleable__label-arrow:hover:before {color: black;}#sk-container-id-5 div.sk-estimator:hover label.sk-toggleable__label-arrow:before {color: black;}#sk-container-id-5 div.sk-toggleable__content {max-height: 0;max-width: 0;overflow: hidden;text-align: left;background-color: #f0f8ff;}#sk-container-id-5 div.sk-toggleable__content pre {margin: 0.2em;color: black;border-radius: 0.25em;background-color: #f0f8ff;}#sk-container-id-5 input.sk-toggleable__control:checked~div.sk-toggleable__content {max-height: 200px;max-width: 100%;overflow: auto;}#sk-container-id-5 input.sk-toggleable__control:checked~label.sk-toggleable__label-arrow:before {content: \"▾\";}#sk-container-id-5 div.sk-estimator input.sk-toggleable__control:checked~label.sk-toggleable__label {background-color: #d4ebff;}#sk-container-id-5 div.sk-label input.sk-toggleable__control:checked~label.sk-toggleable__label {background-color: #d4ebff;}#sk-container-id-5 input.sk-hidden--visually {border: 0;clip: rect(1px 1px 1px 1px);clip: rect(1px, 1px, 1px, 1px);height: 1px;margin: -1px;overflow: hidden;padding: 0;position: absolute;width: 1px;}#sk-container-id-5 div.sk-estimator {font-family: monospace;background-color: #f0f8ff;border: 1px dotted black;border-radius: 0.25em;box-sizing: border-box;margin-bottom: 0.5em;}#sk-container-id-5 div.sk-estimator:hover {background-color: #d4ebff;}#sk-container-id-5 div.sk-parallel-item::after {content: \"\";width: 100%;border-bottom: 1px solid gray;flex-grow: 1;}#sk-container-id-5 div.sk-label:hover label.sk-toggleable__label {background-color: #d4ebff;}#sk-container-id-5 div.sk-serial::before {content: \"\";position: absolute;border-left: 1px solid gray;box-sizing: border-box;top: 0;bottom: 0;left: 50%;z-index: 0;}#sk-container-id-5 div.sk-serial {display: flex;flex-direction: column;align-items: center;background-color: white;padding-right: 0.2em;padding-left: 0.2em;position: relative;}#sk-container-id-5 div.sk-item {position: relative;z-index: 1;}#sk-container-id-5 div.sk-parallel {display: flex;align-items: stretch;justify-content: center;background-color: white;position: relative;}#sk-container-id-5 div.sk-item::before, #sk-container-id-5 div.sk-parallel-item::before {content: \"\";position: absolute;border-left: 1px solid gray;box-sizing: border-box;top: 0;bottom: 0;left: 50%;z-index: -1;}#sk-container-id-5 div.sk-parallel-item {display: flex;flex-direction: column;z-index: 1;position: relative;background-color: white;}#sk-container-id-5 div.sk-parallel-item:first-child::after {align-self: flex-end;width: 50%;}#sk-container-id-5 div.sk-parallel-item:last-child::after {align-self: flex-start;width: 50%;}#sk-container-id-5 div.sk-parallel-item:only-child::after {width: 0;}#sk-container-id-5 div.sk-dashed-wrapped {border: 1px dashed gray;margin: 0 0.4em 0.5em 0.4em;box-sizing: border-box;padding-bottom: 0.4em;background-color: white;}#sk-container-id-5 div.sk-label label {font-family: monospace;font-weight: bold;display: inline-block;line-height: 1.2em;}#sk-container-id-5 div.sk-label-container {text-align: center;}#sk-container-id-5 div.sk-container {/* jupyter's `normalize.less` sets `[hidden] { display: none; }` but bootstrap.min.css set `[hidden] { display: none !important; }` so we also need the `!important` here to be able to override the default hidden behavior on the sphinx rendered scikit-learn.org. See: https://github.com/scikit-learn/scikit-learn/issues/21755 */display: inline-block !important;position: relative;}#sk-container-id-5 div.sk-text-repr-fallback {display: none;}</style><div id=\"sk-container-id-5\" class=\"sk-top-container\"><div class=\"sk-text-repr-fallback\"><pre>DecisionTreeClassifier(max_depth=12, random_state=42)</pre><b>In a Jupyter environment, please rerun this cell to show the HTML representation or trust the notebook. <br />On GitHub, the HTML representation is unable to render, please try loading this page with nbviewer.org.</b></div><div class=\"sk-container\" hidden><div class=\"sk-item\"><div class=\"sk-estimator sk-toggleable\"><input class=\"sk-toggleable__control sk-hidden--visually\" id=\"sk-estimator-id-5\" type=\"checkbox\" checked><label for=\"sk-estimator-id-5\" class=\"sk-toggleable__label sk-toggleable__label-arrow\">DecisionTreeClassifier</label><div class=\"sk-toggleable__content\"><pre>DecisionTreeClassifier(max_depth=12, random_state=42)</pre></div></div></div></div></div>"
      ],
      "text/plain": [
       "DecisionTreeClassifier(max_depth=12, random_state=42)"
      ]
     },
     "execution_count": 194,
     "metadata": {},
     "output_type": "execute_result"
    }
   ],
   "source": [
    "clf.fit(X_train, y_train)"
   ]
  },
  {
   "cell_type": "code",
   "execution_count": 195,
   "metadata": {},
   "outputs": [
    {
     "name": "stdout",
     "output_type": "stream",
     "text": [
      "Precisión en el set de entrenamiento:  0.85\n",
      "Precisión en el set de testeo:  0.82\n"
     ]
    }
   ],
   "source": [
    "print('Precisión en el set de entrenamiento: {0: .2f}'.format(clf.score(X_train, y_train)))\n",
    "print('Precisión en el set de testeo: {0: .2f}'.format(clf.score(X_test, y_test)))"
   ]
  },
  {
   "cell_type": "code",
   "execution_count": 196,
   "metadata": {},
   "outputs": [],
   "source": [
    "X_test = testeo_henry_v1.drop([\"cats_allowed\",\"dogs_allowed\",\"wheelchair_access\", \"electric_vehicle_charge\", \"comes_furnished\"],axis = 1)\n",
    "y_pred = clf.predict(X_test)"
   ]
  },
  {
   "cell_type": "code",
   "execution_count": 197,
   "metadata": {},
   "outputs": [
    {
     "data": {
      "text/plain": [
       "array([0, 0, 0, ..., 1, 0, 1])"
      ]
     },
     "execution_count": 197,
     "metadata": {},
     "output_type": "execute_result"
    }
   ],
   "source": [
    "y_pred"
   ]
  },
  {
   "cell_type": "code",
   "execution_count": 198,
   "metadata": {},
   "outputs": [],
   "source": [
    "pd.DataFrame(y_pred).to_csv('adelgerbo.csv', index=False, header = False)"
   ]
  },
  {
   "attachments": {},
   "cell_type": "markdown",
   "metadata": {},
   "source": [
    "# Entrega 2 --- .74 de accuracy y .70 de recall"
   ]
  },
  {
   "attachments": {},
   "cell_type": "markdown",
   "metadata": {},
   "source": [
    "Vamos a probar eliminando las columnas del Estado"
   ]
  },
  {
   "cell_type": "code",
   "execution_count": 199,
   "metadata": {},
   "outputs": [],
   "source": [
    "X = X.drop([\"state_0\",\"state_1\",\"state_2\",\"state_3\",\"state_4\",\"state_5\"], axis=1)"
   ]
  },
  {
   "cell_type": "code",
   "execution_count": 200,
   "metadata": {},
   "outputs": [
    {
     "name": "stdout",
     "output_type": "stream",
     "text": [
      "Completado: 100.0%\n"
     ]
    }
   ],
   "source": [
    "tree_train_scores_mean = []\n",
    "tree_train_scores_std = []\n",
    "tree_test_scores_mean = []\n",
    "tree_test_scores_std = []\n",
    "\n",
    "profundidades = np.arange(1,30,1)\n",
    "i = 0\n",
    "i_max = len(profundidades)\n",
    "for profundidad in profundidades:\n",
    "    i = i + 1\n",
    "    clf = DecisionTreeClassifier(max_depth=profundidad)\n",
    "    tree_scores = cross_validate(clf, X, y, cv=5, return_train_score=True, n_jobs = -1)\n",
    "    \n",
    "    tree_train_scores_mean.append(tree_scores['train_score'].mean())\n",
    "    tree_train_scores_std.append(tree_scores['train_score'].std())\n",
    "    \n",
    "    tree_test_scores_mean.append(tree_scores['test_score'].mean())\n",
    "    tree_test_scores_std.append(tree_scores['test_score'].std())\n",
    "    \n",
    "    clear_output(wait=True)\n",
    "    print('Completado: ' + str(round(i / i_max * 100, 2)) + '%')\n",
    "\n",
    "tree_train_scores_mean = np.array(tree_train_scores_mean)\n",
    "tree_train_scores_std = np.array(tree_train_scores_std)\n",
    "tree_test_scores_mean = np.array(tree_test_scores_mean)\n",
    "tree_test_scores_std = np.array(tree_test_scores_std)"
   ]
  },
  {
   "cell_type": "code",
   "execution_count": 201,
   "metadata": {},
   "outputs": [
    {
     "data": {
      "image/png": "[encoded data removed]",
      "text/plain": [
       "<Figure size 640x480 with 1 Axes>"
      ]
     },
     "metadata": {},
     "output_type": "display_data"
    }
   ],
   "source": [
    "plt.fill_between(profundidades, tree_train_scores_mean - tree_train_scores_std,\n",
    "                 tree_train_scores_mean + tree_train_scores_std, alpha=0.1,\n",
    "                 color=\"r\")\n",
    "plt.fill_between(profundidades, tree_test_scores_mean - tree_test_scores_std,\n",
    "                 tree_test_scores_mean + tree_test_scores_std, alpha=0.1, color=\"g\")\n",
    "\n",
    "plt.plot(profundidades, tree_train_scores_mean, 'o-', color=\"r\",\n",
    "         label=\"Training score\")\n",
    "plt.plot(profundidades, tree_test_scores_mean, 'o-', color=\"g\",\n",
    "         label=\"Test score\")\n",
    "\n",
    "plt.legend()\n",
    "plt.ylabel('Accuracy')\n",
    "plt.xlabel('Profundidad Arbol de Decision')\n",
    "plt.show()"
   ]
  },
  {
   "cell_type": "code",
   "execution_count": 202,
   "metadata": {},
   "outputs": [],
   "source": [
    "# Iniciamos un modelo con profundidad de 9\n",
    "clf = DecisionTreeClassifier(max_depth = 9, random_state = 42) "
   ]
  },
  {
   "cell_type": "code",
   "execution_count": 203,
   "metadata": {},
   "outputs": [],
   "source": [
    "X_train, X_test, y_train, y_test = train_test_split(\n",
    "    X, y, test_size=0.2,\n",
    "    random_state=42, stratify=inmuebles_v1['category_price'])"
   ]
  },
  {
   "cell_type": "code",
   "execution_count": 204,
   "metadata": {},
   "outputs": [
    {
     "data": {
      "text/html": [
       "<style>#sk-container-id-6 {color: black;background-color: white;}#sk-container-id-6 pre{padding: 0;}#sk-container-id-6 div.sk-toggleable {background-color: white;}#sk-container-id-6 label.sk-toggleable__label {cursor: pointer;display: block;width: 100%;margin-bottom: 0;padding: 0.3em;box-sizing: border-box;text-align: center;}#sk-container-id-6 label.sk-toggleable__label-arrow:before {content: \"▸\";float: left;margin-right: 0.25em;color: #696969;}#sk-container-id-6 label.sk-toggleable__label-arrow:hover:before {color: black;}#sk-container-id-6 div.sk-estimator:hover label.sk-toggleable__label-arrow:before {color: black;}#sk-container-id-6 div.sk-toggleable__content {max-height: 0;max-width: 0;overflow: hidden;text-align: left;background-color: #f0f8ff;}#sk-container-id-6 div.sk-toggleable__content pre {margin: 0.2em;color: black;border-radius: 0.25em;background-color: #f0f8ff;}#sk-container-id-6 input.sk-toggleable__control:checked~div.sk-toggleable__content {max-height: 200px;max-width: 100%;overflow: auto;}#sk-container-id-6 input.sk-toggleable__control:checked~label.sk-toggleable__label-arrow:before {content: \"▾\";}#sk-container-id-6 div.sk-estimator input.sk-toggleable__control:checked~label.sk-toggleable__label {background-color: #d4ebff;}#sk-container-id-6 div.sk-label input.sk-toggleable__control:checked~label.sk-toggleable__label {background-color: #d4ebff;}#sk-container-id-6 input.sk-hidden--visually {border: 0;clip: rect(1px 1px 1px 1px);clip: rect(1px, 1px, 1px, 1px);height: 1px;margin: -1px;overflow: hidden;padding: 0;position: absolute;width: 1px;}#sk-container-id-6 div.sk-estimator {font-family: monospace;background-color: #f0f8ff;border: 1px dotted black;border-radius: 0.25em;box-sizing: border-box;margin-bottom: 0.5em;}#sk-container-id-6 div.sk-estimator:hover {background-color: #d4ebff;}#sk-container-id-6 div.sk-parallel-item::after {content: \"\";width: 100%;border-bottom: 1px solid gray;flex-grow: 1;}#sk-container-id-6 div.sk-label:hover label.sk-toggleable__label {background-color: #d4ebff;}#sk-container-id-6 div.sk-serial::before {content: \"\";position: absolute;border-left: 1px solid gray;box-sizing: border-box;top: 0;bottom: 0;left: 50%;z-index: 0;}#sk-container-id-6 div.sk-serial {display: flex;flex-direction: column;align-items: center;background-color: white;padding-right: 0.2em;padding-left: 0.2em;position: relative;}#sk-container-id-6 div.sk-item {position: relative;z-index: 1;}#sk-container-id-6 div.sk-parallel {display: flex;align-items: stretch;justify-content: center;background-color: white;position: relative;}#sk-container-id-6 div.sk-item::before, #sk-container-id-6 div.sk-parallel-item::before {content: \"\";position: absolute;border-left: 1px solid gray;box-sizing: border-box;top: 0;bottom: 0;left: 50%;z-index: -1;}#sk-container-id-6 div.sk-parallel-item {display: flex;flex-direction: column;z-index: 1;position: relative;background-color: white;}#sk-container-id-6 div.sk-parallel-item:first-child::after {align-self: flex-end;width: 50%;}#sk-container-id-6 div.sk-parallel-item:last-child::after {align-self: flex-start;width: 50%;}#sk-container-id-6 div.sk-parallel-item:only-child::after {width: 0;}#sk-container-id-6 div.sk-dashed-wrapped {border: 1px dashed gray;margin: 0 0.4em 0.5em 0.4em;box-sizing: border-box;padding-bottom: 0.4em;background-color: white;}#sk-container-id-6 div.sk-label label {font-family: monospace;font-weight: bold;display: inline-block;line-height: 1.2em;}#sk-container-id-6 div.sk-label-container {text-align: center;}#sk-container-id-6 div.sk-container {/* jupyter's `normalize.less` sets `[hidden] { display: none; }` but bootstrap.min.css set `[hidden] { display: none !important; }` so we also need the `!important` here to be able to override the default hidden behavior on the sphinx rendered scikit-learn.org. See: https://github.com/scikit-learn/scikit-learn/issues/21755 */display: inline-block !important;position: relative;}#sk-container-id-6 div.sk-text-repr-fallback {display: none;}</style><div id=\"sk-container-id-6\" class=\"sk-top-container\"><div class=\"sk-text-repr-fallback\"><pre>DecisionTreeClassifier(max_depth=9, random_state=42)</pre><b>In a Jupyter environment, please rerun this cell to show the HTML representation or trust the notebook. <br />On GitHub, the HTML representation is unable to render, please try loading this page with nbviewer.org.</b></div><div class=\"sk-container\" hidden><div class=\"sk-item\"><div class=\"sk-estimator sk-toggleable\"><input class=\"sk-toggleable__control sk-hidden--visually\" id=\"sk-estimator-id-6\" type=\"checkbox\" checked><label for=\"sk-estimator-id-6\" class=\"sk-toggleable__label sk-toggleable__label-arrow\">DecisionTreeClassifier</label><div class=\"sk-toggleable__content\"><pre>DecisionTreeClassifier(max_depth=9, random_state=42)</pre></div></div></div></div></div>"
      ],
      "text/plain": [
       "DecisionTreeClassifier(max_depth=9, random_state=42)"
      ]
     },
     "execution_count": 204,
     "metadata": {},
     "output_type": "execute_result"
    }
   ],
   "source": [
    "clf.fit(X_train, y_train)"
   ]
  },
  {
   "cell_type": "code",
   "execution_count": 205,
   "metadata": {},
   "outputs": [
    {
     "name": "stdout",
     "output_type": "stream",
     "text": [
      "Precisión en el set de entrenamiento:  0.80\n",
      "Precisión en el set de testeo:  0.79\n"
     ]
    }
   ],
   "source": [
    "print('Precisión en el set de entrenamiento: {0: .2f}'.format(clf.score(X_train, y_train)))\n",
    "print('Precisión en el set de testeo: {0: .2f}'.format(clf.score(X_test, y_test)))"
   ]
  },
  {
   "cell_type": "code",
   "execution_count": 206,
   "metadata": {},
   "outputs": [],
   "source": [
    "X_test = testeo_henry_v1.drop([\"cats_allowed\",\"dogs_allowed\",\"wheelchair_access\", \"electric_vehicle_charge\", \"comes_furnished\",\"state_0\",\"state_1\",\"state_2\",\"state_3\",\"state_4\",\"state_5\"],axis = 1)\n",
    "y_pred = clf.predict(X_test)"
   ]
  },
  {
   "cell_type": "code",
   "execution_count": 207,
   "metadata": {},
   "outputs": [
    {
     "data": {
      "text/plain": [
       "array([0, 0, 0, ..., 0, 0, 1])"
      ]
     },
     "execution_count": 207,
     "metadata": {},
     "output_type": "execute_result"
    }
   ],
   "source": [
    "y_pred"
   ]
  },
  {
   "cell_type": "code",
   "execution_count": 208,
   "metadata": {},
   "outputs": [],
   "source": [
    "pd.DataFrame(y_pred).to_csv('adelgerbo.csv', index=False, header = False)"
   ]
  },
  {
   "attachments": {},
   "cell_type": "markdown",
   "metadata": {},
   "source": [
    "# Entrega 3 --- .79 de accuracy y .78 de recall"
   ]
  },
  {
   "attachments": {},
   "cell_type": "markdown",
   "metadata": {},
   "source": [
    "Vamos a revisar nuevamente las correlaciones para evaluar eliminar algunas columnas mas"
   ]
  },
  {
   "cell_type": "code",
   "execution_count": 210,
   "metadata": {},
   "outputs": [],
   "source": [
    "inmuebles_v2 = inmuebles_v1.drop([\"cats_allowed\",\"dogs_allowed\",\"wheelchair_access\", \"electric_vehicle_charge\", \"comes_furnished\", \"state_0\",\"state_1\",\"state_2\",\"state_3\",\"state_4\",\"state_5\"], axis=1)"
   ]
  },
  {
   "cell_type": "code",
   "execution_count": 211,
   "metadata": {},
   "outputs": [
    {
     "data": {
      "image/png": "[encoded data removed]",
      "text/plain": [
       "<Figure size 1600x600 with 2 Axes>"
      ]
     },
     "metadata": {},
     "output_type": "display_data"
    }
   ],
   "source": [
    "# Graficamos las correlaciones\n",
    "plt.figure(figsize=(16, 6))\n",
    "heatmap = sns.heatmap(inmuebles_v2.corr(), vmin=-1, vmax=1, annot=True)\n",
    "heatmap.set_title('Correlation Heatmap', fontdict={'fontsize':12}, pad=12);"
   ]
  },
  {
   "cell_type": "code",
   "execution_count": 212,
   "metadata": {},
   "outputs": [
    {
     "data": {
      "image/png": "[encoded data removed]",
      "text/plain": [
       "<Figure size 800x1200 with 2 Axes>"
      ]
     },
     "metadata": {},
     "output_type": "display_data"
    }
   ],
   "source": [
    "# Graficamos solamente las correlaciones con el target\n",
    "plt.figure(figsize=(8, 12))\n",
    "heatmap = sns.heatmap(inmuebles_v2.corr()[['category_price']].sort_values(by='category_price', ascending=False), vmin=-1, vmax=1, annot=True, cmap='BrBG')\n",
    "heatmap.set_title('Features Correlating with Category_Price', fontdict={'fontsize':18}, pad=16);"
   ]
  },
  {
   "attachments": {},
   "cell_type": "markdown",
   "metadata": {},
   "source": [
    "Eliminaremos \"Smoking Allowed\", \"Publicaciones\", \"Type y \"Beds\""
   ]
  },
  {
   "cell_type": "code",
   "execution_count": 213,
   "metadata": {},
   "outputs": [],
   "source": [
    "X = X.drop([\"smoking_allowed\",\"publicaciones\",\"type\"], axis=1)"
   ]
  },
  {
   "cell_type": "code",
   "execution_count": 214,
   "metadata": {},
   "outputs": [
    {
     "name": "stdout",
     "output_type": "stream",
     "text": [
      "Completado: 100.0%\n"
     ]
    }
   ],
   "source": [
    "tree_train_scores_mean = []\n",
    "tree_train_scores_std = []\n",
    "tree_test_scores_mean = []\n",
    "tree_test_scores_std = []\n",
    "\n",
    "profundidades = np.arange(1,30,1)\n",
    "i = 0\n",
    "i_max = len(profundidades)\n",
    "for profundidad in profundidades:\n",
    "    i = i + 1\n",
    "    clf = DecisionTreeClassifier(max_depth=profundidad)\n",
    "    tree_scores = cross_validate(clf, X, y, cv=5, return_train_score=True, n_jobs = -1)\n",
    "    \n",
    "    tree_train_scores_mean.append(tree_scores['train_score'].mean())\n",
    "    tree_train_scores_std.append(tree_scores['train_score'].std())\n",
    "    \n",
    "    tree_test_scores_mean.append(tree_scores['test_score'].mean())\n",
    "    tree_test_scores_std.append(tree_scores['test_score'].std())\n",
    "    \n",
    "    clear_output(wait=True)\n",
    "    print('Completado: ' + str(round(i / i_max * 100, 2)) + '%')\n",
    "\n",
    "tree_train_scores_mean = np.array(tree_train_scores_mean)\n",
    "tree_train_scores_std = np.array(tree_train_scores_std)\n",
    "tree_test_scores_mean = np.array(tree_test_scores_mean)\n",
    "tree_test_scores_std = np.array(tree_test_scores_std)"
   ]
  },
  {
   "cell_type": "code",
   "execution_count": 215,
   "metadata": {},
   "outputs": [
    {
     "data": {
      "image/png": "[encoded data removed]",
      "text/plain": [
       "<Figure size 640x480 with 1 Axes>"
      ]
     },
     "metadata": {},
     "output_type": "display_data"
    }
   ],
   "source": [
    "plt.fill_between(profundidades, tree_train_scores_mean - tree_train_scores_std,\n",
    "                 tree_train_scores_mean + tree_train_scores_std, alpha=0.1,\n",
    "                 color=\"r\")\n",
    "plt.fill_between(profundidades, tree_test_scores_mean - tree_test_scores_std,\n",
    "                 tree_test_scores_mean + tree_test_scores_std, alpha=0.1, color=\"g\")\n",
    "\n",
    "plt.plot(profundidades, tree_train_scores_mean, 'o-', color=\"r\",\n",
    "         label=\"Training score\")\n",
    "plt.plot(profundidades, tree_test_scores_mean, 'o-', color=\"g\",\n",
    "         label=\"Test score\")\n",
    "\n",
    "plt.legend()\n",
    "plt.ylabel('Accuracy')\n",
    "plt.xlabel('Profundidad Arbol de Decision')\n",
    "plt.show()"
   ]
  },
  {
   "cell_type": "code",
   "execution_count": 216,
   "metadata": {},
   "outputs": [
    {
     "name": "stdout",
     "output_type": "stream",
     "text": [
      "Precisión en el set de entrenamiento:  0.83\n",
      "Precisión en el set de testeo:  0.81\n"
     ]
    }
   ],
   "source": [
    "# Probamos un modelo con un maximo de 11 de profundidad\n",
    "clf = DecisionTreeClassifier(max_depth = 11, random_state = 42)\n",
    "X_train, X_test, y_train, y_test = train_test_split(\n",
    "    X, y, test_size=0.2,\n",
    "    random_state=42) \n",
    "clf.fit(X_train, y_train)\n",
    "print('Precisión en el set de entrenamiento: {0: .2f}'.format(clf.score(X_train, y_train)))\n",
    "print('Precisión en el set de testeo: {0: .2f}'.format(clf.score(X_test, y_test)))"
   ]
  },
  {
   "cell_type": "code",
   "execution_count": 217,
   "metadata": {},
   "outputs": [],
   "source": [
    "testeo_henry_v2 = testeo_henry_v1.drop([\"cats_allowed\",\"dogs_allowed\",\"wheelchair_access\", \"electric_vehicle_charge\", \"comes_furnished\", \"state_0\",\"state_1\",\"state_2\",\"state_3\",\"state_4\",\"state_5\",\"smoking_allowed\",\"publicaciones\",\"type\"], axis=1)"
   ]
  },
  {
   "cell_type": "code",
   "execution_count": 218,
   "metadata": {},
   "outputs": [],
   "source": [
    "X_test = testeo_henry_v2\n",
    "y_pred = clf.predict(X_test)"
   ]
  },
  {
   "cell_type": "code",
   "execution_count": 219,
   "metadata": {},
   "outputs": [],
   "source": [
    "pd.DataFrame(y_pred).to_csv('adelgerbo.csv', index=False, header = False)"
   ]
  },
  {
   "attachments": {},
   "cell_type": "markdown",
   "metadata": {},
   "source": [
    "# Entrega 4 --- .82 de accuracy y .79 de recall"
   ]
  },
  {
   "attachments": {},
   "cell_type": "markdown",
   "metadata": {},
   "source": [
    "Vamos a ver ahora que hiperparámetros podemos mejorar"
   ]
  },
  {
   "cell_type": "code",
   "execution_count": 229,
   "metadata": {},
   "outputs": [
    {
     "data": {
      "text/plain": [
       "0.8510967598522121"
      ]
     },
     "execution_count": 229,
     "metadata": {},
     "output_type": "execute_result"
    }
   ],
   "source": [
    "# Hacemos una primera prueba para ver que indice AUC nos arroja\n",
    "\n",
    "x_train, x_test, y_train, y_test = train_test_split(X, y, test_size=0.25)\n",
    "\n",
    "dt = DecisionTreeClassifier()\n",
    "dt.fit(x_train, y_train)\n",
    "DecisionTreeClassifier(class_weight=None, criterion='gini', max_depth=None,\n",
    " max_features=None, max_leaf_nodes=None, min_samples_leaf=1,\n",
    " min_samples_split=2, min_weight_fraction_leaf=0.0, random_state=None, splitter='best')\n",
    "y_pred = dt.predict(x_test)\n",
    "false_positive_rate, true_positive_rate, thresholds = roc_curve(y_test, y_pred)\n",
    "roc_auc = auc(false_positive_rate, true_positive_rate)\n",
    "roc_auc\n",
    "\n",
    "\n"
   ]
  },
  {
   "cell_type": "code",
   "execution_count": 237,
   "metadata": {},
   "outputs": [
    {
     "data": {
      "image/png": "[encoded data removed]",
      "text/plain": [
       "<Figure size 640x480 with 1 Axes>"
      ]
     },
     "metadata": {},
     "output_type": "display_data"
    }
   ],
   "source": [
    "# Probamos con profundidades de 1 a 32\n",
    "\n",
    "max_depths = np.arange(1, 33)\n",
    "train_results = []\n",
    "test_results = []\n",
    "for max_depth in max_depths:\n",
    "   dt = DecisionTreeClassifier(max_depth=max_depth)\n",
    "   dt.fit(x_train, y_train)\n",
    "   train_pred = dt.predict(x_train)\n",
    "   false_positive_rate, true_positive_rate, thresholds = roc_curve(y_train, train_pred)\n",
    "   roc_auc = auc(false_positive_rate, true_positive_rate)\n",
    "   # Add auc score to previous train results\n",
    "   train_results.append(roc_auc)\n",
    "   y_pred = dt.predict(x_test)\n",
    "   false_positive_rate, true_positive_rate, thresholds = roc_curve(y_test, y_pred)\n",
    "   roc_auc = auc(false_positive_rate, true_positive_rate)\n",
    "   # Add auc score to previous test results\n",
    "   test_results.append(roc_auc)\n",
    "from matplotlib.legend_handler import HandlerLine2D\n",
    "line1, = plt.plot(max_depths, train_results, 'b', label='Train AUC')\n",
    "line2, = plt.plot(max_depths, test_results, 'r', label='Test AUC')\n",
    "plt.legend(handler_map={line1: HandlerLine2D(numpoints=2)})\n",
    "plt.ylabel('AUC score')\n",
    "plt.xlabel('Tree depth')\n",
    "plt.show()"
   ]
  },
  {
   "cell_type": "code",
   "execution_count": 240,
   "metadata": {},
   "outputs": [
    {
     "data": {
      "image/png": "[encoded data removed]",
      "text/plain": [
       "<Figure size 640x480 with 1 Axes>"
      ]
     },
     "metadata": {},
     "output_type": "display_data"
    }
   ],
   "source": [
    "# Probamos ahora con el hiperparámetro min_samples_splits de 0.1 a 1\n",
    "min_samples_splits = np.linspace(0.1, 1.0, 10, endpoint=True)\n",
    "train_results = []\n",
    "test_results = []\n",
    "for min_samples_split in min_samples_splits:\n",
    "   dt = DecisionTreeClassifier(min_samples_split=min_samples_split)\n",
    "   dt.fit(x_train, y_train)\n",
    "   train_pred = dt.predict(x_train)\n",
    "   false_positive_rate, true_positive_rate, thresholds =    roc_curve(y_train, train_pred)\n",
    "   roc_auc = auc(false_positive_rate, true_positive_rate)\n",
    "   train_results.append(roc_auc)\n",
    "   y_pred = dt.predict(x_test)\n",
    "   false_positive_rate, true_positive_rate, thresholds = roc_curve(y_test, y_pred)\n",
    "   roc_auc = auc(false_positive_rate, true_positive_rate)\n",
    "   test_results.append(roc_auc)\n",
    "from matplotlib.legend_handler import HandlerLine2D\n",
    "line1, = plt.plot(min_samples_splits, train_results, 'b', label='Train AUC')\n",
    "line2, = plt.plot(min_samples_splits, test_results, 'r', label='Test AUC')\n",
    "plt.legend(handler_map={line1: HandlerLine2D(numpoints=2)})\n",
    "plt.ylabel('AUC score')\n",
    "plt.xlabel('min samples split')\n",
    "plt.show()"
   ]
  },
  {
   "cell_type": "code",
   "execution_count": 242,
   "metadata": {},
   "outputs": [
    {
     "data": {
      "image/png": "[encoded data removed]",
      "text/plain": [
       "<Figure size 640x480 with 1 Axes>"
      ]
     },
     "metadata": {},
     "output_type": "display_data"
    }
   ],
   "source": [
    "# Probamos ahora con min_samples_leafs de 0.1 a 0.5\n",
    "min_samples_leafs = np.linspace(0.1, 0.5, 5, endpoint=True)\n",
    "train_results = []\n",
    "test_results = []\n",
    "for min_samples_leaf in min_samples_leafs:\n",
    "   dt = DecisionTreeClassifier(min_samples_leaf=min_samples_leaf)\n",
    "   dt.fit(x_train, y_train)\n",
    "   train_pred = dt.predict(x_train)\n",
    "   false_positive_rate, true_positive_rate, thresholds = roc_curve(y_train, train_pred)\n",
    "   roc_auc = auc(false_positive_rate, true_positive_rate)\n",
    "   train_results.append(roc_auc)\n",
    "   y_pred = dt.predict(x_test)\n",
    "   false_positive_rate, true_positive_rate, thresholds = roc_curve(y_test, y_pred)\n",
    "   roc_auc = auc(false_positive_rate, true_positive_rate)\n",
    "   test_results.append(roc_auc)\n",
    "from matplotlib.legend_handler import HandlerLine2D\n",
    "line1, = plt.plot(min_samples_leafs, train_results, 'b', label='Train AUC')\n",
    "line2, = plt.plot(min_samples_leafs, test_results, 'r', label='Test AUC')\n",
    "plt.legend(handler_map={line1: HandlerLine2D(numpoints=2)})\n",
    "plt.ylabel('AUC score')\n",
    "plt.xlabel('min samples leaf')\n",
    "plt.show()"
   ]
  },
  {
   "cell_type": "code",
   "execution_count": 245,
   "metadata": {},
   "outputs": [
    {
     "data": {
      "image/png": "[encoded data removed]",
      "text/plain": [
       "<Figure size 640x480 with 1 Axes>"
      ]
     },
     "metadata": {},
     "output_type": "display_data"
    }
   ],
   "source": [
    "# Probamos ahora limitando la cantidad de features a utilizar en cada decisión\n",
    "max_features = list(range(1,X.shape[1]))\n",
    "train_results = []\n",
    "test_results = []\n",
    "for max_feature in max_features:\n",
    "   dt = DecisionTreeClassifier(max_features=max_feature)\n",
    "   dt.fit(x_train, y_train)\n",
    "   train_pred = dt.predict(x_train)\n",
    "   false_positive_rate, true_positive_rate, thresholds = roc_curve(y_train, train_pred)\n",
    "   roc_auc = auc(false_positive_rate, true_positive_rate)\n",
    "   train_results.append(roc_auc)\n",
    "   y_pred = dt.predict(x_test)\n",
    "   false_positive_rate, true_positive_rate, thresholds = roc_curve(y_test, y_pred)\n",
    "   roc_auc = auc(false_positive_rate, true_positive_rate)\n",
    "   test_results.append(roc_auc)\n",
    "from matplotlib.legend_handler import HandlerLine2D\n",
    "line1, = plt.plot(max_features, train_results, 'b', label='Train AUC')\n",
    "line2, = plt.plot(max_features, test_results, 'r', label='Test AUC')\n",
    "plt.legend(handler_map={line1: HandlerLine2D(numpoints=2)})\n",
    "plt.ylabel('AUC score')\n",
    "plt.xlabel('max features')\n",
    "plt.show()"
   ]
  },
  {
   "cell_type": "code",
   "execution_count": 277,
   "metadata": {},
   "outputs": [
    {
     "data": {
      "text/plain": [
       "0.8543583677241489"
      ]
     },
     "execution_count": 277,
     "metadata": {},
     "output_type": "execute_result"
    }
   ],
   "source": [
    "# Probamos un modelo utilizando esos datos\n",
    "x_train, x_test, y_train, y_test = train_test_split(X, y, test_size=0.25)\n",
    "\n",
    "dt = DecisionTreeClassifier()\n",
    "dt.fit(x_train, y_train)\n",
    "DecisionTreeClassifier(class_weight=None, criterion='gini', max_depth=3,\n",
    " max_features=2, max_leaf_nodes=None, min_samples_leaf=2,\n",
    " min_samples_split=1, min_weight_fraction_leaf=0.0, random_state=None, splitter='best')\n",
    "y_pred = dt.predict(x_test)\n",
    "false_positive_rate, true_positive_rate, thresholds = roc_curve(y_test, y_pred)\n",
    "roc_auc = auc(false_positive_rate, true_positive_rate)\n",
    "roc_auc"
   ]
  },
  {
   "attachments": {},
   "cell_type": "markdown",
   "metadata": {},
   "source": [
    "Vemos una leve mejoría"
   ]
  },
  {
   "cell_type": "code",
   "execution_count": 315,
   "metadata": {},
   "outputs": [
    {
     "name": "stdout",
     "output_type": "stream",
     "text": [
      "Precisión en el set de entrenamiento:  0.98\n",
      "Precisión en el set de testeo:  0.85\n"
     ]
    }
   ],
   "source": [
    "clf = DecisionTreeClassifier(class_weight=None, criterion='gini', max_depth=25,\n",
    " max_features=3, max_leaf_nodes=None, min_samples_leaf=1,\n",
    " min_samples_split=2, min_weight_fraction_leaf=0.0, random_state=None, splitter='best')\n",
    "X_train, X_test, y_train, y_test = train_test_split(\n",
    "    X, y, test_size=0.25,\n",
    "    random_state=42) \n",
    "clf.fit(X_train, y_train)\n",
    "print('Precisión en el set de entrenamiento: {0: .2f}'.format(clf.score(X_train, y_train)))\n",
    "print('Precisión en el set de testeo: {0: .2f}'.format(clf.score(X_test, y_test)))"
   ]
  },
  {
   "cell_type": "code",
   "execution_count": 321,
   "metadata": {},
   "outputs": [],
   "source": [
    "y_pred = clf.predict(X_test)"
   ]
  },
  {
   "cell_type": "code",
   "execution_count": 322,
   "metadata": {},
   "outputs": [],
   "source": [
    "pd.DataFrame(y_pred).to_csv('adelgerbo.csv', index=False, header = False)"
   ]
  },
  {
   "attachments": {},
   "cell_type": "markdown",
   "metadata": {},
   "source": [
    "# Entrega 5 --- .89 de accuracy y .88 de recall"
   ]
  },
  {
   "cell_type": "code",
   "execution_count": 385,
   "metadata": {},
   "outputs": [
    {
     "data": {
      "text/html": [
       "<style>#sk-container-id-7 {color: black;background-color: white;}#sk-container-id-7 pre{padding: 0;}#sk-container-id-7 div.sk-toggleable {background-color: white;}#sk-container-id-7 label.sk-toggleable__label {cursor: pointer;display: block;width: 100%;margin-bottom: 0;padding: 0.3em;box-sizing: border-box;text-align: center;}#sk-container-id-7 label.sk-toggleable__label-arrow:before {content: \"▸\";float: left;margin-right: 0.25em;color: #696969;}#sk-container-id-7 label.sk-toggleable__label-arrow:hover:before {color: black;}#sk-container-id-7 div.sk-estimator:hover label.sk-toggleable__label-arrow:before {color: black;}#sk-container-id-7 div.sk-toggleable__content {max-height: 0;max-width: 0;overflow: hidden;text-align: left;background-color: #f0f8ff;}#sk-container-id-7 div.sk-toggleable__content pre {margin: 0.2em;color: black;border-radius: 0.25em;background-color: #f0f8ff;}#sk-container-id-7 input.sk-toggleable__control:checked~div.sk-toggleable__content {max-height: 200px;max-width: 100%;overflow: auto;}#sk-container-id-7 input.sk-toggleable__control:checked~label.sk-toggleable__label-arrow:before {content: \"▾\";}#sk-container-id-7 div.sk-estimator input.sk-toggleable__control:checked~label.sk-toggleable__label {background-color: #d4ebff;}#sk-container-id-7 div.sk-label input.sk-toggleable__control:checked~label.sk-toggleable__label {background-color: #d4ebff;}#sk-container-id-7 input.sk-hidden--visually {border: 0;clip: rect(1px 1px 1px 1px);clip: rect(1px, 1px, 1px, 1px);height: 1px;margin: -1px;overflow: hidden;padding: 0;position: absolute;width: 1px;}#sk-container-id-7 div.sk-estimator {font-family: monospace;background-color: #f0f8ff;border: 1px dotted black;border-radius: 0.25em;box-sizing: border-box;margin-bottom: 0.5em;}#sk-container-id-7 div.sk-estimator:hover {background-color: #d4ebff;}#sk-container-id-7 div.sk-parallel-item::after {content: \"\";width: 100%;border-bottom: 1px solid gray;flex-grow: 1;}#sk-container-id-7 div.sk-label:hover label.sk-toggleable__label {background-color: #d4ebff;}#sk-container-id-7 div.sk-serial::before {content: \"\";position: absolute;border-left: 1px solid gray;box-sizing: border-box;top: 0;bottom: 0;left: 50%;z-index: 0;}#sk-container-id-7 div.sk-serial {display: flex;flex-direction: column;align-items: center;background-color: white;padding-right: 0.2em;padding-left: 0.2em;position: relative;}#sk-container-id-7 div.sk-item {position: relative;z-index: 1;}#sk-container-id-7 div.sk-parallel {display: flex;align-items: stretch;justify-content: center;background-color: white;position: relative;}#sk-container-id-7 div.sk-item::before, #sk-container-id-7 div.sk-parallel-item::before {content: \"\";position: absolute;border-left: 1px solid gray;box-sizing: border-box;top: 0;bottom: 0;left: 50%;z-index: -1;}#sk-container-id-7 div.sk-parallel-item {display: flex;flex-direction: column;z-index: 1;position: relative;background-color: white;}#sk-container-id-7 div.sk-parallel-item:first-child::after {align-self: flex-end;width: 50%;}#sk-container-id-7 div.sk-parallel-item:last-child::after {align-self: flex-start;width: 50%;}#sk-container-id-7 div.sk-parallel-item:only-child::after {width: 0;}#sk-container-id-7 div.sk-dashed-wrapped {border: 1px dashed gray;margin: 0 0.4em 0.5em 0.4em;box-sizing: border-box;padding-bottom: 0.4em;background-color: white;}#sk-container-id-7 div.sk-label label {font-family: monospace;font-weight: bold;display: inline-block;line-height: 1.2em;}#sk-container-id-7 div.sk-label-container {text-align: center;}#sk-container-id-7 div.sk-container {/* jupyter's `normalize.less` sets `[hidden] { display: none; }` but bootstrap.min.css set `[hidden] { display: none !important; }` so we also need the `!important` here to be able to override the default hidden behavior on the sphinx rendered scikit-learn.org. See: https://github.com/scikit-learn/scikit-learn/issues/21755 */display: inline-block !important;position: relative;}#sk-container-id-7 div.sk-text-repr-fallback {display: none;}</style><div id=\"sk-container-id-7\" class=\"sk-top-container\"><div class=\"sk-text-repr-fallback\"><pre>DecisionTreeClassifier(max_depth=25, max_features=3)</pre><b>In a Jupyter environment, please rerun this cell to show the HTML representation or trust the notebook. <br />On GitHub, the HTML representation is unable to render, please try loading this page with nbviewer.org.</b></div><div class=\"sk-container\" hidden><div class=\"sk-item\"><div class=\"sk-estimator sk-toggleable\"><input class=\"sk-toggleable__control sk-hidden--visually\" id=\"sk-estimator-id-7\" type=\"checkbox\" checked><label for=\"sk-estimator-id-7\" class=\"sk-toggleable__label sk-toggleable__label-arrow\">DecisionTreeClassifier</label><div class=\"sk-toggleable__content\"><pre>DecisionTreeClassifier(max_depth=25, max_features=3)</pre></div></div></div></div></div>"
      ],
      "text/plain": [
       "DecisionTreeClassifier(max_depth=25, max_features=3)"
      ]
     },
     "execution_count": 385,
     "metadata": {},
     "output_type": "execute_result"
    }
   ],
   "source": [
    "# Hacemos una prueba ahora sin separar en train y test, entrenando con todos los\n",
    "# y comprobando el accuracy directamente con Henry\n",
    "\n",
    "clf = DecisionTreeClassifier(class_weight=None, criterion='gini', max_depth=25,\n",
    " max_features=3, max_leaf_nodes=None, min_samples_leaf=1,\n",
    " min_samples_split=2, min_weight_fraction_leaf=0.0, random_state=None, splitter='best')\n",
    "clf.fit(X, y)\n"
   ]
  },
  {
   "cell_type": "code",
   "execution_count": 387,
   "metadata": {},
   "outputs": [],
   "source": [
    "X_test = testeo_henry_v2\n",
    "y_pred = clf.predict(X_test)\n",
    "\n"
   ]
  },
  {
   "cell_type": "code",
   "execution_count": 389,
   "metadata": {},
   "outputs": [],
   "source": [
    "pd.DataFrame(y_pred).to_csv('adelgerbo.csv', index=False, header = False)"
   ]
  },
  {
   "attachments": {},
   "cell_type": "markdown",
   "metadata": {},
   "source": [
    "# Entrega 6 --- .90 de accuracy y .89 de recall"
   ]
  },
  {
   "attachments": {},
   "cell_type": "markdown",
   "metadata": {},
   "source": [
    "El modelo mejora un 1% entrenando con mas datos"
   ]
  },
  {
   "cell_type": "code",
   "execution_count": 329,
   "metadata": {},
   "outputs": [],
   "source": [
    "inmuebles_v3 = inmuebles_v2.drop([\"type\",\"smoking_allowed\",\"publicaciones\"], axis=1)"
   ]
  },
  {
   "cell_type": "code",
   "execution_count": 331,
   "metadata": {},
   "outputs": [
    {
     "data": {
      "text/html": [
       "<div>\n",
       "<style scoped>\n",
       "    .dataframe tbody tr th:only-of-type {\n",
       "        vertical-align: middle;\n",
       "    }\n",
       "\n",
       "    .dataframe tbody tr th {\n",
       "        vertical-align: top;\n",
       "    }\n",
       "\n",
       "    .dataframe thead th {\n",
       "        text-align: right;\n",
       "    }\n",
       "</style>\n",
       "<table border=\"1\" class=\"dataframe\">\n",
       "  <thead>\n",
       "    <tr style=\"text-align: right;\">\n",
       "      <th></th>\n",
       "      <th>sqfeet</th>\n",
       "      <th>beds</th>\n",
       "      <th>baths</th>\n",
       "      <th>laundry_options</th>\n",
       "      <th>parking_options</th>\n",
       "      <th>long</th>\n",
       "      <th>category_price</th>\n",
       "    </tr>\n",
       "  </thead>\n",
       "  <tbody>\n",
       "    <tr>\n",
       "      <th>sqfeet</th>\n",
       "      <td>1.000000</td>\n",
       "      <td>0.679677</td>\n",
       "      <td>0.613041</td>\n",
       "      <td>0.004750</td>\n",
       "      <td>0.216821</td>\n",
       "      <td>0.034267</td>\n",
       "      <td>-0.241504</td>\n",
       "    </tr>\n",
       "    <tr>\n",
       "      <th>beds</th>\n",
       "      <td>0.679677</td>\n",
       "      <td>1.000000</td>\n",
       "      <td>0.647199</td>\n",
       "      <td>-0.067405</td>\n",
       "      <td>0.145740</td>\n",
       "      <td>0.027593</td>\n",
       "      <td>-0.160611</td>\n",
       "    </tr>\n",
       "    <tr>\n",
       "      <th>baths</th>\n",
       "      <td>0.613041</td>\n",
       "      <td>0.647199</td>\n",
       "      <td>1.000000</td>\n",
       "      <td>0.031217</td>\n",
       "      <td>0.163266</td>\n",
       "      <td>-0.020431</td>\n",
       "      <td>-0.235989</td>\n",
       "    </tr>\n",
       "    <tr>\n",
       "      <th>laundry_options</th>\n",
       "      <td>0.004750</td>\n",
       "      <td>-0.067405</td>\n",
       "      <td>0.031217</td>\n",
       "      <td>1.000000</td>\n",
       "      <td>0.379282</td>\n",
       "      <td>-0.113765</td>\n",
       "      <td>-0.219402</td>\n",
       "    </tr>\n",
       "    <tr>\n",
       "      <th>parking_options</th>\n",
       "      <td>0.216821</td>\n",
       "      <td>0.145740</td>\n",
       "      <td>0.163266</td>\n",
       "      <td>0.379282</td>\n",
       "      <td>1.000000</td>\n",
       "      <td>-0.215125</td>\n",
       "      <td>-0.192686</td>\n",
       "    </tr>\n",
       "    <tr>\n",
       "      <th>long</th>\n",
       "      <td>0.034267</td>\n",
       "      <td>0.027593</td>\n",
       "      <td>-0.020431</td>\n",
       "      <td>-0.113765</td>\n",
       "      <td>-0.215125</td>\n",
       "      <td>1.000000</td>\n",
       "      <td>0.169795</td>\n",
       "    </tr>\n",
       "    <tr>\n",
       "      <th>category_price</th>\n",
       "      <td>-0.241504</td>\n",
       "      <td>-0.160611</td>\n",
       "      <td>-0.235989</td>\n",
       "      <td>-0.219402</td>\n",
       "      <td>-0.192686</td>\n",
       "      <td>0.169795</td>\n",
       "      <td>1.000000</td>\n",
       "    </tr>\n",
       "  </tbody>\n",
       "</table>\n",
       "</div>"
      ],
      "text/plain": [
       "                   sqfeet      beds     baths  laundry_options  \\\n",
       "sqfeet           1.000000  0.679677  0.613041         0.004750   \n",
       "beds             0.679677  1.000000  0.647199        -0.067405   \n",
       "baths            0.613041  0.647199  1.000000         0.031217   \n",
       "laundry_options  0.004750 -0.067405  0.031217         1.000000   \n",
       "parking_options  0.216821  0.145740  0.163266         0.379282   \n",
       "long             0.034267  0.027593 -0.020431        -0.113765   \n",
       "category_price  -0.241504 -0.160611 -0.235989        -0.219402   \n",
       "\n",
       "                 parking_options      long  category_price  \n",
       "sqfeet                  0.216821  0.034267       -0.241504  \n",
       "beds                    0.145740  0.027593       -0.160611  \n",
       "baths                   0.163266 -0.020431       -0.235989  \n",
       "laundry_options         0.379282 -0.113765       -0.219402  \n",
       "parking_options         1.000000 -0.215125       -0.192686  \n",
       "long                   -0.215125  1.000000        0.169795  \n",
       "category_price         -0.192686  0.169795        1.000000  "
      ]
     },
     "execution_count": 331,
     "metadata": {},
     "output_type": "execute_result"
    }
   ],
   "source": [
    "# Volvemos a revisar correlaciones\n",
    "inmuebles_v3.corr()"
   ]
  },
  {
   "cell_type": "code",
   "execution_count": 398,
   "metadata": {},
   "outputs": [
    {
     "name": "stdout",
     "output_type": "stream",
     "text": [
      "Precisión en el set de entrenamiento:  0.99\n",
      "Precisión en el set de testeo:  0.86\n"
     ]
    }
   ],
   "source": [
    "# Hacemos una prueba eliminando el dato de \"Beds\", ya que tiene alta correlacion\n",
    "# con \"Sqfeet\" y \"Baths\"\n",
    "clf = DecisionTreeClassifier(class_weight=None, criterion='gini', max_depth=None)\n",
    "X_train, X_test, y_train, y_test = train_test_split(\n",
    "    X.drop([\"beds\"],axis=1), y, test_size=0.01,\n",
    "    random_state=42) \n",
    "clf.fit(X_train, y_train)\n",
    "print('Precisión en el set de entrenamiento: {0: .2f}'.format(clf.score(X_train, y_train)))\n",
    "print('Precisión en el set de testeo: {0: .2f}'.format(clf.score(X_test, y_test)))"
   ]
  },
  {
   "cell_type": "code",
   "execution_count": 403,
   "metadata": {},
   "outputs": [],
   "source": [
    "X_test = testeo_henry_v2.drop([\"beds\"],axis=1)"
   ]
  },
  {
   "cell_type": "code",
   "execution_count": 404,
   "metadata": {},
   "outputs": [],
   "source": [
    "y_pred = clf.predict(X_test)"
   ]
  },
  {
   "cell_type": "code",
   "execution_count": 405,
   "metadata": {},
   "outputs": [],
   "source": [
    "pd.DataFrame(y_pred).to_csv('adelgerbo.csv', index=False, header = False)"
   ]
  },
  {
   "attachments": {},
   "cell_type": "markdown",
   "metadata": {},
   "source": [
    "# Entrega 7 --- .91 de accuracy y .90 de recall"
   ]
  },
  {
   "attachments": {},
   "cell_type": "markdown",
   "metadata": {},
   "source": [
    "### Hemos realizado 7 entregas, y en cada una de ellas ha ido mejorando la perfomance del modelo. Habiendo superado el 90% de accuracy, entendemos que es un modelo con un buen desempeño."
   ]
  },
  {
   "attachments": {},
   "cell_type": "markdown",
   "metadata": {},
   "source": [
    "Resumimos aquí los scores obtenidos:\n",
    "\n",
    "Entrega 1 --- Accuracy 0.7169 --- Recall 0.6784\n",
    "\n",
    "Entrega 2 --- Accuracy 0.7408 --- Recall 0.7031\n",
    "\n",
    "Entrega 3 --- Accuracy 0.7924 --- Recall 0.7818\n",
    "\n",
    "Entrega 4 --- Accuracy 0.8184 --- Recall 0.7942\n",
    "\n",
    "Entrega 5 --- Accuracy 0.8879 --- Recall 0.8829\n",
    "\n",
    "Entrega 6 --- Accuracy 0.9028 --- Recall 0.8935\n",
    "\n",
    "Entrega 7 --- Accuracy 0.9096 --- Recall 0.9034\n"
   ]
  },
  {
   "cell_type": "code",
   "execution_count": 409,
   "metadata": {},
   "outputs": [],
   "source": [
    "# Exportamos para usar en el metodo no supervisado\n",
    "X.drop([\"beds\"],axis=1).to_csv(\"para_importar_no_supervisado_entrenamiento.csv\", index=False)\n",
    "X_test.to_csv(\"para_importar_no_supervisado_testeo_henry.csv\", index=False)"
   ]
  }
 ],
 "metadata": {
  "kernelspec": {
   "display_name": "Python 3",
   "language": "python",
   "name": "python3"
  },
  "language_info": {
   "codemirror_mode": {
    "name": "ipython",
    "version": 3
   },
   "file_extension": ".py",
   "mimetype": "text/x-python",
   "name": "python",
   "nbconvert_exporter": "python",
   "pygments_lexer": "ipython3",
   "version": "3.10.6"
  },
  "orig_nbformat": 4,
  "vscode": {
   "interpreter": {
    "hash": "9a8ac931c2da658386087c1aeacfbaae947468c457a926ada196b02a9b560fa1"
   }
  }
 },
 "nbformat": 4,
 "nbformat_minor": 2
}
